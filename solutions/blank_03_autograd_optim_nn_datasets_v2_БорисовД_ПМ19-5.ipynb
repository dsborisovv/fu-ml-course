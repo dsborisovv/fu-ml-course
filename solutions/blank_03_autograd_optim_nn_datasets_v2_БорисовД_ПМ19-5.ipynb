{
 "cells": [
  {
   "cell_type": "code",
   "execution_count": 1,
   "metadata": {
    "ExecuteTime": {
     "end_time": "2022-11-07T22:17:27.516859Z",
     "start_time": "2022-11-07T22:17:24.918873Z"
    },
    "id": "6ktSXdQVb9Li"
   },
   "outputs": [],
   "source": [
    "import torch\n",
    "import numpy as np"
   ]
  },
  {
   "cell_type": "markdown",
   "metadata": {
    "id": "4L7Inb1JbiDy"
   },
   "source": [
    "## 3.1 Автоматическое дифференцирование в `torch`"
   ]
  },
  {
   "cell_type": "markdown",
   "metadata": {
    "id": "HsZ69HZ0EsI7"
   },
   "source": [
    "3.1.1 Воспользовавшись классами `Neuron` и `SquaredLoss` из задачи 2.4.1 и автоматическим дифференцированием, которое предоставляет `torch`, решить задачу регрессии. Для оптимизации использовать стохастический градиетный спуск."
   ]
  },
  {
   "cell_type": "code",
   "execution_count": 23,
   "metadata": {
    "ExecuteTime": {
     "end_time": "2022-11-07T22:36:38.962915Z",
     "start_time": "2022-11-07T22:36:38.946409Z"
    },
    "id": "zynPAaOrRKTm"
   },
   "outputs": [],
   "source": [
    "from sklearn.datasets import make_regression\n",
    "\n",
    "X, y, coef = make_regression(n_features=4, n_informative=4, coef=True, bias=0.5)\n",
    "X = torch.from_numpy(X).to(dtype=torch.float32)\n",
    "y = torch.from_numpy(y).to(dtype=torch.float32)"
   ]
  },
  {
   "cell_type": "code",
   "execution_count": 24,
   "metadata": {
    "ExecuteTime": {
     "end_time": "2022-11-07T22:36:39.267649Z",
     "start_time": "2022-11-07T22:36:39.251365Z"
    }
   },
   "outputs": [],
   "source": [
    "class Neuron:\n",
    "    def __init__(self, n_inputs):\n",
    "        self.weights = torch.randn(n_inputs, 1, requires_grad=True)\n",
    "        self.bias = torch.randn(1, 1, requires_grad=True)\n",
    "\n",
    "    def forward(self, inputs):\n",
    "        return inputs @ self.weights + self.bias\n",
    "\n",
    "    def backward(self):\n",
    "        self.dweights = self.weights.grad\n",
    "        self.dbias = self.bias.grad\n",
    "\n",
    "class SquaredLoss:\n",
    "    def forward(self, y_pred, y_true):\n",
    "        self.loss = (y_pred - y_true).pow(2).mean()\n",
    "        return self.loss\n",
    "\n",
    "    def backward(self):\n",
    "        self.loss.backward()"
   ]
  },
  {
   "cell_type": "code",
   "execution_count": 25,
   "metadata": {
    "ExecuteTime": {
     "end_time": "2022-11-07T22:36:43.542805Z",
     "start_time": "2022-11-07T22:36:39.507754Z"
    }
   },
   "outputs": [
    {
     "name": "stdout",
     "output_type": "stream",
     "text": [
      "Epoch 0: 0.001362422714009881\n",
      "Epoch 50: 0.0\n",
      "Epoch 100: 0.0\n"
     ]
    },
    {
     "data": {
      "text/plain": [
       "tensor([[80.7262],\n",
       "        [46.4226],\n",
       "        [18.2388],\n",
       "        [68.3044]], requires_grad=True)"
      ]
     },
     "execution_count": 25,
     "metadata": {},
     "output_type": "execute_result"
    }
   ],
   "source": [
    "neuron = Neuron(4)\n",
    "loss = SquaredLoss()\n",
    "alpha = 0.05\n",
    "\n",
    "for epoch in range(101):\n",
    "    for x_example, y_example in zip(X, y):\n",
    "        y_pred = neuron.forward(x_example)\n",
    "        loss.forward(y_pred, y_example)\n",
    "        loss.backward()\n",
    "        neuron.backward()\n",
    "        with torch.no_grad():\n",
    "            neuron.weights -= alpha * neuron.dweights\n",
    "            neuron.bias -= alpha * neuron.dbias\n",
    "            \n",
    "        neuron.weights.grad.zero_()\n",
    "        neuron.bias.grad.zero_()\n",
    "    \n",
    "    if epoch % 50 == 0:\n",
    "        print(f\"Epoch {epoch}: {loss.loss}\")\n",
    "\n",
    "neuron.weights"
   ]
  },
  {
   "cell_type": "markdown",
   "metadata": {
    "id": "wxWeyJw5lAqU"
   },
   "source": [
    "3.1.2 Воспользовавшись классами `Linear` и `MSELoss` из задачи 2.1.4 и 2.3.1, `ReLU` из 2.2.1 и автоматическим дифференцированием, которое предоставляет `torch`, решить задачу регрессии. Для оптимизации использовать пакетный градиентный спуск. Вывести график функции потерь в зависимости от номера эпохи. Вывести на одном графике исходные данные и предсказанные значения."
   ]
  },
  {
   "cell_type": "code",
   "execution_count": 26,
   "metadata": {
    "ExecuteTime": {
     "end_time": "2022-11-07T22:36:51.652523Z",
     "start_time": "2022-11-07T22:36:51.643349Z"
    },
    "id": "bnlAt1NEQoat"
   },
   "outputs": [],
   "source": [
    "X = torch.linspace(0, 1, 100).view(-1, 1)\n",
    "y = torch.sin(2 * np.pi * X) + 0.1 * torch.rand(X.size()) "
   ]
  },
  {
   "cell_type": "code",
   "execution_count": 60,
   "metadata": {
    "ExecuteTime": {
     "end_time": "2022-11-07T23:02:03.569256Z",
     "start_time": "2022-11-07T23:02:03.551723Z"
    }
   },
   "outputs": [],
   "source": [
    "class Linear:\n",
    "    def __init__(self, n_features, n_neurons): \n",
    "        \n",
    "        self.weights = torch.randn(n_features, n_neurons, requires_grad=True)\n",
    "        self.biases = torch.randn(n_neurons, requires_grad=True)\n",
    " \n",
    "    def forward(self, inputs):\n",
    "        return inputs @ self.weights + self.biases \n",
    "\n",
    "    def backward(self):\n",
    "        self.dweights = self.weights.grad\n",
    "        self.dbiases = self.biases.grad\n",
    "\n",
    "class MSELoss:\n",
    "    def forward(self, y_pred, y_true):\n",
    "        self.loss = (y_pred.flatten() - y_true.flatten()).pow(2).mean()\n",
    "        return self.loss\n",
    "\n",
    "    def backward(self):\n",
    "        self.loss.backward()\n",
    "        \n",
    "class Activation_ReLU:\n",
    "    def forward(self, inputs):\n",
    "        self.inputs = inputs\n",
    "        self.output = inputs.clamp(min=0)\n",
    "        return self.output\n",
    "\n",
    "    def backward(self):\n",
    "        self.dinputs = self.inputs.clamp(min=0)"
   ]
  },
  {
   "cell_type": "code",
   "execution_count": 97,
   "metadata": {
    "ExecuteTime": {
     "end_time": "2022-11-07T23:13:00.658883Z",
     "start_time": "2022-11-07T23:12:59.816156Z"
    },
    "scrolled": true
   },
   "outputs": [
    {
     "name": "stdout",
     "output_type": "stream",
     "text": [
      "epoch 0 loss 99.49938201904297\n",
      "epoch 100 loss 0.22670185565948486\n",
      "epoch 200 loss 0.1994979828596115\n",
      "epoch 300 loss 0.19301708042621613\n",
      "epoch 400 loss 0.1869528889656067\n",
      "epoch 500 loss 0.18065530061721802\n",
      "epoch 600 loss 0.17379118502140045\n",
      "epoch 700 loss 0.1670558601617813\n",
      "epoch 800 loss 0.16072817146778107\n",
      "epoch 900 loss 0.1545661836862564\n",
      "epoch 1000 loss 0.14841392636299133\n"
     ]
    }
   ],
   "source": [
    "lin_1 = Linear(1, 100)\n",
    "relu = Activation_ReLU()\n",
    "lin_2 = Linear(100, 1)\n",
    "\n",
    "loss = MSELoss()\n",
    "alpha = 0.05\n",
    "\n",
    "y_pred = []\n",
    "losses = []\n",
    "\n",
    "for epoch in range(1001):\n",
    "    out = lin_2.forward(relu.forward(lin_1.forward(X)))\n",
    "    loss_1 = loss.forward(out, y)\n",
    "    losses.append(loss_1.detach())\n",
    "    \n",
    "    if epoch % 100 == 0:\n",
    "        print(f'epoch {epoch} loss {loss_1}')\n",
    "        y_pred.append(out.flatten())\n",
    "\n",
    "    loss.backward()\n",
    "    lin_2.backward()\n",
    "    lin_1.backward()\n",
    "\n",
    "    with torch.no_grad():\n",
    "        lin_1.weights -= alpha * lin_1.dweights\n",
    "        lin_1.biases -= alpha * lin_1.dbiases\n",
    "        lin_2.weights -= alpha * lin_2.dweights\n",
    "        lin_2.biases -= alpha * lin_2.dbiases\n",
    "\n",
    "    lin_1.weights.grad.zero_()\n",
    "    lin_1.biases.grad.zero_()\n",
    "    lin_2.weights.grad.zero_()\n",
    "    lin_2.biases.grad.zero_()"
   ]
  },
  {
   "cell_type": "code",
   "execution_count": 98,
   "metadata": {
    "ExecuteTime": {
     "end_time": "2022-11-07T23:13:00.976405Z",
     "start_time": "2022-11-07T23:13:00.660445Z"
    },
    "scrolled": true
   },
   "outputs": [
    {
     "data": {
      "text/plain": [
       "<AxesSubplot:>"
      ]
     },
     "execution_count": 98,
     "metadata": {},
     "output_type": "execute_result"
    },
    {
     "data": {
      "image/png": "[encoded data removed]",
      "text/plain": [
       "<Figure size 432x288 with 1 Axes>"
      ]
     },
     "metadata": {
      "needs_background": "light"
     },
     "output_type": "display_data"
    }
   ],
   "source": [
    "import seaborn as sns\n",
    "losses = [i.item() for i in losses]\n",
    "sns.lineplot(x=[i for i in range(1001)], y=losses)"
   ]
  },
  {
   "cell_type": "code",
   "execution_count": 99,
   "metadata": {
    "ExecuteTime": {
     "end_time": "2022-11-07T23:13:01.966566Z",
     "start_time": "2022-11-07T23:13:01.656050Z"
    }
   },
   "outputs": [
    {
     "data": {
      "text/plain": [
       "<AxesSubplot:>"
      ]
     },
     "execution_count": 99,
     "metadata": {},
     "output_type": "execute_result"
    },
    {
     "data": {
      "image/png": "[encoded data removed]",
      "text/plain": [
       "<Figure size 432x288 with 1 Axes>"
      ]
     },
     "metadata": {
      "needs_background": "light"
     },
     "output_type": "display_data"
    }
   ],
   "source": [
    "sns.scatterplot(x=X.flatten(), y=y.flatten())\n",
    "sns.scatterplot(x=X.flatten(), y=y_pred[-1].detach().numpy())"
   ]
  },
  {
   "cell_type": "markdown",
   "metadata": {
    "id": "nifm0FVB2y5N"
   },
   "source": [
    "## 3.2 Алгоритмы оптимизации в `torch.optim`"
   ]
  },
  {
   "cell_type": "code",
   "execution_count": 102,
   "metadata": {
    "ExecuteTime": {
     "end_time": "2022-11-07T23:15:45.604110Z",
     "start_time": "2022-11-07T23:15:45.590832Z"
    },
    "id": "u5PTTYou3xx8"
   },
   "outputs": [],
   "source": [
    "import torch.optim as optim"
   ]
  },
  {
   "cell_type": "markdown",
   "metadata": {
    "id": "0oBFfJpmcwfn"
   },
   "source": [
    "3.2.1 Решить задачу 3.1.1, воспользовавшись оптимизатором `optim.SDG` для применения стохастического градиентого спуска"
   ]
  },
  {
   "cell_type": "code",
   "execution_count": 104,
   "metadata": {
    "ExecuteTime": {
     "end_time": "2022-11-07T23:16:05.201198Z",
     "start_time": "2022-11-07T23:16:00.574588Z"
    }
   },
   "outputs": [
    {
     "name": "stdout",
     "output_type": "stream",
     "text": [
      "Epoch 0: 882.4995727539062\n",
      "Epoch 50: 2.0954757928848267e-09\n",
      "Epoch 100: 2.0954757928848267e-09\n"
     ]
    },
    {
     "data": {
      "text/plain": [
       "tensor([[58.0738],\n",
       "        [74.5463],\n",
       "        [87.2157],\n",
       "        [38.5551]], requires_grad=True)"
      ]
     },
     "execution_count": 104,
     "metadata": {},
     "output_type": "execute_result"
    }
   ],
   "source": [
    "X, y, coef = make_regression(n_features=4, n_informative=4, coef=True, bias=0.5)\n",
    "X = torch.from_numpy(X).to(dtype=torch.float32)\n",
    "y = torch.from_numpy(y).to(dtype=torch.float32)\n",
    "\n",
    "neuron = Neuron(4)\n",
    "loss = SquaredLoss()\n",
    "optimizer = torch.optim.SGD([neuron.weights, neuron.bias], lr=0.01)\n",
    "\n",
    "for epoch in range(101):\n",
    "    for x_example, y_example in zip(X, y):\n",
    "        y_pred = neuron.forward(x_example)\n",
    "        loss.forward(y_pred, y_example)\n",
    "        loss.backward()\n",
    "        neuron.backward()\n",
    "        with torch.no_grad():\n",
    "            optimizer.step()\n",
    "            \n",
    "        neuron.weights.grad.zero_()\n",
    "        neuron.bias.grad.zero_()\n",
    "    \n",
    "    if epoch % 50 == 0:\n",
    "        print(f\"Epoch {epoch}: {loss.loss}\")\n",
    "\n",
    "neuron.weights"
   ]
  },
  {
   "cell_type": "markdown",
   "metadata": {
    "id": "1LFAacdy46bX"
   },
   "source": [
    "3.2.2 Решить задачу 3.1.2, воспользовавшись оптимизатором `optim.Adam` для применения пакетного градиентого спуска. Вывести график функции потерь в зависимости от номера эпохи. Вывести на одном графике исходные данные и предсказанные значения."
   ]
  },
  {
   "cell_type": "code",
   "execution_count": 110,
   "metadata": {
    "ExecuteTime": {
     "end_time": "2022-11-07T23:22:05.065993Z",
     "start_time": "2022-11-07T23:20:58.173124Z"
    }
   },
   "outputs": [
    {
     "name": "stdout",
     "output_type": "stream",
     "text": [
      "Epoch 0: 661.4866943359375\n",
      "Epoch 50: 589.1421508789062\n",
      "Epoch 100: 520.9338989257812\n",
      "Epoch 150: 457.0640869140625\n",
      "Epoch 200: 397.5238342285156\n",
      "Epoch 250: 342.28656005859375\n",
      "Epoch 300: 291.3374938964844\n",
      "Epoch 350: 244.6587371826172\n",
      "Epoch 400: 202.21505737304688\n",
      "Epoch 450: 164.0000762939453\n",
      "Epoch 500: 129.96942138671875\n",
      "Epoch 550: 100.07955169677734\n",
      "Epoch 600: 74.2537841796875\n",
      "Epoch 650: 52.46665954589844\n",
      "Epoch 700: 34.61881637573242\n",
      "Epoch 750: 20.62600326538086\n",
      "Epoch 800: 10.360179901123047\n",
      "Epoch 850: 3.687096118927002\n",
      "Epoch 900: 0.42171138525009155\n",
      "Epoch 950: 0.34491604566574097\n",
      "Epoch 1000: 3.1782898902893066\n"
     ]
    },
    {
     "data": {
      "text/plain": [
       "tensor([[13.2370],\n",
       "        [57.2018],\n",
       "        [48.2806],\n",
       "        [15.6033]])"
      ]
     },
     "execution_count": 110,
     "metadata": {},
     "output_type": "execute_result"
    }
   ],
   "source": [
    "X, y, coef = make_regression(n_features=4, n_informative=4, coef=True, bias=0.5)\n",
    "X = torch.from_numpy(X).to(dtype=torch.float32)\n",
    "y = torch.from_numpy(y).to(dtype=torch.float32)\n",
    "\n",
    "neuron = Neuron(4)\n",
    "loss = SquaredLoss()\n",
    "optimizer = torch.optim.Adam([neuron.weights, neuron.bias])\n",
    "\n",
    "for epoch in range(1001):\n",
    "    for x_example, y_example in zip(X, y):\n",
    "        y_pred = neuron.forward(x_example)\n",
    "        loss.forward(y_pred, y_example)\n",
    "        loss.backward()\n",
    "        neuron.backward()\n",
    "        with torch.no_grad():\n",
    "            optimizer.step()\n",
    "        neuron.weights.grad.zero_()\n",
    "        neuron.bias.grad.zero_()\n",
    "    \n",
    "    if epoch % 50 == 0:\n",
    "        print(f\"Epoch {epoch}: {loss.loss}\")\n",
    "\n",
    "neuron.weights.data"
   ]
  },
  {
   "cell_type": "code",
   "execution_count": 111,
   "metadata": {
    "ExecuteTime": {
     "end_time": "2022-11-07T23:22:05.085205Z",
     "start_time": "2022-11-07T23:22:05.067061Z"
    }
   },
   "outputs": [
    {
     "data": {
      "text/plain": [
       "array([21.34405568, 84.1586019 , 84.54193122, 11.69679564])"
      ]
     },
     "execution_count": 111,
     "metadata": {},
     "output_type": "execute_result"
    }
   ],
   "source": [
    "coef"
   ]
  },
  {
   "cell_type": "markdown",
   "metadata": {
    "id": "n-qUqdALiN-G"
   },
   "source": [
    "## 3.3 Построение сетей при помощи `torch.nn`"
   ]
  },
  {
   "cell_type": "code",
   "execution_count": 112,
   "metadata": {
    "ExecuteTime": {
     "end_time": "2022-11-07T23:22:33.950721Z",
     "start_time": "2022-11-07T23:22:33.942719Z"
    },
    "id": "Vxsck-1M6TAV"
   },
   "outputs": [],
   "source": [
    "import torch.nn as nn"
   ]
  },
  {
   "cell_type": "markdown",
   "metadata": {
    "id": "M0ICJtarif3_"
   },
   "source": [
    "3.3.1 Решить задачу регрессии, соблюдая следующие условия:\n",
    "\n",
    "1. Оформить нейронную сеть в виде класса - наследника `nn.Module`\n",
    "2. При создании сети использовать готовые блоки из `torch.nn`: слои, функции активации, функции потерь и т.д.\n",
    "3. Для оптимизации использовать любой алгоритм оптимизации из `torch.optim` "
   ]
  },
  {
   "cell_type": "code",
   "execution_count": 113,
   "metadata": {
    "ExecuteTime": {
     "end_time": "2022-11-07T23:22:44.428023Z",
     "start_time": "2022-11-07T23:22:44.413473Z"
    },
    "id": "L1bvXHhO7aWs"
   },
   "outputs": [],
   "source": [
    "X = torch.linspace(0, 1, 100).view(-1, 1)\n",
    "y = torch.sin(2 * np.pi * X) + 0.1 * torch.rand(X.size()) "
   ]
  },
  {
   "cell_type": "code",
   "execution_count": 118,
   "metadata": {
    "ExecuteTime": {
     "end_time": "2022-11-07T23:27:33.449791Z",
     "start_time": "2022-11-07T23:27:33.244367Z"
    }
   },
   "outputs": [
    {
     "name": "stdout",
     "output_type": "stream",
     "text": [
      "Epoch 0: 0.5848522782325745\n",
      "Epoch 50: 0.27085408568382263\n",
      "Epoch 100: 0.18988941609859467\n"
     ]
    }
   ],
   "source": [
    "class NN_Model(torch.nn.Module):\n",
    "    def __init__(self, input_size=1, hidden_size=100, output_size=1):\n",
    "        super().__init__()\n",
    "        self.lin_1 = torch.nn.Linear(input_size, hidden_size)\n",
    "        self.activation = torch.nn.ReLU()\n",
    "        self.lin_2 = torch.nn.Linear(hidden_size, output_size)\n",
    "        \n",
    "        \n",
    "    def forward(self, x):\n",
    "        x = self.lin_1(x)\n",
    "        x = self.activation(x)\n",
    "        x = self.lin_2(x)\n",
    "        return x\n",
    "\n",
    "    \n",
    "model = NN_Model()\n",
    "optimizer = torch.optim.Adam(model.parameters())\n",
    "loss = torch.nn.MSELoss()\n",
    "\n",
    "for epoch in range(101):\n",
    "\n",
    "    y_pred = model(X)\n",
    "    data_loss = loss(y_pred.flatten(), y.flatten())\n",
    "    data_loss.backward()\n",
    "\n",
    "    with torch.no_grad():\n",
    "        optimizer.step()\n",
    "    \n",
    "    model.zero_grad()\n",
    "            \n",
    "    \n",
    "    if epoch % 50 == 0:\n",
    "        print(f\"Epoch {epoch}: {data_loss.item()}\")"
   ]
  },
  {
   "cell_type": "markdown",
   "metadata": {
    "id": "UPUW6fm5jbQd"
   },
   "source": [
    "3.3.2 Решить задачу регрессии, соблюдая следующие условия:\n",
    "\n",
    "1. Оформить нейронную сеть в виде объекта `nn.Sequential`\n",
    "2. При создании сети использовать готовые блоки из `torch.nn`: слои, функции активации, функции потерь и т.д.\n",
    "3. Для оптимизации использовать любой алгоритм оптимизации из `torch.optim` "
   ]
  },
  {
   "cell_type": "code",
   "execution_count": 120,
   "metadata": {
    "ExecuteTime": {
     "end_time": "2022-11-07T23:28:32.863365Z",
     "start_time": "2022-11-07T23:28:32.840959Z"
    },
    "id": "BBwbAEd57a2r"
   },
   "outputs": [],
   "source": [
    "X = torch.linspace(0, 1, 100).view(-1, 1)\n",
    "y = torch.sin(2 * np.pi * X) + 0.1 * torch.rand(X.size()) "
   ]
  },
  {
   "cell_type": "code",
   "execution_count": 121,
   "metadata": {
    "ExecuteTime": {
     "end_time": "2022-11-07T23:32:14.242076Z",
     "start_time": "2022-11-07T23:32:14.065422Z"
    }
   },
   "outputs": [
    {
     "name": "stdout",
     "output_type": "stream",
     "text": [
      "Epoch 0: 0.558324933052063\n",
      "Epoch 50: 0.29787924885749817\n",
      "Epoch 100: 0.20251022279262543\n"
     ]
    }
   ],
   "source": [
    "model_sequential = torch.nn.Sequential(\n",
    "    torch.nn.Linear(1, 100),\n",
    "    torch.nn.ReLU(),\n",
    "    torch.nn.Linear(100, 1)\n",
    ")\n",
    "optimizer = torch.optim.Adam(model_sequential.parameters())\n",
    "loss = torch.nn.MSELoss()\n",
    "\n",
    "for epoch in range(101):\n",
    "\n",
    "    y_pred = model_sequential(X)\n",
    "    data_loss = loss(y_pred, y)\n",
    "    data_loss.backward()\n",
    "\n",
    "    with torch.no_grad():\n",
    "        optimizer.step()\n",
    "        \n",
    "    model_sequential.zero_grad()\n",
    "            \n",
    "    \n",
    "    if epoch % 50 == 0:\n",
    "        print(f\"Epoch {epoch}: {data_loss.item()}\")"
   ]
  },
  {
   "cell_type": "markdown",
   "metadata": {
    "id": "jQj0oVeLj2A1"
   },
   "source": [
    "## 3.4. Datasets and dataloaders"
   ]
  },
  {
   "cell_type": "code",
   "execution_count": 122,
   "metadata": {
    "ExecuteTime": {
     "end_time": "2022-11-07T23:32:21.644456Z",
     "start_time": "2022-11-07T23:32:21.623225Z"
    },
    "id": "c82tAkXMjajm"
   },
   "outputs": [],
   "source": [
    "from torch.utils.data import Dataset, DataLoader"
   ]
  },
  {
   "cell_type": "markdown",
   "metadata": {
    "id": "hoFPckkp8yhz"
   },
   "source": [
    "3.4.1 Создать датасет, поставляющий данные из задачи 3.1.2. \n",
    "\n",
    "Создать `DataLoader` на основе этого датасета и проверить работоспособность.\n",
    "\n",
    "Воспользовавшись результатами 3.3.1 (или 3.3.2) обучите модель, пользуясь мини-пакетным градиентным спуском с размером пакета (`batch_size`) = 10"
   ]
  },
  {
   "cell_type": "code",
   "execution_count": 2,
   "metadata": {
    "id": "tlcwQzCFRvFc"
   },
   "outputs": [],
   "source": [
    "class SinDataset(Dataset):\n",
    "  def __init__(self):\n",
    "    pass\n",
    "\n",
    "  def __len__(self):\n",
    "    pass\n",
    "\n",
    "  def __getitem__(self, idx):\n",
    "    pass"
   ]
  },
  {
   "cell_type": "code",
   "execution_count": 123,
   "metadata": {
    "ExecuteTime": {
     "end_time": "2022-11-07T23:33:38.345108Z",
     "start_time": "2022-11-07T23:33:38.328899Z"
    }
   },
   "outputs": [],
   "source": [
    "class SinDataset(Dataset):\n",
    "    def __init__(self, inp: torch.Tensor, target: torch.Tensor):\n",
    "        self.inp, self.tgt = inp, target\n",
    "\n",
    "    def __len__(self):\n",
    "        return self.inp.shape[0]\n",
    "\n",
    "    def __getitem__(self, idx):\n",
    "        return self.inp[idx], self.tgt[idx]"
   ]
  },
  {
   "cell_type": "code",
   "execution_count": 124,
   "metadata": {
    "ExecuteTime": {
     "end_time": "2022-11-07T23:34:09.689204Z",
     "start_time": "2022-11-07T23:34:09.672998Z"
    }
   },
   "outputs": [],
   "source": [
    "X = torch.linspace(0, 1, 100).view(-1, 1)\n",
    "y = torch.sin(2 * np.pi * X) + 0.1 * torch.rand(X.size())\n",
    "dataset = SinDataset(X, y)"
   ]
  },
  {
   "cell_type": "code",
   "execution_count": 126,
   "metadata": {
    "ExecuteTime": {
     "end_time": "2022-11-07T23:35:55.127129Z",
     "start_time": "2022-11-07T23:35:53.555029Z"
    }
   },
   "outputs": [
    {
     "name": "stdout",
     "output_type": "stream",
     "text": [
      "Epoch 0: 0.054337769746780396\n",
      "Epoch 50: 0.27001649141311646\n",
      "Epoch 100: 0.2641444802284241\n"
     ]
    }
   ],
   "source": [
    "model = NN_Model()\n",
    "optimizer = torch.optim.Adam(model.parameters())\n",
    "loss = torch.nn.MSELoss()\n",
    "\n",
    "\n",
    "for i in range(101):\n",
    "    for x, y in DataLoader(dataset, batch_size=10):\n",
    "        y_pred = model(x)\n",
    "        data_loss = loss(y_pred.flatten(), y.flatten())\n",
    "        data_loss.backward()\n",
    "\n",
    "\n",
    "        optimizer.step()\n",
    "        optimizer.zero_grad()\n",
    "\n",
    "    if i % 50 == 0:\n",
    "        print(f\"Epoch {i}: {data_loss.item()}\")"
   ]
  },
  {
   "cell_type": "markdown",
   "metadata": {
    "id": "bxz02a3k_VQL"
   },
   "source": [
    "3.4.2 Предсказание цен алмазов\n",
    "\n",
    "3.4.2.1 Создайте датасет на основе файла diamonds.csv. \n",
    "\n",
    "1. Удалите все нечисловые столбцы\n",
    "2. Целевой столбец (`y`) - `price`\n",
    "3. Преобразуйте данные в тензоры корректных размеров\n",
    "\n",
    "3.4.2.2 Разбейте датасет на обучающий и тестовый датасет при помощи `torch.utils.data.random_split`.\n",
    "\n",
    "3.4.2.3 Обучите модель для предсказания цен при помощи мини-пакетного градиентного спуска (`batch_size = 256`). \n",
    "\n",
    "3.4.2.4 Выведите график функции потерь в зависимости от номера эпохи (значение потерь для эпохи рассчитывайте как среднее значение ошибок на каждом батче). Проверьте качество модели на тестовой выборке. \n"
   ]
  },
  {
   "cell_type": "code",
   "execution_count": 129,
   "metadata": {
    "ExecuteTime": {
     "end_time": "2022-11-07T23:38:11.303075Z",
     "start_time": "2022-11-07T23:38:11.155883Z"
    }
   },
   "outputs": [],
   "source": [
    "import pandas as pd\n",
    "\n",
    "class DiamondsDataset(Dataset):\n",
    "    def __init__(self, data: pd.DataFrame, target: pd.Series):\n",
    "        self.data = torch.tensor(data.values).float()\n",
    "        self.target = torch.tensor(target.values).float()\n",
    "\n",
    "    def __len__(self):\n",
    "        return self.data.shape[0]\n",
    "\n",
    "    def __getitem__(self, idx):\n",
    "        return self.data[idx], self.target[idx]\n",
    "\n",
    "df = pd.read_csv(\"diamonds.csv\", index_col=0)\n",
    "dataset = DiamondsDataset(df.drop(columns=[\"cut\", \"color\", \"clarity\", \"price\"], axis=1), data['price'])"
   ]
  },
  {
   "cell_type": "code",
   "execution_count": 137,
   "metadata": {
    "ExecuteTime": {
     "end_time": "2022-11-07T23:41:57.589417Z",
     "start_time": "2022-11-07T23:41:57.574422Z"
    },
    "id": "fEfTNJQI8emD"
   },
   "outputs": [],
   "source": [
    "train_data, test_data = torch.utils.data.random_split(dataset, [int(len(dataset) * 0.7), int(len(dataset) * 0.3)])"
   ]
  },
  {
   "cell_type": "code",
   "execution_count": 143,
   "metadata": {
    "ExecuteTime": {
     "end_time": "2022-11-07T23:47:32.210307Z",
     "start_time": "2022-11-07T23:47:21.263132Z"
    },
    "scrolled": true
   },
   "outputs": [
    {
     "name": "stdout",
     "output_type": "stream",
     "text": [
      "Epoch 0: 27046269.91891892\n",
      "Epoch 2: 15257187.317567568\n",
      "Epoch 4: 14740890.702702703\n",
      "Epoch 6: 13770236.324324325\n",
      "Epoch 8: 12282285.202702703\n",
      "Epoch 10: 10281003.537162162\n"
     ]
    }
   ],
   "source": [
    "model = torch.nn.Sequential(\n",
    "    torch.nn.Linear(6, 512),\n",
    "    torch.nn.ReLU(),\n",
    "    torch.nn.Linear(512, 1)\n",
    ")\n",
    "\n",
    "optimizer = torch.optim.Adam(model.parameters(), 0.001)\n",
    "loss = torch.nn.MSELoss()\n",
    "losses = []\n",
    "\n",
    "\n",
    "for i in range(11):\n",
    "    epoch_loss = 0\n",
    "    for j, (x, y) in enumerate(DataLoader(train_data, batch_size=256), 1):\n",
    "        y_pred = model(x)\n",
    "        data_loss = loss(y_pred.flatten(), y.flatten())\n",
    "        data_loss.backward()\n",
    "        epoch_loss += data_loss.item()\n",
    "        optimizer.step()\n",
    "        optimizer.zero_grad()\n",
    "\n",
    "    losses.append(epoch_loss / j)\n",
    "    if i % 2 == 0:\n",
    "        print(f\"Epoch {i}: {epoch_loss / j}\")"
   ]
  },
  {
   "cell_type": "code",
   "execution_count": 148,
   "metadata": {
    "ExecuteTime": {
     "end_time": "2022-11-07T23:49:55.861343Z",
     "start_time": "2022-11-07T23:49:55.797680Z"
    }
   },
   "outputs": [
    {
     "name": "stdout",
     "output_type": "stream",
     "text": [
      "Test loss: 9479196.0\n"
     ]
    }
   ],
   "source": [
    "test_pred = model(test_data[:][0])\n",
    "test_loss = loss(test_pred.flatten(), test_data[:][1].flatten()).item()\n",
    "print(f\"Test loss: {test_loss}\")"
   ]
  },
  {
   "cell_type": "markdown",
   "metadata": {
    "id": "qE81cgQdGM7I"
   },
   "source": [
    "3.4.3 Модифицируйте метод `__init__` датасета из 3.4.2 таким образом, чтобы он мог принимать параметр `transform: callable`. Реализуйте класс `DropColsTransform` для удаления нечисловых данных из массива. Реализуйте класс `ToTensorTransorm` для трансформации массива в тензор."
   ]
  },
  {
   "cell_type": "code",
   "execution_count": 149,
   "metadata": {
    "ExecuteTime": {
     "end_time": "2022-11-07T23:51:03.786379Z",
     "start_time": "2022-11-07T23:51:03.774365Z"
    }
   },
   "outputs": [],
   "source": [
    "class DiamondsDataset(Dataset):\n",
    "    def __init__(self, data, transform):\n",
    "        self.data = data\n",
    "        self.X = data.drop(columns=[\"price\"])\n",
    "        self.transform = transform\n",
    "        self.y = data.y\n",
    "\n",
    "    def __len__(self):\n",
    "        return self.data.shape[0]\n",
    "\n",
    "    def __getitem__(self, idx):\n",
    "        sample = self.X.iloc[idx], self.y.iloc[idx]\n",
    "        if self.transform:\n",
    "            sample = self.transform(sample)\n",
    "        return sample"
   ]
  },
  {
   "cell_type": "code",
   "execution_count": 160,
   "metadata": {
    "ExecuteTime": {
     "end_time": "2022-11-07T23:55:46.294464Z",
     "start_time": "2022-11-07T23:55:46.283372Z"
    }
   },
   "outputs": [],
   "source": [
    "class DropColsTransform:\n",
    "    def __init__(self, drop):\n",
    "        self.drop = drop\n",
    "\n",
    "    def __call__(self, df):\n",
    "        X, y = df\n",
    "        X = X.iloc[:, [j for j, c in enumerate(X.columns) if j != i]]\n",
    "        return X.values, y"
   ]
  },
  {
   "cell_type": "code",
   "execution_count": 161,
   "metadata": {
    "ExecuteTime": {
     "end_time": "2022-11-07T23:55:46.505434Z",
     "start_time": "2022-11-07T23:55:46.488424Z"
    }
   },
   "outputs": [],
   "source": [
    "class ToTensorTransform:\n",
    "    def __call__(self, df):\n",
    "        X, y = df\n",
    "        return torch.tensor(list(X)).float(), torch.tensor(y).float()"
   ]
  },
  {
   "cell_type": "code",
   "execution_count": 166,
   "metadata": {
    "ExecuteTime": {
     "end_time": "2022-11-07T23:57:10.172558Z",
     "start_time": "2022-11-07T23:57:10.157053Z"
    },
    "id": "GssBjT9JHt5g"
   },
   "outputs": [],
   "source": [
    "from torchvision import transforms\n",
    "\n",
    "drop = DropColsTransform(drop=[0, 4, 5])\n",
    "to_tensor = ToTensorTransform()\n",
    "dataset = DiamondsDataset(data, transforms.Compose([drop, to_tensor]))"
   ]
  },
  {
   "cell_type": "code",
   "execution_count": null,
   "metadata": {},
   "outputs": [],
   "source": []
  },
  {
   "cell_type": "code",
   "execution_count": null,
   "metadata": {},
   "outputs": [],
   "source": []
  }
 ],
 "metadata": {
  "colab": {
   "collapsed_sections": [],
   "name": "blank_03_autograd_optim_nn_datasets.ipynb",
   "provenance": []
  },
  "kernelspec": {
   "display_name": "Python 3 (ipykernel)",
   "language": "python",
   "name": "python3"
  },
  "language_info": {
   "codemirror_mode": {
    "name": "ipython",
    "version": 3
   },
   "file_extension": ".py",
   "mimetype": "text/x-python",
   "name": "python",
   "nbconvert_exporter": "python",
   "pygments_lexer": "ipython3",
   "version": "3.7.4"
  },
  "toc": {
   "base_numbering": 1,
   "nav_menu": {},
   "number_sections": true,
   "sideBar": true,
   "skip_h1_title": false,
   "title_cell": "Table of Contents",
   "title_sidebar": "Contents",
   "toc_cell": false,
   "toc_position": {},
   "toc_section_display": true,
   "toc_window_display": false
  }
 },
 "nbformat": 4,
 "nbformat_minor": 1
}
