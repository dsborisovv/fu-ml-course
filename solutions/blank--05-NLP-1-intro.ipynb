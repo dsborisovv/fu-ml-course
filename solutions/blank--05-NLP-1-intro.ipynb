{
 "cells": [
  {
   "cell_type": "code",
   "execution_count": 1,
   "metadata": {
    "ExecuteTime": {
     "end_time": "2022-12-27T13:19:25.301195Z",
     "start_time": "2022-12-27T13:19:19.049734Z"
    },
    "id": "XtFQP3RNll3c"
   },
   "outputs": [
    {
     "name": "stderr",
     "output_type": "stream",
     "text": [
      "C:\\Users\\Xiaomi\\anaconda3\\envs\\fa-ml-course\\lib\\site-packages\\tqdm\\auto.py:22: TqdmWarning: IProgress not found. Please update jupyter and ipywidgets. See https://ipywidgets.readthedocs.io/en/stable/user_install.html\n",
      "  from .autonotebook import tqdm as notebook_tqdm\n"
     ]
    }
   ],
   "source": [
    "import re\n",
    "import nltk\n",
    "\n",
    "import torch\n",
    "from torch.utils.data import Dataset, DataLoader\n",
    "import torch.nn as nn\n",
    "import torch.optim as optim\n",
    "\n",
    "import pandas as pd\n",
    "from sklearn.model_selection import train_test_split\n",
    "from sklearn.metrics import accuracy_score\n",
    "from nltk.tokenize import word_tokenize\n",
    "from sklearn.preprocessing import LabelEncoder"
   ]
  },
  {
   "cell_type": "code",
   "execution_count": 2,
   "metadata": {
    "ExecuteTime": {
     "end_time": "2022-12-27T13:19:26.446059Z",
     "start_time": "2022-12-27T13:19:25.976372Z"
    },
    "colab": {
     "base_uri": "https://localhost:8080/"
    },
    "executionInfo": {
     "elapsed": 7026,
     "status": "ok",
     "timestamp": 1618423490594,
     "user": {
      "displayName": "Никита Блохин",
      "photoUrl": "",
      "userId": "16402972581398673009"
     },
     "user_tz": -180
    },
    "id": "443CZCLp0_sE",
    "outputId": "ddda53b2-a593-4d13-ee48-cfed23e613b1"
   },
   "outputs": [
    {
     "name": "stderr",
     "output_type": "stream",
     "text": [
      "[nltk_data] Downloading package punkt to\n",
      "[nltk_data]     C:\\Users\\Xiaomi\\AppData\\Roaming\\nltk_data...\n",
      "[nltk_data]   Package punkt is already up-to-date!\n"
     ]
    },
    {
     "data": {
      "text/plain": [
       "True"
      ]
     },
     "execution_count": 2,
     "metadata": {},
     "output_type": "execute_result"
    }
   ],
   "source": [
    "nltk.download('punkt')"
   ]
  },
  {
   "cell_type": "markdown",
   "metadata": {
    "id": "jqDHq_AEjRZ1"
   },
   "source": [
    "## 1. Представление и предобработка текстовых данных "
   ]
  },
  {
   "cell_type": "markdown",
   "metadata": {
    "id": "vaki7efDpmXo"
   },
   "source": [
    "1.1 Операции по предобработке:\n",
    "* токенизация\n",
    "* стемминг / лемматизация\n",
    "* удаление стоп-слов\n",
    "* удаление пунктуации\n",
    "* приведение к нижнему регистру\n",
    "* любые другие операции над текстом"
   ]
  },
  {
   "cell_type": "code",
   "execution_count": 3,
   "metadata": {
    "ExecuteTime": {
     "end_time": "2022-12-27T13:19:49.153706Z",
     "start_time": "2022-12-27T13:19:49.140176Z"
    },
    "id": "nHRy4jpYphEr"
   },
   "outputs": [],
   "source": [
    "from nltk.tokenize import word_tokenize, sent_tokenize\n",
    "from nltk.stem.snowball import SnowballStemmer"
   ]
  },
  {
   "cell_type": "code",
   "execution_count": 4,
   "metadata": {
    "ExecuteTime": {
     "end_time": "2022-12-27T13:19:51.415425Z",
     "start_time": "2022-12-27T13:19:51.403261Z"
    },
    "id": "lMMzGhq0ikz1"
   },
   "outputs": [],
   "source": [
    "text = 'Select your preferences and run the install command. Stable represents the most currently tested and supported version of PyTorch. Note that LibTorch is only available for C++'"
   ]
  },
  {
   "cell_type": "markdown",
   "metadata": {
    "id": "bUhfertRtXE5"
   },
   "source": [
    "Реализовать функцию `preprocess_text(text: str)`, которая:\n",
    "* приводит строку к нижнему регистру\n",
    "* заменяет все символы, кроме a-z, A-Z и знаков .,!? на пробел\n"
   ]
  },
  {
   "cell_type": "code",
   "execution_count": 5,
   "metadata": {
    "ExecuteTime": {
     "end_time": "2022-12-27T13:19:53.642968Z",
     "start_time": "2022-12-27T13:19:53.634894Z"
    }
   },
   "outputs": [],
   "source": [
    "def preprocess_text(text):\n",
    "    text = re.sub(r'[^a-zA-Z.,!?]', ' ', text)\n",
    "    text = text.lower()\n",
    "    \n",
    "    return text"
   ]
  },
  {
   "cell_type": "code",
   "execution_count": 6,
   "metadata": {
    "ExecuteTime": {
     "end_time": "2022-12-27T13:19:54.201619Z",
     "start_time": "2022-12-27T13:19:54.177459Z"
    }
   },
   "outputs": [
    {
     "data": {
      "text/plain": [
       "'hdjsf!!!!!      '"
      ]
     },
     "execution_count": 6,
     "metadata": {},
     "output_type": "execute_result"
    }
   ],
   "source": [
    "preprocess_text('Hdjsf!!!!!998 ()')"
   ]
  },
  {
   "cell_type": "code",
   "execution_count": 7,
   "metadata": {
    "ExecuteTime": {
     "end_time": "2022-12-27T13:20:08.495159Z",
     "start_time": "2022-12-27T13:20:08.479238Z"
    }
   },
   "outputs": [
    {
     "data": {
      "text/plain": [
       "'select your preferences and run the install command. stable represents the most currently tested and supported version of pytorch. note that libtorch is only available for c  '"
      ]
     },
     "execution_count": 7,
     "metadata": {},
     "output_type": "execute_result"
    }
   ],
   "source": [
    "preprocess_text(text)"
   ]
  },
  {
   "cell_type": "markdown",
   "metadata": {
    "id": "Z2Dt1ssIqckC"
   },
   "source": [
    "1.2 Представление текстовых данных при помощи бинарного кодирования\n",
    "\n",
    "\n",
    "Представить первое предложение из `text` в виде тензора `sentence_t`: `sentence_t[i] == 1`, если __слово__ с индексом `i` присуствует в предложении."
   ]
  },
  {
   "cell_type": "code",
   "execution_count": 13,
   "metadata": {
    "ExecuteTime": {
     "end_time": "2022-12-27T13:22:17.430864Z",
     "start_time": "2022-12-27T13:22:17.418991Z"
    }
   },
   "outputs": [],
   "source": [
    "def binary(words, all_words):\n",
    "    \n",
    "    return [int(word in all_words) for word in words]\n",
    "    \n",
    "all_words = list(set(preprocess_text(text).split()))\n",
    "parse_1 = binary(text.split('.')[0], all_words)"
   ]
  },
  {
   "cell_type": "code",
   "execution_count": 14,
   "metadata": {
    "ExecuteTime": {
     "end_time": "2022-12-27T13:22:26.624078Z",
     "start_time": "2022-12-27T13:22:26.602127Z"
    }
   },
   "outputs": [
    {
     "name": "stdout",
     "output_type": "stream",
     "text": [
      "[0, 0, 0, 0, 1, 0, 0, 0, 0, 0, 0, 0, 0, 0, 0, 0, 0, 0, 0, 0, 1, 0, 0, 0, 0, 0, 0, 0, 0, 0, 0, 0, 0, 0, 0, 0, 0, 0, 0, 0, 0, 0, 0, 0, 1, 0, 0, 0, 0, 0, 0]\n"
     ]
    }
   ],
   "source": [
    "print(parse_1)"
   ]
  },
  {
   "cell_type": "markdown",
   "metadata": {
    "id": "P2Nz_zcgw3N4"
   },
   "source": [
    "## 2. Классификация фамилий по национальности\n",
    "\n",
    "Датасет: https://disk.yandex.ru/d/owHew8hzPc7X9Q?w=1\n",
    "\n",
    "2.1 Считать файл `surnames/surnames.csv`. \n",
    "\n",
    "2.2 Закодировать национальности числами, начиная с 0.\n",
    "\n",
    "2.3 Разбить датасет на обучающую и тестовую выборку\n",
    "\n",
    "2.4 Реализовать класс `Vocab` (токен = __символ__)\n",
    "\n",
    "2.5 Реализовать класс `SurnamesDataset`\n",
    "\n",
    "2.6. Обучить классификатор.\n",
    "\n",
    "2.7 Измерить точность на тестовой выборке. Проверить работоспособность модели: прогнать несколько фамилий студентов группы через модели и проверить результат. Для каждой фамилии выводить 3 наиболее вероятных предсказания."
   ]
  },
  {
   "cell_type": "code",
   "execution_count": 15,
   "metadata": {
    "ExecuteTime": {
     "end_time": "2022-12-27T13:23:57.286978Z",
     "start_time": "2022-12-27T13:23:57.253439Z"
    }
   },
   "outputs": [],
   "source": [
    "df = pd.read_csv('surnames.csv')"
   ]
  },
  {
   "cell_type": "code",
   "execution_count": 16,
   "metadata": {
    "ExecuteTime": {
     "end_time": "2022-12-27T13:23:57.812749Z",
     "start_time": "2022-12-27T13:23:57.778929Z"
    }
   },
   "outputs": [
    {
     "data": {
      "text/html": [
       "<div>\n",
       "<style scoped>\n",
       "    .dataframe tbody tr th:only-of-type {\n",
       "        vertical-align: middle;\n",
       "    }\n",
       "\n",
       "    .dataframe tbody tr th {\n",
       "        vertical-align: top;\n",
       "    }\n",
       "\n",
       "    .dataframe thead th {\n",
       "        text-align: right;\n",
       "    }\n",
       "</style>\n",
       "<table border=\"1\" class=\"dataframe\">\n",
       "  <thead>\n",
       "    <tr style=\"text-align: right;\">\n",
       "      <th></th>\n",
       "      <th>surname</th>\n",
       "      <th>nationality</th>\n",
       "    </tr>\n",
       "  </thead>\n",
       "  <tbody>\n",
       "    <tr>\n",
       "      <th>0</th>\n",
       "      <td>Woodford</td>\n",
       "      <td>English</td>\n",
       "    </tr>\n",
       "    <tr>\n",
       "      <th>1</th>\n",
       "      <td>Coté</td>\n",
       "      <td>French</td>\n",
       "    </tr>\n",
       "    <tr>\n",
       "      <th>2</th>\n",
       "      <td>Kore</td>\n",
       "      <td>English</td>\n",
       "    </tr>\n",
       "    <tr>\n",
       "      <th>3</th>\n",
       "      <td>Koury</td>\n",
       "      <td>Arabic</td>\n",
       "    </tr>\n",
       "    <tr>\n",
       "      <th>4</th>\n",
       "      <td>Lebzak</td>\n",
       "      <td>Russian</td>\n",
       "    </tr>\n",
       "  </tbody>\n",
       "</table>\n",
       "</div>"
      ],
      "text/plain": [
       "    surname nationality\n",
       "0  Woodford     English\n",
       "1      Coté      French\n",
       "2      Kore     English\n",
       "3     Koury      Arabic\n",
       "4    Lebzak     Russian"
      ]
     },
     "execution_count": 16,
     "metadata": {},
     "output_type": "execute_result"
    }
   ],
   "source": [
    "df.head()"
   ]
  },
  {
   "cell_type": "code",
   "execution_count": 19,
   "metadata": {
    "ExecuteTime": {
     "end_time": "2022-12-27T13:24:52.671074Z",
     "start_time": "2022-12-27T13:24:52.655048Z"
    }
   },
   "outputs": [],
   "source": [
    "unique_nationality = df['nationality'].unique().tolist()"
   ]
  },
  {
   "cell_type": "code",
   "execution_count": 20,
   "metadata": {
    "ExecuteTime": {
     "end_time": "2022-12-27T13:24:53.432183Z",
     "start_time": "2022-12-27T13:24:53.415875Z"
    }
   },
   "outputs": [],
   "source": [
    "dict_nationality = dict(zip(unique_nationality, range(len(unique_nationality))))"
   ]
  },
  {
   "cell_type": "code",
   "execution_count": 22,
   "metadata": {
    "ExecuteTime": {
     "end_time": "2022-12-27T13:25:32.870452Z",
     "start_time": "2022-12-27T13:25:32.838187Z"
    }
   },
   "outputs": [],
   "source": [
    "df['encode_nationality'] = df['nationality'].apply(lambda x: dict_nationality.get(x))"
   ]
  },
  {
   "cell_type": "code",
   "execution_count": 40,
   "metadata": {
    "ExecuteTime": {
     "end_time": "2022-12-27T14:33:37.921200Z",
     "start_time": "2022-12-27T14:33:37.903263Z"
    }
   },
   "outputs": [],
   "source": [
    "df_train, df_test = train_test_split(df, test_size=0.33)"
   ]
  },
  {
   "cell_type": "code",
   "execution_count": 58,
   "metadata": {
    "ExecuteTime": {
     "end_time": "2022-12-28T12:50:33.956185Z",
     "start_time": "2022-12-28T12:50:32.658095Z"
    },
    "id": "kUkSZkDqxNYS"
   },
   "outputs": [],
   "source": [
    "class Vocab:\n",
    "    def __init__(self, data):\n",
    "        data = data[['surname']].drop_duplicates()\n",
    "        \n",
    "        letters = data['surname'].apply(lambda x: list(x.lower()))\n",
    "        letters = set(letters.sum())\n",
    "        \n",
    "        self.idx_to_token = dict(zip(range(1, len(letters) + 1), letters))\n",
    "        self.idx_to_token[0] = ''\n",
    "        self.token_to_idx = dict(zip(letters, range(1, len(letters) + 1)))\n",
    "        self.token_to_idx[''] = 0\n",
    "        self.vocab_len = len(self.idx_to_token)\n",
    "        \n",
    "        \n",
    "vocab = Vocab(df)"
   ]
  },
  {
   "cell_type": "code",
   "execution_count": 59,
   "metadata": {
    "ExecuteTime": {
     "end_time": "2022-12-28T12:51:04.720964Z",
     "start_time": "2022-12-28T12:51:04.697414Z"
    },
    "colab": {
     "base_uri": "https://localhost:8080/",
     "height": 229
    },
    "executionInfo": {
     "elapsed": 1303,
     "status": "error",
     "timestamp": 1619117849212,
     "user": {
      "displayName": "Никита Блохин",
      "photoUrl": "",
      "userId": "16402972581398673009"
     },
     "user_tz": -180
    },
    "id": "WCaRK1QHxe0A",
    "outputId": "5d1243af-d0dd-4922-9468-9618f5df4605"
   },
   "outputs": [],
   "source": [
    "import numpy as np\n",
    "\n",
    "class SurnamesDataset(Dataset):\n",
    "    def __init__(self, X, y, vocab: Vocab):\n",
    "        self.X = X\n",
    "        self.y = y\n",
    "        self.vocab = vocab\n",
    "\n",
    "    def vectorize(self, surname):\n",
    "        vector = list(np.zeros(17))\n",
    "        surname = surname.lower()\n",
    "        for i in range(len(surname)):\n",
    "            vector[17 - len(surname) + i] = self.vocab.token_to_idx[surname[i]]\n",
    "\n",
    "        return torch.FloatTensor(vector)\n",
    "    \n",
    "    def __len__(self):\n",
    "        return len(self.X)\n",
    "\n",
    "    def __getitem__(self, idx):\n",
    "        return self.vectorize(self.X.iloc[idx]).long(), torch.tensor(dict_nationality[self.y.iloc[idx]])"
   ]
  },
  {
   "cell_type": "code",
   "execution_count": 61,
   "metadata": {
    "ExecuteTime": {
     "end_time": "2022-12-28T12:51:28.597729Z",
     "start_time": "2022-12-28T12:51:27.161152Z"
    }
   },
   "outputs": [],
   "source": [
    "train_dataset = SurnamesDataset(df_train.surname, df_train.nationality, Vocab(df))\n",
    "test_dataset = SurnamesDataset(df_test.surname, df_test.nationality, Vocab(df))\n",
    "\n",
    "kernels = [17, 32, 32, 64, 64]\n",
    "convs = torch.nn.Sequential()\n",
    "for i in range(len(kernels) - 1):\n",
    "    convs.add_module(f'conv {i}', torch.nn.Conv1d(kernels[i], kernels[i + 1], 3))\n",
    "    convs.add_module(f'pooling {i}', torch.nn.MaxPool1d(2))\n",
    "    convs.add_module(f'func {i}', torch.nn.LeakyReLU(0.1))\n",
    "\n",
    "model = torch.nn.Sequential(\n",
    "    torch.nn.Embedding(vocab.vocab_len, 128),\n",
    "    convs,\n",
    "    torch.nn.Dropout(0.5),\n",
    "    torch.nn.Flatten(),\n",
    "    torch.nn.Linear(384, 1024),\n",
    "    torch.nn.Dropout(0.5),\n",
    "    torch.nn.ReLU(),\n",
    "    torch.nn.Linear(1024, len(dict_nationality))\n",
    ")"
   ]
  },
  {
   "cell_type": "code",
   "execution_count": 74,
   "metadata": {
    "ExecuteTime": {
     "end_time": "2022-12-28T13:01:22.402770Z",
     "start_time": "2022-12-28T13:00:47.458169Z"
    }
   },
   "outputs": [
    {
     "name": "stdout",
     "output_type": "stream",
     "text": [
      "Epoch 0\n",
      "Test loss 1.0195990800857544\n",
      "Train loss 0.5948613029459249\n",
      "--------------------\n",
      "Epoch 1\n",
      "Test loss 1.010890847758243\n",
      "Train loss 0.5633273396802985\n",
      "--------------------\n",
      "Epoch 2\n",
      "Test loss 1.0025203740387632\n",
      "Train loss 0.5348036245159481\n",
      "--------------------\n",
      "Epoch 3\n",
      "Test loss 1.0069916007811563\n",
      "Train loss 0.5186132060444874\n",
      "--------------------\n",
      "Epoch 4\n",
      "Test loss 1.0319454941833228\n",
      "Train loss 0.5089681920797928\n",
      "--------------------\n",
      "Epoch 5\n",
      "Test loss 1.0990964644833614\n",
      "Train loss 0.4872417269841484\n",
      "--------------------\n",
      "Epoch 6\n",
      "Test loss 1.063242495059967\n",
      "Train loss 0.4707990835542264\n",
      "--------------------\n",
      "Epoch 7\n",
      "Test loss 1.1354036697170191\n",
      "Train loss 0.4744476626748624\n",
      "--------------------\n",
      "Epoch 8\n",
      "Test loss 1.1042250886298062\n",
      "Train loss 0.43817299176817354\n",
      "--------------------\n",
      "Epoch 9\n",
      "Test loss 1.0876959583215546\n",
      "Train loss 0.4286498170831929\n",
      "--------------------\n",
      "Wall time: 34.9 s\n"
     ]
    },
    {
     "data": {
      "text/plain": [
       "<All keys matched successfully>"
      ]
     },
     "execution_count": 74,
     "metadata": {},
     "output_type": "execute_result"
    }
   ],
   "source": [
    "%%time\n",
    "\n",
    "optimizer = torch.optim.Adam(model.parameters())\n",
    "loss = torch.nn.CrossEntropyLoss()\n",
    "loss_train_list = []\n",
    "loss_test_list = []\n",
    "min_test_loss = np.inf\n",
    "\n",
    "for i in range(10):\n",
    "    loss_train = 0\n",
    "    loss_test = 0\n",
    "\n",
    "    j, k = 1, 1  \n",
    "\n",
    "    model.train()\n",
    "    for j, (batch_x, batch_y) in enumerate(DataLoader(train_dataset, batch_size=64, shuffle=True), 1):\n",
    "        y_pred = model(batch_x)\n",
    "        running_loss = loss(y_pred, batch_y)\n",
    "        loss_train += running_loss.item()\n",
    "\n",
    "        running_loss.backward()\n",
    "        optimizer.step()\n",
    "        optimizer.zero_grad()\n",
    "\n",
    "    model.eval()\n",
    "    for k, (batch_x, batch_y) in enumerate(DataLoader(test_dataset, batch_size=64), 1):\n",
    "        y_pred = model(batch_x)\n",
    "        running_loss = loss(y_pred, batch_y)\n",
    "        loss_test += running_loss.item()\n",
    "\n",
    "    loss_train /= j\n",
    "    loss_test /= k\n",
    "\n",
    "    if loss_test < min_test_loss:\n",
    "        min_test_loss = loss_test\n",
    "        torch.save(model.state_dict(), 'model_surname.pt')\n",
    "\n",
    "    print(f\"Epoch {i}\\n\"\n",
    "         f\"Test loss {loss_test}\\n\"\n",
    "         f\"Train loss {loss_train}\")\n",
    "    print('-' * 20)\n",
    "\n",
    "    loss_train_list.append(loss_train)\n",
    "    loss_test_list.append(loss_test)\n",
    "\n",
    "model.load_state_dict(torch.load('model_surname.pt'))"
   ]
  },
  {
   "cell_type": "code",
   "execution_count": 77,
   "metadata": {
    "ExecuteTime": {
     "end_time": "2022-12-28T13:02:31.368139Z",
     "start_time": "2022-12-28T13:02:31.087375Z"
    }
   },
   "outputs": [
    {
     "data": {
      "image/png": "[encoded data removed]",
      "text/plain": [
       "<Figure size 640x480 with 1 Axes>"
      ]
     },
     "metadata": {},
     "output_type": "display_data"
    }
   ],
   "source": [
    "import matplotlib.pyplot as plt\n",
    "\n",
    "plt.plot(loss_train_list, label='train')\n",
    "plt.plot(loss_test_list, label='test')\n",
    "plt.legend();"
   ]
  },
  {
   "cell_type": "code",
   "execution_count": 80,
   "metadata": {
    "ExecuteTime": {
     "end_time": "2022-12-28T13:05:32.953698Z",
     "start_time": "2022-12-28T13:05:31.731535Z"
    }
   },
   "outputs": [
    {
     "name": "stdout",
     "output_type": "stream",
     "text": [
      "Train accuracy: 0.882816731929779\n"
     ]
    }
   ],
   "source": [
    "idx_to_nationalities = {v: u for u, v in dict_nationality.items()}\n",
    "\n",
    "model.eval()\n",
    "right_answers = 0\n",
    "for batch_x, batch_y in DataLoader(train_dataset, batch_size=64):\n",
    "    predictions = model(batch_x).argmax(dim=1)\n",
    "    right_answers += (torch.eq(batch_y, predictions)).sum()\n",
    "\n",
    "print(f'Train accuracy: {right_answers / len(train_dataset)}')"
   ]
  },
  {
   "cell_type": "code",
   "execution_count": 82,
   "metadata": {
    "ExecuteTime": {
     "end_time": "2022-12-28T13:06:14.310270Z",
     "start_time": "2022-12-28T13:06:13.666301Z"
    }
   },
   "outputs": [
    {
     "name": "stdout",
     "output_type": "stream",
     "text": [
      "Test accuracy: 0.7204746007919312\n"
     ]
    }
   ],
   "source": [
    "model.eval()\n",
    "right_answers = 0\n",
    "for batch_x, batch_y in DataLoader(test_dataset, batch_size=64):\n",
    "    predictions = model(batch_x).argmax(dim=1)\n",
    "    right_answers += (torch.eq(batch_y, predictions)).sum()\n",
    "\n",
    "print(f'Test accuracy: {right_answers / len(test_dataset)}')"
   ]
  },
  {
   "cell_type": "code",
   "execution_count": 83,
   "metadata": {
    "ExecuteTime": {
     "end_time": "2022-12-28T13:07:07.335432Z",
     "start_time": "2022-12-28T13:07:07.319375Z"
    }
   },
   "outputs": [],
   "source": [
    "def tokenize_surname(surname):\n",
    "    dataset = SurnamesDataset(None, None, vocab)\n",
    "    return dataset.vectorize(surname).reshape(1, 17).long()"
   ]
  },
  {
   "cell_type": "code",
   "execution_count": 85,
   "metadata": {
    "ExecuteTime": {
     "end_time": "2022-12-28T13:07:31.445449Z",
     "start_time": "2022-12-28T13:07:31.426200Z"
    }
   },
   "outputs": [
    {
     "data": {
      "text/plain": [
       "tensor([[ 0,  0,  0,  0,  0,  0,  0,  0,  0,  0, 48,  5, 49, 42, 14,  5,  4]])"
      ]
     },
     "execution_count": 85,
     "metadata": {},
     "output_type": "execute_result"
    }
   ],
   "source": [
    "tokenize_surname('borisov')"
   ]
  },
  {
   "cell_type": "code",
   "execution_count": 118,
   "metadata": {
    "ExecuteTime": {
     "end_time": "2022-12-28T13:24:23.979838Z",
     "start_time": "2022-12-28T13:24:23.936338Z"
    }
   },
   "outputs": [
    {
     "name": "stdout",
     "output_type": "stream",
     "text": [
      "Surname Borisov\n",
      "True: Russian\n",
      "Pred: Russian\n",
      "--------------------\n",
      "Surname She\n",
      "True: Chinese\n",
      "Pred: Chinese\n",
      "--------------------\n",
      "Surname Kuliga\n",
      "True: Russian\n",
      "Pred: Japanese\n",
      "--------------------\n",
      "Surname Shekhovtsov\n",
      "True: Russian\n",
      "Pred: Russian\n",
      "--------------------\n",
      "Surname Kazakova\n",
      "True: Russian\n",
      "Pred: Czech\n",
      "--------------------\n",
      "Surname Mironovich\n",
      "True: Russian\n",
      "Pred: Russian\n",
      "--------------------\n",
      "Surname Starikov\n",
      "True: Russian\n",
      "Pred: Russian\n",
      "--------------------\n",
      "Surname Klose\n",
      "True: German\n",
      "Pred: English\n",
      "--------------------\n",
      "Surname Muller\n",
      "True: German\n",
      "Pred: English\n",
      "--------------------\n"
     ]
    }
   ],
   "source": [
    "students = {\n",
    "    'Borisov': 'Russian',\n",
    "    'She': 'Chinese',\n",
    "    'Kuliga': 'Russian',\n",
    "    'Shekhovtsov': 'Russian',\n",
    "    'Kazakova': 'Russian',\n",
    "    'Mironovich': 'Russian',\n",
    "    'Starikov': 'Russian',\n",
    "    'Klose': 'German',\n",
    "    'Muller': 'German'\n",
    "}\n",
    "\n",
    "for surname, nationality in students.items():\n",
    "    model_pred = idx_to_nationalities[int(model(tokenize_surname(surname)).argmax(dim=1))]\n",
    "\n",
    "    print(f'Surname {surname}')\n",
    "    print(f'True: {nationality}\\n'\n",
    "         f'Pred: {model_pred}')\n",
    "    print('-' * 20)"
   ]
  },
  {
   "cell_type": "markdown",
   "metadata": {
    "id": "PLmDB3fJtVox"
   },
   "source": [
    "## 3. Классификация обзоров ресторанов\n",
    "\n",
    "Датасет: https://disk.yandex.ru/d/nY1o70JtAuYa8g\n",
    "\n",
    "3.1 Считать файл `yelp/raw_train.csv`. Оставить от исходного датасета 10% строчек.\n",
    "\n",
    "3.2 Воспользоваться функцией `preprocess_text` из 1.1 для обработки текста отзыва. Закодировать рейтинг числами, начиная с 0.\n",
    "\n",
    "3.3 Разбить датасет на обучающую и тестовую выборку\n",
    "\n",
    "3.4 Реализовать класс `Vocab` (токен = слово)\n",
    "\n",
    "3.5 Реализовать класс `ReviewDataset`\n",
    "\n",
    "3.6 Обучить классификатор\n",
    "\n",
    "3.7 Измерить точность на тестовой выборке. Проверить работоспособность модели: придумать небольшой отзыв, прогнать его через модель и вывести номер предсказанного класса (сделать это для явно позитивного и явно негативного отзыва)\n"
   ]
  },
  {
   "cell_type": "code",
   "execution_count": 131,
   "metadata": {
    "ExecuteTime": {
     "end_time": "2022-12-28T13:37:06.822874Z",
     "start_time": "2022-12-28T13:37:01.861128Z"
    }
   },
   "outputs": [],
   "source": [
    "df_train = pd.read_csv('raw_train.csv', names=['label', 'review'], header=None).sample(frac=0.1)\n",
    "df_test = pd.read_csv('raw_test.csv', names=['label', 'review'], header=None)"
   ]
  },
  {
   "cell_type": "code",
   "execution_count": 132,
   "metadata": {
    "ExecuteTime": {
     "end_time": "2022-12-28T13:37:06.864564Z",
     "start_time": "2022-12-28T13:37:06.822874Z"
    }
   },
   "outputs": [
    {
     "data": {
      "text/html": [
       "<div>\n",
       "<style scoped>\n",
       "    .dataframe tbody tr th:only-of-type {\n",
       "        vertical-align: middle;\n",
       "    }\n",
       "\n",
       "    .dataframe tbody tr th {\n",
       "        vertical-align: top;\n",
       "    }\n",
       "\n",
       "    .dataframe thead th {\n",
       "        text-align: right;\n",
       "    }\n",
       "</style>\n",
       "<table border=\"1\" class=\"dataframe\">\n",
       "  <thead>\n",
       "    <tr style=\"text-align: right;\">\n",
       "      <th></th>\n",
       "      <th>label</th>\n",
       "      <th>review</th>\n",
       "    </tr>\n",
       "  </thead>\n",
       "  <tbody>\n",
       "    <tr>\n",
       "      <th>439017</th>\n",
       "      <td>2</td>\n",
       "      <td>This place a has a really good burger and grea...</td>\n",
       "    </tr>\n",
       "    <tr>\n",
       "      <th>221161</th>\n",
       "      <td>2</td>\n",
       "      <td>me, wifey and biggie had to do a vegas trip. B...</td>\n",
       "    </tr>\n",
       "    <tr>\n",
       "      <th>209246</th>\n",
       "      <td>2</td>\n",
       "      <td>So I'm standing here, still waiting for assist...</td>\n",
       "    </tr>\n",
       "    <tr>\n",
       "      <th>338963</th>\n",
       "      <td>1</td>\n",
       "      <td>Bland, so so</td>\n",
       "    </tr>\n",
       "    <tr>\n",
       "      <th>470405</th>\n",
       "      <td>1</td>\n",
       "      <td>First off the staff here are amazing and surpr...</td>\n",
       "    </tr>\n",
       "  </tbody>\n",
       "</table>\n",
       "</div>"
      ],
      "text/plain": [
       "        label                                             review\n",
       "439017      2  This place a has a really good burger and grea...\n",
       "221161      2  me, wifey and biggie had to do a vegas trip. B...\n",
       "209246      2  So I'm standing here, still waiting for assist...\n",
       "338963      1                                       Bland, so so\n",
       "470405      1  First off the staff here are amazing and surpr..."
      ]
     },
     "execution_count": 132,
     "metadata": {},
     "output_type": "execute_result"
    }
   ],
   "source": [
    "df_train.head()"
   ]
  },
  {
   "cell_type": "code",
   "execution_count": 133,
   "metadata": {
    "ExecuteTime": {
     "end_time": "2022-12-28T13:37:06.912443Z",
     "start_time": "2022-12-28T13:37:06.871671Z"
    }
   },
   "outputs": [
    {
     "data": {
      "text/html": [
       "<div>\n",
       "<style scoped>\n",
       "    .dataframe tbody tr th:only-of-type {\n",
       "        vertical-align: middle;\n",
       "    }\n",
       "\n",
       "    .dataframe tbody tr th {\n",
       "        vertical-align: top;\n",
       "    }\n",
       "\n",
       "    .dataframe thead th {\n",
       "        text-align: right;\n",
       "    }\n",
       "</style>\n",
       "<table border=\"1\" class=\"dataframe\">\n",
       "  <thead>\n",
       "    <tr style=\"text-align: right;\">\n",
       "      <th></th>\n",
       "      <th>label</th>\n",
       "      <th>review</th>\n",
       "    </tr>\n",
       "  </thead>\n",
       "  <tbody>\n",
       "    <tr>\n",
       "      <th>0</th>\n",
       "      <td>1</td>\n",
       "      <td>Ordered a large Mango-Pineapple smoothie. Stay...</td>\n",
       "    </tr>\n",
       "    <tr>\n",
       "      <th>1</th>\n",
       "      <td>2</td>\n",
       "      <td>Quite a surprise!  \\n\\nMy wife and I loved thi...</td>\n",
       "    </tr>\n",
       "    <tr>\n",
       "      <th>2</th>\n",
       "      <td>1</td>\n",
       "      <td>First I will say, this is a nice atmosphere an...</td>\n",
       "    </tr>\n",
       "    <tr>\n",
       "      <th>3</th>\n",
       "      <td>2</td>\n",
       "      <td>I was overall pretty impressed by this hotel. ...</td>\n",
       "    </tr>\n",
       "    <tr>\n",
       "      <th>4</th>\n",
       "      <td>1</td>\n",
       "      <td>Video link at bottom review. Worst service I h...</td>\n",
       "    </tr>\n",
       "  </tbody>\n",
       "</table>\n",
       "</div>"
      ],
      "text/plain": [
       "   label                                             review\n",
       "0      1  Ordered a large Mango-Pineapple smoothie. Stay...\n",
       "1      2  Quite a surprise!  \\n\\nMy wife and I loved thi...\n",
       "2      1  First I will say, this is a nice atmosphere an...\n",
       "3      2  I was overall pretty impressed by this hotel. ...\n",
       "4      1  Video link at bottom review. Worst service I h..."
      ]
     },
     "execution_count": 133,
     "metadata": {},
     "output_type": "execute_result"
    }
   ],
   "source": [
    "df_test.head()"
   ]
  },
  {
   "cell_type": "code",
   "execution_count": 134,
   "metadata": {
    "ExecuteTime": {
     "end_time": "2022-12-28T13:37:06.945514Z",
     "start_time": "2022-12-28T13:37:06.920761Z"
    }
   },
   "outputs": [
    {
     "data": {
      "text/plain": [
       "array([2, 1], dtype=int64)"
      ]
     },
     "execution_count": 134,
     "metadata": {},
     "output_type": "execute_result"
    }
   ],
   "source": [
    "df_train['label'].unique()"
   ]
  },
  {
   "cell_type": "code",
   "execution_count": 135,
   "metadata": {
    "ExecuteTime": {
     "end_time": "2022-12-28T13:37:14.628095Z",
     "start_time": "2022-12-28T13:37:14.613565Z"
    }
   },
   "outputs": [],
   "source": [
    "df_train.reset_index(drop=True, inplace=True)"
   ]
  },
  {
   "cell_type": "code",
   "execution_count": 137,
   "metadata": {
    "ExecuteTime": {
     "end_time": "2022-12-28T13:37:51.370176Z",
     "start_time": "2022-12-28T13:37:51.338117Z"
    }
   },
   "outputs": [],
   "source": [
    "df_train['label'] = df_train['label'] - 1\n",
    "df_test['label'] = df_test['label'] - 1"
   ]
  },
  {
   "cell_type": "code",
   "execution_count": 138,
   "metadata": {
    "ExecuteTime": {
     "end_time": "2022-12-28T13:39:25.609441Z",
     "start_time": "2022-12-28T13:39:21.711658Z"
    }
   },
   "outputs": [],
   "source": [
    "df_train['review'] = df_train['review'].apply(preprocess_text)\n",
    "df_test['review'] = df_test['review'].apply(preprocess_text)"
   ]
  },
  {
   "cell_type": "code",
   "execution_count": 139,
   "metadata": {
    "ExecuteTime": {
     "end_time": "2022-12-28T13:40:51.961160Z",
     "start_time": "2022-12-28T13:40:51.929693Z"
    }
   },
   "outputs": [],
   "source": [
    "reviews_train, reviews_val = train_test_split(df_train, test_size=0.33)"
   ]
  },
  {
   "cell_type": "code",
   "execution_count": 149,
   "metadata": {
    "ExecuteTime": {
     "end_time": "2022-12-28T13:51:53.770912Z",
     "start_time": "2022-12-28T13:50:04.002824Z"
    }
   },
   "outputs": [],
   "source": [
    "from nltk.stem.snowball import SnowballStemmer\n",
    "snow_stemmer = SnowballStemmer(language='english')\n",
    "\n",
    "class Vocab:\n",
    "    def __init__(self, reviews):\n",
    "        word_bag = set()\n",
    "        for sent in reviews:\n",
    "            sent = set(map(snow_stemmer.stem, word_tokenize(sent)))\n",
    "            word_bag |= sent\n",
    "\n",
    "        self.idx_to_token = dict(zip(range(1, len(word_bag) + 1), word_bag))\n",
    "\n",
    "        self.token_to_idx = {v: u for u, v in self.idx_to_token.items()}\n",
    "        self.vocab_len = len(self.idx_to_token)\n",
    "\n",
    "\n",
    "vocab_review = Vocab(reviews_train['review'])"
   ]
  },
  {
   "cell_type": "code",
   "execution_count": 170,
   "metadata": {
    "ExecuteTime": {
     "end_time": "2022-12-28T14:19:09.477638Z",
     "start_time": "2022-12-28T14:19:09.453974Z"
    }
   },
   "outputs": [],
   "source": [
    "class ReviewDataset(Dataset):\n",
    "    def __init__(self, X, y, vocab):\n",
    "        self.X = X.values\n",
    "        self.y = y.values\n",
    "        self.vocab = vocab\n",
    "\n",
    "    def vectorize(self, review):\n",
    "        review = review.lower()\n",
    "        output_tensor = torch.zeros(124, dtype=torch.long)\n",
    "\n",
    "        for i, word in enumerate(word_tokenize(review)[:124], 1):\n",
    "\n",
    "            word = snow_stemmer.stem(word)\n",
    "            if word in self.vocab.token_to_idx.keys():\n",
    "                output_tensor[124 - i] = self.vocab.token_to_idx[word]\n",
    "\n",
    "        return output_tensor\n",
    "\n",
    "    def __len__(self):\n",
    "        return len(self.X)\n",
    "\n",
    "    def __getitem__(self, idx):\n",
    "        X = self.vectorize(self.X[idx])\n",
    "        return X, torch.tensor(self.y[idx]).long()"
   ]
  },
  {
   "cell_type": "code",
   "execution_count": 171,
   "metadata": {
    "ExecuteTime": {
     "end_time": "2022-12-28T14:19:09.802714Z",
     "start_time": "2022-12-28T14:19:09.791389Z"
    }
   },
   "outputs": [],
   "source": [
    "d_val = ReviewDataset(reviews_val['review'], reviews_val['label'], vocab_review)"
   ]
  },
  {
   "cell_type": "code",
   "execution_count": 174,
   "metadata": {
    "ExecuteTime": {
     "end_time": "2022-12-28T14:20:13.380290Z",
     "start_time": "2022-12-28T14:20:13.243669Z"
    }
   },
   "outputs": [],
   "source": [
    "kernels = [124, 64, 128, 256]\n",
    "convs = torch.nn.Sequential()\n",
    "for i in range(len(kernels) - 1):\n",
    "    convs.add_module(f'conv {i}', torch.nn.Conv1d(kernels[i], kernels[i + 1], 3))\n",
    "    convs.add_module(f'pooling {i}', torch.nn.MaxPool1d(3))\n",
    "    convs.add_module(f'func {i}', torch.nn.ReLU())\n",
    "    convs.add_module(f'dropout {i}', torch.nn.Dropout(0.5))\n",
    "\n",
    "model = torch.nn.Sequential(\n",
    "    torch.nn.Embedding(vocab_review.vocab_len + 1, 128),\n",
    "    convs,\n",
    "    torch.nn.Flatten(),\n",
    "    torch.nn.Linear(768, 1024),\n",
    "    torch.nn.ReLU(),\n",
    "    torch.nn.Linear(1024, 2)\n",
    ")"
   ]
  },
  {
   "cell_type": "code",
   "execution_count": 178,
   "metadata": {
    "ExecuteTime": {
     "end_time": "2022-12-28T14:22:01.119545Z",
     "start_time": "2022-12-28T14:22:01.103533Z"
    }
   },
   "outputs": [],
   "source": [
    "train_final = ReviewDataset(reviews_train['review'], reviews_train['label'], vocab_review)\n",
    "val_final = ReviewDataset(reviews_val['review'], reviews_val['label'], vocab_review)"
   ]
  },
  {
   "cell_type": "code",
   "execution_count": 180,
   "metadata": {
    "ExecuteTime": {
     "end_time": "2022-12-28T14:55:28.090507Z",
     "start_time": "2022-12-28T14:36:24.366090Z"
    }
   },
   "outputs": [
    {
     "name": "stdout",
     "output_type": "stream",
     "text": [
      "Epoch 0\n",
      "Test loss 0.3208394374401924\n",
      "Train loss 0.3269439144932635\n",
      "--------------------\n",
      "Epoch 1\n",
      "Test loss 0.33712365212737483\n",
      "Train loss 0.2886391437566463\n",
      "--------------------\n",
      "Epoch 2\n",
      "Test loss 0.2989498794491316\n",
      "Train loss 0.2594929777111166\n",
      "--------------------\n",
      "Epoch 3\n",
      "Test loss 0.2933862428970403\n",
      "Train loss 0.2319720901637711\n",
      "--------------------\n",
      "Wall time: 19min 3s\n"
     ]
    },
    {
     "data": {
      "text/plain": [
       "<All keys matched successfully>"
      ]
     },
     "execution_count": 180,
     "metadata": {},
     "output_type": "execute_result"
    }
   ],
   "source": [
    "%%time\n",
    "\n",
    "optimizer = torch.optim.Adam(model.parameters())\n",
    "loss = torch.nn.CrossEntropyLoss()\n",
    "loss_train_list = []\n",
    "loss_test_list = []\n",
    "min_test_loss = np.inf\n",
    "\n",
    "for i in range(4):\n",
    "    loss_train = 0\n",
    "    loss_test = 0\n",
    "\n",
    "    j, k = 1, 1  \n",
    "\n",
    "    model.train()\n",
    "    for j, (batch_x, batch_y) in enumerate(DataLoader(train_final, batch_size=64, shuffle=True), 1):\n",
    "        y_pred = model(batch_x)\n",
    "        running_loss = loss(y_pred, batch_y)\n",
    "        loss_train += running_loss.item()\n",
    "\n",
    "        running_loss.backward()\n",
    "        optimizer.step()\n",
    "        optimizer.zero_grad()\n",
    "\n",
    "    model.eval()\n",
    "    for k, (batch_x, batch_y) in enumerate(DataLoader(val_final, batch_size=64), 1):\n",
    "        y_pred = model(batch_x)\n",
    "        running_loss = loss(y_pred, batch_y)\n",
    "        loss_test += running_loss.item()\n",
    "\n",
    "    loss_train /= j\n",
    "    loss_test /= k\n",
    "\n",
    "    if loss_test < min_test_loss:\n",
    "        min_test_loss = loss_test\n",
    "        torch.save(model.state_dict(), 'model_surname.pt')\n",
    "\n",
    "    print(f\"Epoch {i}\\n\"\n",
    "         f\"Test loss {loss_test}\\n\"\n",
    "         f\"Train loss {loss_train}\")\n",
    "    print('-' * 20)\n",
    "\n",
    "    loss_train_list.append(loss_train)\n",
    "    loss_test_list.append(loss_test)\n",
    "\n",
    "model.load_state_dict(torch.load('model_surname.pt'))"
   ]
  },
  {
   "cell_type": "code",
   "execution_count": 181,
   "metadata": {
    "ExecuteTime": {
     "end_time": "2022-12-28T17:44:03.310236Z",
     "start_time": "2022-12-28T17:44:02.920253Z"
    }
   },
   "outputs": [
    {
     "data": {
      "image/png": "[encoded data removed]",
      "text/plain": [
       "<Figure size 640x480 with 1 Axes>"
      ]
     },
     "metadata": {},
     "output_type": "display_data"
    }
   ],
   "source": [
    "import matplotlib.pyplot as plt\n",
    "\n",
    "plt.plot(loss_train_list, label='train')\n",
    "plt.plot(loss_test_list, label='test')\n",
    "plt.legend();"
   ]
  },
  {
   "cell_type": "code",
   "execution_count": 184,
   "metadata": {
    "ExecuteTime": {
     "end_time": "2022-12-28T17:45:39.497097Z",
     "start_time": "2022-12-28T17:45:39.484311Z"
    }
   },
   "outputs": [],
   "source": [
    "test_final = ReviewDataset(df_test['review'], df_test['label'], vocab_review)"
   ]
  },
  {
   "cell_type": "code",
   "execution_count": 185,
   "metadata": {
    "ExecuteTime": {
     "end_time": "2022-12-28T17:49:46.684189Z",
     "start_time": "2022-12-28T17:46:39.389541Z"
    }
   },
   "outputs": [
    {
     "name": "stdout",
     "output_type": "stream",
     "text": [
      "Test accuracy: 0.8771842122077942\n"
     ]
    }
   ],
   "source": [
    "model.eval()\n",
    "right_answers = 0\n",
    "for batch_x, batch_y in DataLoader(test_final, batch_size=64):\n",
    "    predictions = model(batch_x).argmax(dim=1)\n",
    "    right_answers += (torch.eq(batch_y, predictions)).sum()\n",
    "\n",
    "print(f'Test accuracy: {right_answers / len(test_final)}')"
   ]
  },
  {
   "cell_type": "code",
   "execution_count": 220,
   "metadata": {
    "ExecuteTime": {
     "end_time": "2022-12-28T17:58:01.108371Z",
     "start_time": "2022-12-28T17:58:01.082743Z"
    }
   },
   "outputs": [],
   "source": [
    "def vectorize(review):\n",
    "        review = review.lower()\n",
    "        output_tensor = torch.zeros(1, 124, dtype=torch.long)\n",
    "\n",
    "        for i, word in enumerate(word_tokenize(review)[:124], 1):\n",
    "\n",
    "            word = snow_stemmer.stem(word)\n",
    "            if word in vocab_review.token_to_idx.keys():\n",
    "                output_tensor[0, i] = vocab_review.token_to_idx[word]\n",
    "\n",
    "        return output_tensor"
   ]
  },
  {
   "cell_type": "code",
   "execution_count": 228,
   "metadata": {
    "ExecuteTime": {
     "end_time": "2022-12-28T17:59:20.979571Z",
     "start_time": "2022-12-28T17:59:20.951446Z"
    }
   },
   "outputs": [
    {
     "data": {
      "text/plain": [
       "tensor([1])"
      ]
     },
     "execution_count": 228,
     "metadata": {},
     "output_type": "execute_result"
    }
   ],
   "source": [
    "model(vectorize('i like this. thanks for this very good service. nice cafe.')).argmax(1)"
   ]
  },
  {
   "cell_type": "code",
   "execution_count": null,
   "metadata": {},
   "outputs": [],
   "source": []
  }
 ],
 "metadata": {
  "colab": {
   "authorship_tag": "ABX9TyMJ70DQQj2X/XaG2BMq6jy8",
   "collapsed_sections": [],
   "name": "blank__05_NLP_1_intro.ipynb",
   "provenance": [],
   "toc_visible": true
  },
  "kernelspec": {
   "display_name": "fa-ml-course",
   "language": "python",
   "name": "fa-ml-course"
  },
  "language_info": {
   "codemirror_mode": {
    "name": "ipython",
    "version": 3
   },
   "file_extension": ".py",
   "mimetype": "text/x-python",
   "name": "python",
   "nbconvert_exporter": "python",
   "pygments_lexer": "ipython3",
   "version": "3.7.12"
  },
  "toc": {
   "base_numbering": 1,
   "nav_menu": {},
   "number_sections": true,
   "sideBar": true,
   "skip_h1_title": false,
   "title_cell": "Table of Contents",
   "title_sidebar": "Contents",
   "toc_cell": false,
   "toc_position": {},
   "toc_section_display": true,
   "toc_window_display": false
  }
 },
 "nbformat": 4,
 "nbformat_minor": 1
}
