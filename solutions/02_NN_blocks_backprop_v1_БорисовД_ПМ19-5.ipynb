{
 "cells": [
  {
   "cell_type": "code",
   "execution_count": 10,
   "metadata": {
    "ExecuteTime": {
     "end_time": "2022-10-28T18:49:40.854869Z",
     "start_time": "2022-10-28T18:49:40.775573Z"
    },
    "id": "PqC4R7SGseKa"
   },
   "outputs": [],
   "source": [
    "import torch"
   ]
  },
  {
   "cell_type": "code",
   "execution_count": 11,
   "metadata": {
    "ExecuteTime": {
     "end_time": "2022-10-28T18:49:43.579728Z",
     "start_time": "2022-10-28T18:49:43.553049Z"
    }
   },
   "outputs": [
    {
     "data": {
      "text/plain": [
       "'1.8.1+cpu'"
      ]
     },
     "execution_count": 11,
     "metadata": {},
     "output_type": "execute_result"
    }
   ],
   "source": [
    "torch.__version__"
   ]
  },
  {
   "cell_type": "markdown",
   "metadata": {
    "id": "0J2RM8f5wP33"
   },
   "source": [
    "## 2.1 Создание нейронов и полносвязных слоев"
   ]
  },
  {
   "cell_type": "markdown",
   "metadata": {
    "id": "_2ArJn_nsdZC"
   },
   "source": [
    "2.1.1. Используя операции над матрицами и векторами из библиотеки `torch`, реализовать нейрон с заданными весами `weights` и `bias`. Прогнать вектор `inputs` через нейрон и вывести результат. "
   ]
  },
  {
   "cell_type": "code",
   "execution_count": 12,
   "metadata": {
    "ExecuteTime": {
     "end_time": "2022-10-28T18:49:45.102314Z",
     "start_time": "2022-10-28T18:49:45.077946Z"
    },
    "id": "f4agkY9WqPwe"
   },
   "outputs": [],
   "source": [
    "class Neuron:\n",
    "    def __init__(self, weights, bias):\n",
    "        self.weights = weights\n",
    "        self.bias = bias\n",
    "  \n",
    "    def forward(self, inputs):\n",
    "        return inputs @ self.weights + self.bias"
   ]
  },
  {
   "cell_type": "code",
   "execution_count": 13,
   "metadata": {
    "ExecuteTime": {
     "end_time": "2022-10-28T18:49:45.433663Z",
     "start_time": "2022-10-28T18:49:45.408941Z"
    },
    "id": "HJRkSkHHsb7u"
   },
   "outputs": [],
   "source": [
    "inputs = torch.tensor([1.0, 2.0, 3.0, 4.0])\n",
    "weights = torch.tensor([-0.2, 0.3, -0.5, 0.7])\n",
    "bias = 3.14"
   ]
  },
  {
   "cell_type": "code",
   "execution_count": 14,
   "metadata": {
    "ExecuteTime": {
     "end_time": "2022-10-28T18:49:45.905937Z",
     "start_time": "2022-10-28T18:49:45.854199Z"
    }
   },
   "outputs": [
    {
     "data": {
      "text/plain": [
       "tensor(4.8400)"
      ]
     },
     "execution_count": 14,
     "metadata": {},
     "output_type": "execute_result"
    }
   ],
   "source": [
    "n = Neuron(weights, bias)\n",
    "n.forward(inputs)"
   ]
  },
  {
   "cell_type": "markdown",
   "metadata": {
    "id": "1qJvnwiyty37"
   },
   "source": [
    "2.1.2 Используя операции над матрицами и векторами из библиотеки `torch`, реализовать полносвязный слой с заданными весами `weights` и `biases`. Прогнать вектор `inputs` через слой и вывести результат. "
   ]
  },
  {
   "cell_type": "code",
   "execution_count": 15,
   "metadata": {
    "ExecuteTime": {
     "end_time": "2022-10-28T18:49:48.509019Z",
     "start_time": "2022-10-28T18:49:48.485257Z"
    },
    "id": "fVWF3a9vtx90"
   },
   "outputs": [],
   "source": [
    "class Linear:\n",
    "    def __init__(self, weights, biases):\n",
    "        self.weights = weights\n",
    "        self.biases = biases\n",
    "        \n",
    "  \n",
    "    def forward(self, inputs):\n",
    "        return torch.matmul(inputs, self.weights) + self.biases"
   ]
  },
  {
   "cell_type": "code",
   "execution_count": 16,
   "metadata": {
    "ExecuteTime": {
     "end_time": "2022-10-28T18:49:48.790251Z",
     "start_time": "2022-10-28T18:49:48.770650Z"
    },
    "id": "Fo-JFnHPuFCS"
   },
   "outputs": [],
   "source": [
    "inputs = torch.tensor([1.0, 2.0, 3.0, 4.0])\n",
    "weights = torch.tensor([[-0.2, 0.3, -0.5, 0.7],\n",
    "                        [0.5, -0.91, 0.26, -0.5],\n",
    "                        [-0.26, -0.27, 0.17, 0.87]]).T\n",
    "\n",
    "biases = torch.tensor([3.14, 2.71, 7.2])"
   ]
  },
  {
   "cell_type": "code",
   "execution_count": 17,
   "metadata": {
    "ExecuteTime": {
     "end_time": "2022-10-28T18:49:49.417543Z",
     "start_time": "2022-10-28T18:49:49.403136Z"
    }
   },
   "outputs": [
    {
     "data": {
      "text/plain": [
       "tensor([ 4.8400,  0.1700, 10.3900])"
      ]
     },
     "execution_count": 17,
     "metadata": {},
     "output_type": "execute_result"
    }
   ],
   "source": [
    "linear = Linear(weights, biases)\n",
    "linear.forward(inputs)"
   ]
  },
  {
   "cell_type": "markdown",
   "metadata": {
    "id": "mQtsJzcxuyGd"
   },
   "source": [
    "2.1.3 Реализовать полносвязный слой из __2.1.2__ таким образом, чтобы он мог принимать на вход матрицу (батч) с данными. Продемонстрировать работу.\n",
    "Результатом прогона сквозь слой должна быть матрица размера `batch_size` x `n_neurons`.\n"
   ]
  },
  {
   "cell_type": "code",
   "execution_count": 32,
   "metadata": {
    "ExecuteTime": {
     "end_time": "2022-10-28T18:58:05.422683Z",
     "start_time": "2022-10-28T18:58:05.414093Z"
    },
    "id": "Z8IizmtsuhO1"
   },
   "outputs": [],
   "source": [
    "inputs = torch.tensor([[1, 2, 3, 2.5], \n",
    "                       [2, 5, -1, 2], \n",
    "                       [-1.5, 2.7, 3.3, -0.8]])"
   ]
  },
  {
   "cell_type": "code",
   "execution_count": 33,
   "metadata": {
    "ExecuteTime": {
     "end_time": "2022-10-28T18:58:05.812757Z",
     "start_time": "2022-10-28T18:58:05.796842Z"
    }
   },
   "outputs": [],
   "source": [
    "class Linear:\n",
    "    def __init__(self, weights, biases):\n",
    "        self.weights = weights\n",
    "        self.biases = biases\n",
    "        \n",
    "  \n",
    "    def forward(self, inputs):\n",
    "        return torch.matmul(inputs, self.weights) + self.biases"
   ]
  },
  {
   "cell_type": "code",
   "execution_count": 34,
   "metadata": {
    "ExecuteTime": {
     "end_time": "2022-10-28T18:58:06.078270Z",
     "start_time": "2022-10-28T18:58:06.070519Z"
    }
   },
   "outputs": [],
   "source": [
    "linear = Linear(weights, biases)"
   ]
  },
  {
   "cell_type": "code",
   "execution_count": 35,
   "metadata": {
    "ExecuteTime": {
     "end_time": "2022-10-28T18:58:06.390096Z",
     "start_time": "2022-10-28T18:58:06.381146Z"
    }
   },
   "outputs": [
    {
     "data": {
      "text/plain": [
       "tensor([[ 3.7900,  0.9200,  9.0850],\n",
       "        [ 6.1400, -2.1000,  6.9000],\n",
       "        [ 2.0400,  0.7610,  6.7260]])"
      ]
     },
     "execution_count": 35,
     "metadata": {},
     "output_type": "execute_result"
    }
   ],
   "source": [
    "linear.forward(inputs)"
   ]
  },
  {
   "cell_type": "markdown",
   "metadata": {
    "id": "OQ2OxH4_vBLu"
   },
   "source": [
    "2.1.4 Используя операции над матрицами и векторами из библиотеки `torch`, реализовать полносвязный слой из `n_neurons` нейронов с `n_features` весами у каждого нейрона (инициализируются из стандартного нормального распределения). Прогнать вектор `inputs` через слой и вывести результат. Результатом прогона сквозь слой должна быть матрица размера `batch_size` x `n_neurons`."
   ]
  },
  {
   "cell_type": "code",
   "execution_count": 36,
   "metadata": {
    "ExecuteTime": {
     "end_time": "2022-10-28T18:58:11.555867Z",
     "start_time": "2022-10-28T18:58:11.545448Z"
    },
    "id": "IOv52EdovASs"
   },
   "outputs": [],
   "source": [
    "class Linear:\n",
    "    def __init__(self, n_features, n_neurons):\n",
    "    # <создать атрибуты объекта weights и biases>\n",
    "        self.weights = torch.randn(n_features, n_neurons)\n",
    "        self.biases = torch.randn(n_neurons)\n",
    "        \n",
    "        \n",
    "  \n",
    "    def forward(self, inputs):\n",
    "        return inputs @ self.weights + self.biases # <реализовать логику слоя>"
   ]
  },
  {
   "cell_type": "code",
   "execution_count": 44,
   "metadata": {
    "ExecuteTime": {
     "end_time": "2022-10-28T19:02:30.119615Z",
     "start_time": "2022-10-28T19:02:30.097063Z"
    }
   },
   "outputs": [
    {
     "data": {
      "text/plain": [
       "tensor([[-3.2161,  2.3278,  1.8541, -3.5596,  2.1133],\n",
       "        [-0.6905,  6.5369, -1.8593,  1.8942, 10.1693],\n",
       "        [-4.5613,  2.3703,  1.8280,  2.1748,  0.0151]])"
      ]
     },
     "execution_count": 44,
     "metadata": {},
     "output_type": "execute_result"
    }
   ],
   "source": [
    "linear = Linear(4, 5)\n",
    "linear.forward(inputs)"
   ]
  },
  {
   "cell_type": "markdown",
   "metadata": {
    "id": "IPG4UqL4wajI"
   },
   "source": [
    "2.1.5 Используя решение из __2.1.4__, создать 2 полносвязных слоя и пропустить матрицу `inputs` последовательно через эти два слоя. Количество нейронов в первом слое выбрать произвольно, количество нейронов во втором слое выбрать так, чтобы результатом прогона являлась матрица (3x7). "
   ]
  },
  {
   "cell_type": "code",
   "execution_count": 52,
   "metadata": {
    "ExecuteTime": {
     "end_time": "2022-10-28T19:06:02.706684Z",
     "start_time": "2022-10-28T19:06:02.693779Z"
    },
    "id": "RjjQIQlTxJE6"
   },
   "outputs": [],
   "source": [
    "inputs = torch.tensor([[1, 2, 3, 2.5], \n",
    "                       [2, 5, -1, 2], \n",
    "                       [-1.5, 2.7, 3.3, -0.8]])"
   ]
  },
  {
   "cell_type": "code",
   "execution_count": 65,
   "metadata": {
    "ExecuteTime": {
     "end_time": "2022-10-28T19:10:41.004279Z",
     "start_time": "2022-10-28T19:10:40.993909Z"
    }
   },
   "outputs": [
    {
     "data": {
      "text/plain": [
       "tensor([[  6.6735, -15.2159, -29.8899, -20.2692,  -7.1432,  -8.6822, -13.0969],\n",
       "        [  4.4222, -14.0789, -27.7349, -13.2002,  -4.1608, -12.5913, -13.2708],\n",
       "        [  7.8967, -12.6192, -19.2000, -25.7941,  -1.8924,   3.4789,  -6.4616]])"
      ]
     },
     "execution_count": 65,
     "metadata": {},
     "output_type": "execute_result"
    }
   ],
   "source": [
    "linear_1 = Linear(4, 6)\n",
    "linear_2 = Linear(6, 7)\n",
    "linear_2.forward(linear_1.forward(inputs))"
   ]
  },
  {
   "cell_type": "markdown",
   "metadata": {
    "id": "cRVH_2K7xTBC"
   },
   "source": [
    "## 2.2 Создание функций активации"
   ]
  },
  {
   "cell_type": "markdown",
   "metadata": {
    "id": "B9kngE6Fxs9D"
   },
   "source": [
    "2.2.1 Используя операции над матрицами и векторами из библиотеки `torch`, реализовать функцию активации ReLU:\n",
    "\n",
    "![](https://wikimedia.org/api/rest_v1/media/math/render/svg/f4353f4e3e484130504049599d2e7b040793e1eb)\n",
    "\n",
    "Создать матрицу размера (4,3), заполненную числами из стандартного нормального распределения, и проверить работоспособность функции активации."
   ]
  },
  {
   "cell_type": "code",
   "execution_count": 88,
   "metadata": {
    "ExecuteTime": {
     "end_time": "2022-10-28T19:21:23.453751Z",
     "start_time": "2022-10-28T19:21:23.445579Z"
    },
    "id": "jZLvMRByxSTC"
   },
   "outputs": [],
   "source": [
    "class ReLU:\n",
    "    def forward(self, inputs):\n",
    "    # <реализовать логику ReLU>\n",
    "        return torch.where(inputs >= 0, inputs, torch.zeros(inputs.size()))"
   ]
  },
  {
   "cell_type": "code",
   "execution_count": 89,
   "metadata": {
    "ExecuteTime": {
     "end_time": "2022-10-28T19:21:26.096143Z",
     "start_time": "2022-10-28T19:21:26.089617Z"
    }
   },
   "outputs": [
    {
     "data": {
      "text/plain": [
       "tensor([[-0.0569, -0.3100, -0.6025],\n",
       "        [ 1.5093,  1.5052,  0.6164],\n",
       "        [-0.6756, -0.2793,  1.9852],\n",
       "        [-0.3565,  0.2572, -1.3072]])"
      ]
     },
     "execution_count": 89,
     "metadata": {},
     "output_type": "execute_result"
    }
   ],
   "source": [
    "inputs = torch.randn(4, 3)\n",
    "inputs"
   ]
  },
  {
   "cell_type": "code",
   "execution_count": 90,
   "metadata": {
    "ExecuteTime": {
     "end_time": "2022-10-28T19:21:29.534702Z",
     "start_time": "2022-10-28T19:21:29.516401Z"
    }
   },
   "outputs": [
    {
     "data": {
      "text/plain": [
       "tensor([[0.0000, 0.0000, 0.0000],\n",
       "        [1.5093, 1.5052, 0.6164],\n",
       "        [0.0000, 0.0000, 1.9852],\n",
       "        [0.0000, 0.2572, 0.0000]])"
      ]
     },
     "execution_count": 90,
     "metadata": {},
     "output_type": "execute_result"
    }
   ],
   "source": [
    "relu_func = ReLU()\n",
    "relu_func.forward(inputs)"
   ]
  },
  {
   "cell_type": "markdown",
   "metadata": {
    "id": "puExCWiKyTtb"
   },
   "source": [
    "2.2.2 Используя операции над матрицами и векторами из библиотеки `torch`, реализовать функцию активации softmax:\n",
    "\n",
    "![](https://wikimedia.org/api/rest_v1/media/math/render/svg/6d7500d980c313da83e4117da701bf7c8f1982f5)\n",
    "\n",
    "Создать матрицу размера (4,3), заполненную числами из стандартного нормального распределения, и проверить работоспособность функции активации. Строки матрицы трактовать как выходы линейного слоя некоторого классификатора для 4 различных примеров."
   ]
  },
  {
   "cell_type": "code",
   "execution_count": 101,
   "metadata": {
    "ExecuteTime": {
     "end_time": "2022-10-28T19:28:03.791847Z",
     "start_time": "2022-10-28T19:28:03.779142Z"
    },
    "id": "fXNcFlqqyKHl"
   },
   "outputs": [],
   "source": [
    "class Softmax:\n",
    "    def forward(self, inputs):\n",
    "    # <реализовать логику Softmax>\n",
    "        return torch.exp(inputs) / torch.exp(inputs).sum(axis=1).reshape(-1, 1)"
   ]
  },
  {
   "cell_type": "code",
   "execution_count": 102,
   "metadata": {
    "ExecuteTime": {
     "end_time": "2022-10-28T19:28:39.258671Z",
     "start_time": "2022-10-28T19:28:39.242711Z"
    },
    "scrolled": true
   },
   "outputs": [
    {
     "data": {
      "text/plain": [
       "tensor([[0.4245, 0.3296, 0.2460],\n",
       "        [0.4157, 0.4140, 0.1702],\n",
       "        [0.0595, 0.0885, 0.8519],\n",
       "        [0.3092, 0.5712, 0.1195]])"
      ]
     },
     "execution_count": 102,
     "metadata": {},
     "output_type": "execute_result"
    }
   ],
   "source": [
    "softmax = Softmax()\n",
    "softmax.forward(inputs)"
   ]
  },
  {
   "cell_type": "markdown",
   "metadata": {
    "id": "vxVK2TYez_Ye"
   },
   "source": [
    "2.2.3 Используя операции над матрицами и векторами из библиотеки `torch`, реализовать функцию активации ELU:\n",
    "\n",
    "![](https://wikimedia.org/api/rest_v1/media/math/render/svg/eb23becd37c3602c4838e53f532163279192e4fd)\n",
    "\n",
    "Создать матрицу размера (4,3), заполненную числами из стандартного нормального распределения, и проверить работоспособность функции активации."
   ]
  },
  {
   "cell_type": "code",
   "execution_count": 109,
   "metadata": {
    "ExecuteTime": {
     "end_time": "2022-10-28T19:33:50.729066Z",
     "start_time": "2022-10-28T19:33:50.713188Z"
    },
    "id": "NzMz7HDLySxK"
   },
   "outputs": [],
   "source": [
    "class ELU:\n",
    "    def __init__(self, alpha):\n",
    "    # <создать атрибут объекта alpha>\n",
    "        self.alpha = alpha\n",
    "\n",
    "    def forward(self, inputs):\n",
    "    # <реализовать логику ReLU>\n",
    "        m = self.alpha * (torch.exp(inputs) - 1)\n",
    "        return torch.where(inputs >= 0, inputs, m)     "
   ]
  },
  {
   "cell_type": "code",
   "execution_count": 113,
   "metadata": {
    "ExecuteTime": {
     "end_time": "2022-10-28T19:34:40.619478Z",
     "start_time": "2022-10-28T19:34:40.603171Z"
    }
   },
   "outputs": [
    {
     "data": {
      "text/plain": [
       "tensor([[-0.0028, -0.0133, -0.0226],\n",
       "        [ 1.5093,  1.5052,  0.6164],\n",
       "        [-0.0246, -0.0122,  1.9852],\n",
       "        [-0.0150,  0.2572, -0.0365]])"
      ]
     },
     "execution_count": 113,
     "metadata": {},
     "output_type": "execute_result"
    }
   ],
   "source": [
    "elu = ELU(0.05)\n",
    "elu.forward(inputs)"
   ]
  },
  {
   "cell_type": "markdown",
   "metadata": {
    "id": "0peh8r-20Pof"
   },
   "source": [
    "## 2.3 Создание функции потерь"
   ]
  },
  {
   "cell_type": "markdown",
   "metadata": {
    "id": "EY-k3eEs0f7f"
   },
   "source": [
    "2.3.1 Используя операции над матрицами и векторами из библиотеки `torch`, реализовать функцию потерь MSE:\n",
    "\n",
    "![](https://wikimedia.org/api/rest_v1/media/math/render/svg/e258221518869aa1c6561bb75b99476c4734108e)\n",
    "\n",
    "Создать полносвязный слой с 1 нейроном, прогнать через него батч `inputs` и посчитать значение MSE, трактуя вектор `y` как вектор правильных ответов."
   ]
  },
  {
   "cell_type": "code",
   "execution_count": 114,
   "metadata": {
    "ExecuteTime": {
     "end_time": "2022-10-28T19:36:11.459249Z",
     "start_time": "2022-10-28T19:36:11.448281Z"
    },
    "id": "f9-wdj5Tz-br"
   },
   "outputs": [],
   "source": [
    "class MSELoss:\n",
    "    def forward(self, y_pred, y_true):\n",
    "        return torch.mean((y_pred - y_true) ** 2) # <реализовать логику MSE>"
   ]
  },
  {
   "cell_type": "code",
   "execution_count": 115,
   "metadata": {
    "ExecuteTime": {
     "end_time": "2022-10-28T19:36:13.217837Z",
     "start_time": "2022-10-28T19:36:13.211472Z"
    },
    "id": "NAyuDU9F1Vuz"
   },
   "outputs": [],
   "source": [
    "inputs = torch.tensor([[1, 2, 3, 2.5], \n",
    "                       [2, 5, -1, 2], \n",
    "                       [-1.5, 2.7, 3.3, -0.8]])\n",
    "\n",
    "y = torch.tensor([2, 3, 4])"
   ]
  },
  {
   "cell_type": "code",
   "execution_count": 122,
   "metadata": {
    "ExecuteTime": {
     "end_time": "2022-10-28T19:39:50.822483Z",
     "start_time": "2022-10-28T19:39:50.805799Z"
    }
   },
   "outputs": [
    {
     "data": {
      "text/plain": [
       "tensor(8.2028)"
      ]
     },
     "execution_count": 122,
     "metadata": {},
     "output_type": "execute_result"
    }
   ],
   "source": [
    "linear = Linear(4, 1)\n",
    "y_pred = linear.forward(inputs)\n",
    "loss = MSELoss()\n",
    "loss.forward(y, y_pred)"
   ]
  },
  {
   "cell_type": "markdown",
   "metadata": {
    "id": "uaR7rILd1eWR"
   },
   "source": [
    "2.3.2 Используя операции над матрицами и векторами из библиотеки `torch`, реализовать функцию потерь Categorical Cross-Entropy:\n",
    "\n",
    "<img src=\"https://i.ibb.co/93gy1dN/Screenshot-9.png\" width=\"200\">\n",
    "\n",
    "Создать полносвязный слой с 3 нейронами и прогнать через него батч `inputs`. Полученный результат пропустить через функцию активации softmax. Посчитать значение CCE, трактуя вектор `y` как вектор правильных ответов."
   ]
  },
  {
   "cell_type": "code",
   "execution_count": 147,
   "metadata": {
    "ExecuteTime": {
     "end_time": "2022-10-28T19:54:21.975826Z",
     "start_time": "2022-10-28T19:54:21.967440Z"
    },
    "id": "hQl8pJsT3HcF"
   },
   "outputs": [],
   "source": [
    "class CategoricalCrossentropyLoss:\n",
    "    def forward(self, y_pred, y_true):\n",
    "    # <реализовать логику CCE>\n",
    "        y_pred = y_pred[range(y_pred.size()[1]), y_true]\n",
    "        return - torch.log(y_pred).sum()"
   ]
  },
  {
   "cell_type": "code",
   "execution_count": 148,
   "metadata": {
    "ExecuteTime": {
     "end_time": "2022-10-28T19:54:22.288998Z",
     "start_time": "2022-10-28T19:54:22.273687Z"
    },
    "id": "s7Qoupfo1ZGJ"
   },
   "outputs": [],
   "source": [
    "inputs = torch.tensor([[1, 2, 3, 2.5], \n",
    "                        [2, 5, -1, 2], \n",
    "                        [-1.5, 2.7, 3.3, -0.8]])\n",
    "y = torch.tensor([1, 0, 0])"
   ]
  },
  {
   "cell_type": "code",
   "execution_count": 166,
   "metadata": {
    "ExecuteTime": {
     "end_time": "2022-10-28T19:57:04.574827Z",
     "start_time": "2022-10-28T19:57:04.563729Z"
    }
   },
   "outputs": [
    {
     "data": {
      "text/plain": [
       "tensor(14.0588)"
      ]
     },
     "execution_count": 166,
     "metadata": {},
     "output_type": "execute_result"
    }
   ],
   "source": [
    "softmax = Softmax()\n",
    "linear = Linear(4, 3)\n",
    "\n",
    "y_pred = softmax.forward(linear.forward(inputs))\n",
    "\n",
    "loss = CategoricalCrossentropyLoss()\n",
    "loss.forward(y_pred, y)"
   ]
  },
  {
   "cell_type": "code",
   "execution_count": 168,
   "metadata": {
    "ExecuteTime": {
     "end_time": "2022-10-28T19:58:02.975930Z",
     "start_time": "2022-10-28T19:58:02.960894Z"
    }
   },
   "outputs": [
    {
     "data": {
      "text/plain": [
       "tensor([[1.3132e-04, 3.6688e-01, 6.3299e-01],\n",
       "        [4.8823e-02, 2.9196e-01, 6.5922e-01],\n",
       "        [4.3773e-05, 8.5955e-01, 1.4041e-01]])"
      ]
     },
     "execution_count": 168,
     "metadata": {},
     "output_type": "execute_result"
    }
   ],
   "source": [
    "y_pred"
   ]
  },
  {
   "cell_type": "markdown",
   "metadata": {
    "id": "fA6dbanf44_4"
   },
   "source": [
    "2.3.3 Модифицировать 2.3.1, добавив L2-регуляризацию.\n",
    "\n",
    "![](https://wikimedia.org/api/rest_v1/media/math/render/svg/d92ca2429275bfdc0474523babbafe014ca8b580)\n"
   ]
  },
  {
   "cell_type": "code",
   "execution_count": 171,
   "metadata": {
    "ExecuteTime": {
     "end_time": "2022-10-28T21:05:24.414754Z",
     "start_time": "2022-10-28T21:05:24.389939Z"
    },
    "id": "ADsZxD-h4_Os"
   },
   "outputs": [],
   "source": [
    "class MSELossL2:\n",
    "    def __init__(self, lambda_):\n",
    "    # <создать атрибут объекта alpha>\n",
    "        self.lambda_ = lambda_\n",
    "\n",
    "    def data_loss(self, y_pred, y_true):\n",
    "    # <подсчет первого слагаемого из формулы>\n",
    "        return torch.mean((y_pred - y_true) ** 2)\n",
    "\n",
    "    def reg_loss(self, layer):\n",
    "    # используйте атрибуты объекта layer, в которых хранятся веса слоя\n",
    "    # <подсчет второго слагаемого из формулы>\n",
    "        return self.lambda_ * ((layer.weights ** 2).sum() + (layer.biases ** 2).sum())\n",
    "        \n",
    "\n",
    "    def forward(self, y_pred, y_true, layer):\n",
    "        return self.data_loss(y_pred, y_true) + self.reg_loss(layer)"
   ]
  },
  {
   "cell_type": "markdown",
   "metadata": {
    "id": "w049ZSdR6qQi"
   },
   "source": [
    "## 2.4 Обратное распространение ошибки"
   ]
  },
  {
   "cell_type": "markdown",
   "metadata": {
    "id": "pBtCfSME9W7Q"
   },
   "source": [
    "2.4.1 Используя один нейрон и SGD (1 пример за шаг), решите задачу регрессии"
   ]
  },
  {
   "cell_type": "code",
   "execution_count": 176,
   "metadata": {
    "ExecuteTime": {
     "end_time": "2022-10-28T21:07:22.360195Z",
     "start_time": "2022-10-28T21:07:18.566322Z"
    },
    "id": "4xmI-QJ66WAF"
   },
   "outputs": [],
   "source": [
    "from sklearn.datasets import make_regression\n",
    "\n",
    "X, y, coef = make_regression(n_features=4, n_informative=4, coef=True, bias=0.5)\n",
    "X = torch.tensor(X).float() # <преобразуйте массивы numpy в тензоры torch с типом torch.float32\n",
    "y = torch.tensor(y).float() # <преобразуйте массивы numpy в тензоры torch с типом torch.float32"
   ]
  },
  {
   "cell_type": "markdown",
   "metadata": {
    "id": "KpPSPYSpD9Ey"
   },
   "source": [
    "[Граф вычислений для этой задачи](https://i.ibb.co/2dhDxZx/photo-2021-02-15-17-18-04.jpg)"
   ]
  },
  {
   "cell_type": "markdown",
   "metadata": {
    "id": "Fc1sXtGd_J-y"
   },
   "source": [
    "2.4.1.1 Реализуйте класс `SquaredLoss`\n"
   ]
  },
  {
   "cell_type": "code",
   "execution_count": 180,
   "metadata": {
    "ExecuteTime": {
     "end_time": "2022-10-28T21:10:36.958261Z",
     "start_time": "2022-10-28T21:10:36.940352Z"
    },
    "id": "llFigkqd_JRU"
   },
   "outputs": [],
   "source": [
    "class SquaredLoss:\n",
    "    def forward(self, y_pred, y_true):\n",
    "        return torch.mean((y_pred - y_true) ** 2)\n",
    "\n",
    "    def backward(self, y_pred, y_true):\n",
    "        self.dinput = 2 * (y_pred - y_true) # df/dc\n"
   ]
  },
  {
   "cell_type": "markdown",
   "metadata": {
    "id": "GY7ForfM97UQ"
   },
   "source": [
    "2.4.1.2. Модифицируйте класс `Neuron` из __2.1.1__:\n",
    "\n",
    "  1) Сделайте так, чтобы веса нейрона инициализировались из стандартного нормального распределения\n",
    "\n",
    "  2) Реализуйте расчет градиента относительно весов `weights` и `bias`"
   ]
  },
  {
   "cell_type": "code",
   "execution_count": 190,
   "metadata": {
    "ExecuteTime": {
     "end_time": "2022-10-28T21:22:20.102352Z",
     "start_time": "2022-10-28T21:22:20.085962Z"
    },
    "id": "L0KqxPJU9kAN"
   },
   "outputs": [],
   "source": [
    "class Neuron:\n",
    "    def __init__(self, n_inputs):\n",
    "    # <создать атрибуты объекта weights и bias>\n",
    "        self.weights = torch.randn(n_inputs, 1)\n",
    "        self.bias = torch.randn(1)\n",
    "  \n",
    "    def forward(self, inputs):\n",
    "        return inputs @ self.weights + self.bias # <реализовать логику нейрона>\n",
    "  \n",
    "    def backward(self, dvalue):\n",
    "    # dvalue - значение производной, которое приходит нейрону от следующего слоя сети\n",
    "    # в данном случае это будет значение df/dc (созданное методом backwards у объекта MSELoss)\n",
    "        self.dweights = dvalue # df/dW\n",
    "        self.dinput =  dvalue * self.weights # df/wX\n",
    "        self.dbias = dvalue # df/db\n"
   ]
  },
  {
   "cell_type": "markdown",
   "metadata": {
    "id": "rKcO4zOLACxM"
   },
   "source": [
    "2.4.1.3 Допишите цикл для настройки весов нейрона\n",
    "\n",
    "[SGD](https://ru.wikipedia.org/wiki/%D0%A1%D1%82%D0%BE%D1%85%D0%B0%D1%81%D1%82%D0%B8%D1%87%D0%B5%D1%81%D0%BA%D0%B8%D0%B9_%D0%B3%D1%80%D0%B0%D0%B4%D0%B8%D0%B5%D0%BD%D1%82%D0%BD%D1%8B%D0%B9_%D1%81%D0%BF%D1%83%D1%81%D0%BA)\n",
    "\n",
    "![](https://wikimedia.org/api/rest_v1/media/math/render/svg/dda3670f8a8996a0d3bf80856bb4a166cc8db6d4)"
   ]
  },
  {
   "cell_type": "code",
   "execution_count": 191,
   "metadata": {
    "ExecuteTime": {
     "end_time": "2022-10-28T21:22:22.025650Z",
     "start_time": "2022-10-28T21:22:21.165080Z"
    },
    "id": "_g_FvwvmALJd"
   },
   "outputs": [],
   "source": [
    "n_inputs = X.shape[1] # <размерность элемента выборки >\n",
    "learning_rate = 0.1 #  скорость обучения\n",
    "n_epoch = 100 #  количество эпох\n",
    "\n",
    "neuron = Neuron(n_inputs)\n",
    "loss = SquaredLoss()\n",
    "\n",
    "losses = []\n",
    "for epoch in range(100):\n",
    "    for x_example, y_example in zip(X, y):\n",
    "        # forward pass\n",
    "        y_pred = neuron.forward(x_example) # <прогон через нейрон>\n",
    "        curr_loss = loss.forward(y_pred, y_example) # <прогон через функцию потерь>\n",
    "        losses.append(curr_loss)\n",
    "\n",
    "        # backprop\n",
    "        # <вызов методов backward>\n",
    "        # обратите внимание на последовательность вызовов: от конца к началу\n",
    "        loss.backward(y_pred, y_example)\n",
    "        neuron.backward(loss.dinput)\n",
    "\n",
    "        # <шаг оптимизации для весов (weights и bias) нейрона>\n",
    "        neuron.weights -= learning_rate * neuron.dweights * x_example.reshape(-1, 1)\n",
    "        neuron.bias -= learning_rate * neuron.dbias"
   ]
  },
  {
   "cell_type": "markdown",
   "metadata": {
    "id": "ebibge9VEgF7"
   },
   "source": [
    "2.4.2 Решите задачу 2.4.1, используя пакетный градиентный спуск"
   ]
  },
  {
   "cell_type": "markdown",
   "metadata": {
    "id": "as-QeWSdOELd"
   },
   "source": [
    "Вычисления для этой задачи: \n",
    "[1](https://i.ibb.co/rmtQT6P/photo-2021-02-15-18-00-43.jpg)\n",
    "[2](https://i.ibb.co/NmCFVnQ/photo-2021-02-15-18-01-17.jpg)"
   ]
  },
  {
   "cell_type": "markdown",
   "metadata": {
    "id": "dr9qq4H_J3zt"
   },
   "source": [
    "2.4.1.1 Модифицируйте класс `MSELoss` из __2.3.1__, реализовав расчет производной относительно предыдущего слоя с учетом того, что теперь работа ведется с батчами, а не с индивидуальными примерами\n",
    " "
   ]
  },
  {
   "cell_type": "code",
   "execution_count": 204,
   "metadata": {
    "ExecuteTime": {
     "end_time": "2022-10-28T21:31:17.164981Z",
     "start_time": "2022-10-28T21:31:17.152410Z"
    },
    "id": "L8wjk9iPMQ4x"
   },
   "outputs": [],
   "source": [
    "class MSELoss:\n",
    "    def forward(self, y_pred, y_true):\n",
    "        return torch.mean((y_pred - y_true) ** 2) # <реализовать логику MSE>\n",
    "\n",
    "    def backward(self, y_pred, y_true):\n",
    "        self.dinput = - 2 / y_pred.shape[0] * (y_true - y_pred).reshape(-1, 1) # df/dy^\n"
   ]
  },
  {
   "cell_type": "markdown",
   "metadata": {
    "id": "E3fSHCEtJjX8"
   },
   "source": [
    "2.4.2.2. Модифицируйте класс `Neuron` из __2.4.1.2__:\n",
    "\n",
    "  1) Реализуйте метод `forward` таким образом, чтобы он мог принимать на вход матрицу (батч) с данными. \n",
    "\n",
    "  2) Реализуйте расчет градиента относительно весов `weights` и `bias` с учетом того, что теперь работа ведется с батчами, а не с индивидуальными примерами"
   ]
  },
  {
   "cell_type": "code",
   "execution_count": 205,
   "metadata": {
    "ExecuteTime": {
     "end_time": "2022-10-28T21:31:17.782007Z",
     "start_time": "2022-10-28T21:31:17.758425Z"
    },
    "id": "o_OpuAP0Jpz1"
   },
   "outputs": [],
   "source": [
    "class Neuron:\n",
    "    def __init__(self, n_inputs):\n",
    "        # <создать атрибуты объекта weights и bias>\n",
    "        self.weights = torch.randn(n_inputs, 1)\n",
    "        self.bias = torch.randn(1)\n",
    "\n",
    "    def forward(self, inputs):\n",
    "        return inputs @ self.weights + self.bias # <реализовать логику нейрона>\n",
    "\n",
    "    def backward(self, dvalue: torch.Tensor):\n",
    "        # dvalue - значение градиента, которое приходит нейрону от следующего слоя сети\n",
    "        # в данном случае это будет градиент L по y^ (созданный методом backwards у объекта MSELoss)\n",
    "        self.dweights = dvalue # df/dW\n",
    "        self.dbias = dvalue.sum(axis=0) # df/db\n"
   ]
  },
  {
   "cell_type": "markdown",
   "metadata": {
    "id": "zO-NZrgKMBFx"
   },
   "source": [
    "2.4.2.3 Допишите цикл для настройки весов нейрона"
   ]
  },
  {
   "cell_type": "code",
   "execution_count": 225,
   "metadata": {
    "ExecuteTime": {
     "end_time": "2022-10-28T21:36:41.171423Z",
     "start_time": "2022-10-28T21:36:41.128922Z"
    }
   },
   "outputs": [],
   "source": [
    "n_inputs = X.shape[1] # <размерность элемента выборки >\n",
    "learning_rate = 0.1  #  скорость обучения\n",
    "n_epoch = 100  #  количество эпох\n",
    "\n",
    "neuron = Neuron(n_inputs)\n",
    "loss = MSELoss()\n",
    "\n",
    "for epoch in range(100):\n",
    "    # forward pass\n",
    "    y_pred = neuron.forward(X)  # <прогон через нейрон>\n",
    "    curr_loss = loss.forward(y_pred.flatten(), y.flatten()) # <прогон через функцию потерь>\n",
    "    losses.append(curr_loss)\n",
    "\n",
    "    # backprop\n",
    "    # <вызов методов backward>\n",
    "    # обратите внимание на последовательность вызовов: от конца к началу\n",
    "    loss.backward(y_pred.flatten(), y.flatten())\n",
    "    neuron.backward(loss.dinput)\n",
    "\n",
    "    # <шаг оптимизации для весов (weights и bias) нейрона>\n",
    "    neuron.weights -= learning_rate * (X.T @ neuron.dweights)\n",
    "    neuron.bias -= learning_rate * neuron.dbias"
   ]
  },
  {
   "cell_type": "markdown",
   "metadata": {
    "id": "16VtP159OdMk"
   },
   "source": [
    "2.4.3  Используя один полносвязный слой и  пакетный градиетный спуск, решите задачу регрессии из __2.4.1__"
   ]
  },
  {
   "cell_type": "markdown",
   "metadata": {
    "id": "uj5febreSSZ7"
   },
   "source": [
    "2.4.3.1 Модифицируйте класс `Linear` из __2.1.4__. ([вычисление градиентов](https://i.ibb.co/kgVR6m6/photo-2021-02-15-21-30-28.jpg))"
   ]
  },
  {
   "cell_type": "code",
   "execution_count": 226,
   "metadata": {
    "ExecuteTime": {
     "end_time": "2022-10-28T21:38:13.636535Z",
     "start_time": "2022-10-28T21:38:13.612741Z"
    },
    "id": "9zWuhaLdSB2_"
   },
   "outputs": [],
   "source": [
    "class Linear:\n",
    "    def __init__(self, n_features, n_neurons):\n",
    "        # <создать атрибуты объекта weights и biases>\n",
    "        self.weights = torch.randn(n_features, n_neurons)\n",
    "        self.biases = torch.randn(n_neurons)\n",
    "\n",
    "    def forward(self, inputs):\n",
    "        self.inputs = inputs\n",
    "        return inputs @ self.weights + self.biases # <реализовать логику слоя>\n",
    "\n",
    "    def backward(self, dvalues):\n",
    "        self.dweights = self.inputs.T @ dvalues # df/dW\n",
    "        self.dbiases = dvalues.sum(axis=0) # df/db\n",
    "        self.dinputs = dvalues @ self.weights.T # df/dX"
   ]
  },
  {
   "cell_type": "markdown",
   "metadata": {
    "id": "j3w1hT9MS_Lt"
   },
   "source": [
    "2.4.3.2 Создайте слой с одним нейроном. Используя класс MSELoss из 2.4.2, убедитесь, что модель обучается"
   ]
  },
  {
   "cell_type": "code",
   "execution_count": 228,
   "metadata": {
    "ExecuteTime": {
     "end_time": "2022-10-28T21:39:26.720049Z",
     "start_time": "2022-10-28T21:39:26.664006Z"
    }
   },
   "outputs": [],
   "source": [
    "n_inputs = X.shape[1] # <размерность элемента выборки >\n",
    "learning_rate = 0.1  #  скорость обучения\n",
    "n_epoch = 100  #  количество эпох\n",
    "\n",
    "neuron = Linear(n_inputs, 1)\n",
    "loss = MSELoss()\n",
    "\n",
    "for epoch in range(100):\n",
    "    # forward pass\n",
    "    y_pred = neuron.forward(X)  # <прогон через нейрон>\n",
    "    curr_loss = loss.forward(y_pred.flatten(), y.flatten()) # <прогон через функцию потерь>\n",
    "    losses.append(curr_loss)\n",
    "\n",
    "    # backprop\n",
    "    # <вызов методов backward>\n",
    "    # обратите внимание на последовательность вызовов: от конца к началу\n",
    "    loss.backward(y_pred.flatten(), y.flatten())\n",
    "    neuron.backward(loss.dinput)\n",
    "\n",
    "    # <шаг оптимизации для весов (weights и bias) нейрона>\n",
    "    neuron.weights -= learning_rate * neuron.dweights\n",
    "    neuron.biases -= learning_rate * neuron.dbiases\n"
   ]
  },
  {
   "cell_type": "code",
   "execution_count": 229,
   "metadata": {
    "ExecuteTime": {
     "end_time": "2022-10-28T21:39:33.178686Z",
     "start_time": "2022-10-28T21:39:32.940015Z"
    }
   },
   "outputs": [
    {
     "data": {
      "text/plain": [
       "[tensor(4410.6958),\n",
       " tensor(1112.8158),\n",
       " tensor(32.4626),\n",
       " tensor(964.6490),\n",
       " tensor(69.1670),\n",
       " tensor(8172.1851),\n",
       " tensor(3169.2385),\n",
       " tensor(1405.8409),\n",
       " tensor(214.0610),\n",
       " tensor(2.4420),\n",
       " tensor(1142.1522),\n",
       " tensor(64.0040),\n",
       " tensor(23.3728),\n",
       " tensor(17.5239),\n",
       " tensor(1540.3134),\n",
       " tensor(15.0900),\n",
       " tensor(678.4977),\n",
       " tensor(468.4083),\n",
       " tensor(14.6846),\n",
       " tensor(687.8504),\n",
       " tensor(160.1971),\n",
       " tensor(621.9562),\n",
       " tensor(5.2460),\n",
       " tensor(723.3969),\n",
       " tensor(6.0456),\n",
       " tensor(182.3979),\n",
       " tensor(198.8844),\n",
       " tensor(1.6545),\n",
       " tensor(528.3586),\n",
       " tensor(117.9837),\n",
       " tensor(0.0001),\n",
       " tensor(442.0663),\n",
       " tensor(2.3886),\n",
       " tensor(90.5303),\n",
       " tensor(14.3466),\n",
       " tensor(0.2990),\n",
       " tensor(1.6385),\n",
       " tensor(47.9434),\n",
       " tensor(5.6029),\n",
       " tensor(65.5643),\n",
       " tensor(0.1514),\n",
       " tensor(3.7279),\n",
       " tensor(68.4772),\n",
       " tensor(0.0592),\n",
       " tensor(20.8294),\n",
       " tensor(15.7685),\n",
       " tensor(13.0904),\n",
       " tensor(10.3994),\n",
       " tensor(2.7695),\n",
       " tensor(17.1165),\n",
       " tensor(0.3085),\n",
       " tensor(0.7305),\n",
       " tensor(0.6116),\n",
       " tensor(0.5805),\n",
       " tensor(0.0862),\n",
       " tensor(0.2811),\n",
       " tensor(0.0679),\n",
       " tensor(0.2488),\n",
       " tensor(0.6259),\n",
       " tensor(0.0650),\n",
       " tensor(1.2223),\n",
       " tensor(0.3563),\n",
       " tensor(0.3598),\n",
       " tensor(1.5034),\n",
       " tensor(0.3009),\n",
       " tensor(0.0643),\n",
       " tensor(0.0020),\n",
       " tensor(0.0349),\n",
       " tensor(0.1185),\n",
       " tensor(0.0039),\n",
       " tensor(0.2567),\n",
       " tensor(0.0036),\n",
       " tensor(0.0081),\n",
       " tensor(0.0038),\n",
       " tensor(0.1433),\n",
       " tensor(0.0085),\n",
       " tensor(0.0104),\n",
       " tensor(0.1766),\n",
       " tensor(0.0375),\n",
       " tensor(0.0291),\n",
       " tensor(0.0179),\n",
       " tensor(0.0140),\n",
       " tensor(0.0092),\n",
       " tensor(0.0007),\n",
       " tensor(0.0025),\n",
       " tensor(0.0071),\n",
       " tensor(0.0019),\n",
       " tensor(0.0501),\n",
       " tensor(0.0003),\n",
       " tensor(0.0278),\n",
       " tensor(0.0013),\n",
       " tensor(0.0033),\n",
       " tensor(0.0157),\n",
       " tensor(0.0004),\n",
       " tensor(0.0016),\n",
       " tensor(0.0009),\n",
       " tensor(0.0006),\n",
       " tensor(1.8189e-05),\n",
       " tensor(0.0004),\n",
       " tensor(0.0007),\n",
       " tensor(0.0002),\n",
       " tensor(8.2292e-06),\n",
       " tensor(6.1435e-06),\n",
       " tensor(0.0001),\n",
       " tensor(0.0004),\n",
       " tensor(9.1972e-06),\n",
       " tensor(8.0090e-05),\n",
       " tensor(0.0002),\n",
       " tensor(0.0003),\n",
       " tensor(0.0001),\n",
       " tensor(2.8278e-05),\n",
       " tensor(8.6352e-05),\n",
       " tensor(1.8030e-06),\n",
       " tensor(2.5670e-06),\n",
       " tensor(4.2105e-05),\n",
       " tensor(7.3770e-06),\n",
       " tensor(1.9784e-05),\n",
       " tensor(5.5628e-06),\n",
       " tensor(3.6671e-06),\n",
       " tensor(8.0984e-06),\n",
       " tensor(4.3860e-06),\n",
       " tensor(3.1360e-05),\n",
       " tensor(2.5670e-06),\n",
       " tensor(1.5929e-05),\n",
       " tensor(1.3411e-07),\n",
       " tensor(2.1013e-06),\n",
       " tensor(1.5465e-06),\n",
       " tensor(3.6327e-07),\n",
       " tensor(6.0352e-06),\n",
       " tensor(2.8173e-06),\n",
       " tensor(2.3575e-08),\n",
       " tensor(8.3831e-06),\n",
       " tensor(0.),\n",
       " tensor(6.6642e-07),\n",
       " tensor(5.4768e-07),\n",
       " tensor(9.3132e-10),\n",
       " tensor(2.1013e-08),\n",
       " tensor(9.4624e-07),\n",
       " tensor(7.1304e-08),\n",
       " tensor(5.7917e-07),\n",
       " tensor(9.3132e-10),\n",
       " tensor(7.1304e-08),\n",
       " tensor(9.9890e-07),\n",
       " tensor(6.1482e-08),\n",
       " tensor(3.0595e-07),\n",
       " tensor(4.8202e-07),\n",
       " tensor(1.2995e-07),\n",
       " tensor(1.8746e-07),\n",
       " tensor(6.3388e-08),\n",
       " tensor(1.6973e-07),\n",
       " tensor(1.4552e-09),\n",
       " tensor(7.3669e-09),\n",
       " tensor(6.4174e-09),\n",
       " tensor(3.1660e-09),\n",
       " tensor(2.2737e-09),\n",
       " tensor(4.9804e-09),\n",
       " tensor(6.1482e-10),\n",
       " tensor(4.7148e-09),\n",
       " tensor(9.8371e-09),\n",
       " tensor(2.8522e-09),\n",
       " tensor(1.3097e-08),\n",
       " tensor(8.3819e-09),\n",
       " tensor(4.2055e-09),\n",
       " tensor(1.4901e-08),\n",
       " tensor(4.7148e-09),\n",
       " tensor(4.4020e-10),\n",
       " tensor(0.),\n",
       " tensor(7.1304e-10),\n",
       " tensor(2.0955e-09),\n",
       " tensor(0.),\n",
       " tensor(4.9804e-09),\n",
       " tensor(1.4552e-11),\n",
       " tensor(3.8426e-11),\n",
       " tensor(1.3097e-10),\n",
       " tensor(9.3132e-10),\n",
       " tensor(2.3283e-10),\n",
       " tensor(1.1141e-11),\n",
       " tensor(3.0595e-09),\n",
       " tensor(6.1482e-10),\n",
       " tensor(2.3283e-10),\n",
       " tensor(3.6380e-10),\n",
       " tensor(0.),\n",
       " tensor(7.1304e-10),\n",
       " tensor(5.8208e-11),\n",
       " tensor(3.6380e-12),\n",
       " tensor(0.),\n",
       " tensor(5.8208e-11),\n",
       " tensor(9.3132e-10),\n",
       " tensor(6.8781e-12),\n",
       " tensor(5.2387e-10),\n",
       " tensor(2.3283e-10),\n",
       " tensor(2.2737e-11),\n",
       " tensor(2.3283e-10),\n",
       " tensor(5.8208e-11),\n",
       " tensor(7.3669e-11),\n",
       " tensor(5.8208e-11),\n",
       " tensor(0.),\n",
       " tensor(5.8208e-11),\n",
       " tensor(1.3097e-10),\n",
       " tensor(5.8208e-11),\n",
       " tensor(5.8208e-11),\n",
       " tensor(0.),\n",
       " tensor(8.1855e-12),\n",
       " tensor(1.3097e-10),\n",
       " tensor(4.1069e-12),\n",
       " tensor(5.8208e-11),\n",
       " tensor(0.),\n",
       " tensor(3.6380e-12),\n",
       " tensor(0.),\n",
       " tensor(5.8208e-11),\n",
       " tensor(1.4552e-11),\n",
       " tensor(0.),\n",
       " tensor(0.),\n",
       " tensor(0.),\n",
       " tensor(1.3097e-10),\n",
       " tensor(0.),\n",
       " tensor(1.4552e-11),\n",
       " tensor(9.4175e-13),\n",
       " tensor(0.),\n",
       " tensor(0.),\n",
       " tensor(1.4552e-11),\n",
       " tensor(2.3283e-10),\n",
       " tensor(5.8208e-11),\n",
       " tensor(3.6380e-12),\n",
       " tensor(0.),\n",
       " tensor(0.),\n",
       " tensor(5.8208e-11),\n",
       " tensor(5.8208e-11),\n",
       " tensor(5.8208e-11),\n",
       " tensor(5.8208e-11),\n",
       " tensor(9.0949e-11),\n",
       " tensor(5.8208e-11),\n",
       " tensor(5.8208e-11),\n",
       " tensor(5.8208e-11),\n",
       " tensor(2.3283e-10),\n",
       " tensor(1.7826e-10),\n",
       " tensor(1.4552e-11),\n",
       " tensor(1.4552e-11),\n",
       " tensor(2.3283e-10),\n",
       " tensor(5.8208e-11),\n",
       " tensor(0.),\n",
       " tensor(1.4552e-11),\n",
       " tensor(2.3283e-10),\n",
       " tensor(1.4552e-11),\n",
       " tensor(0.),\n",
       " tensor(2.3283e-10),\n",
       " tensor(2.0464e-12),\n",
       " tensor(1.7826e-10),\n",
       " tensor(5.8208e-11),\n",
       " tensor(0.),\n",
       " tensor(0.),\n",
       " tensor(0.),\n",
       " tensor(1.3097e-10),\n",
       " tensor(2.2737e-11),\n",
       " tensor(3.6380e-12),\n",
       " tensor(1.4552e-11),\n",
       " tensor(1.4552e-11),\n",
       " tensor(0.),\n",
       " tensor(1.4552e-11),\n",
       " tensor(5.8208e-11),\n",
       " tensor(5.8208e-11),\n",
       " tensor(0.),\n",
       " tensor(5.8208e-11),\n",
       " tensor(0.),\n",
       " tensor(0.),\n",
       " tensor(3.6380e-12),\n",
       " tensor(0.),\n",
       " tensor(1.4552e-11),\n",
       " tensor(0.),\n",
       " tensor(0.),\n",
       " tensor(1.4552e-11),\n",
       " tensor(1.4552e-11),\n",
       " tensor(5.1159e-13),\n",
       " tensor(0.),\n",
       " tensor(5.8208e-11),\n",
       " tensor(5.8208e-11),\n",
       " tensor(3.6380e-12),\n",
       " tensor(0.),\n",
       " tensor(0.),\n",
       " tensor(0.),\n",
       " tensor(3.6380e-12),\n",
       " tensor(0.),\n",
       " tensor(5.8208e-11),\n",
       " tensor(5.8208e-11),\n",
       " tensor(1.4552e-11),\n",
       " tensor(5.8208e-11),\n",
       " tensor(1.7826e-10),\n",
       " tensor(2.3283e-10),\n",
       " tensor(5.6843e-14),\n",
       " tensor(5.8208e-11),\n",
       " tensor(1.4552e-11),\n",
       " tensor(8.1855e-12),\n",
       " tensor(9.3132e-10),\n",
       " tensor(0.),\n",
       " tensor(1.1005e-10),\n",
       " tensor(2.3283e-10),\n",
       " tensor(5.8208e-11),\n",
       " tensor(0.),\n",
       " tensor(3.2742e-11),\n",
       " tensor(5.8208e-11),\n",
       " tensor(1.3097e-10),\n",
       " tensor(1.4552e-11),\n",
       " tensor(9.0949e-13),\n",
       " tensor(5.8208e-11),\n",
       " tensor(4.2988e-11),\n",
       " tensor(1.3097e-10),\n",
       " tensor(0.),\n",
       " tensor(2.2737e-11),\n",
       " tensor(4.4565e-11),\n",
       " tensor(5.8208e-11),\n",
       " tensor(0.),\n",
       " tensor(0.),\n",
       " tensor(5.8208e-11),\n",
       " tensor(5.8208e-11),\n",
       " tensor(0.),\n",
       " tensor(2.3283e-10),\n",
       " tensor(2.3283e-10),\n",
       " tensor(7.4462e-12),\n",
       " tensor(2.3283e-10),\n",
       " tensor(2.3283e-10),\n",
       " tensor(5.8208e-11),\n",
       " tensor(2.3283e-10),\n",
       " tensor(5.8208e-11),\n",
       " tensor(2.2737e-11),\n",
       " tensor(5.8208e-11),\n",
       " tensor(0.),\n",
       " tensor(5.8208e-11),\n",
       " tensor(5.8208e-11),\n",
       " tensor(5.8208e-11),\n",
       " tensor(5.8208e-11),\n",
       " tensor(9.0949e-11),\n",
       " tensor(5.8208e-11),\n",
       " tensor(5.8208e-11),\n",
       " tensor(0.),\n",
       " tensor(2.3283e-10),\n",
       " tensor(1.7826e-10),\n",
       " tensor(1.4552e-11),\n",
       " tensor(0.),\n",
       " tensor(5.8208e-11),\n",
       " tensor(2.9468e-10),\n",
       " tensor(2.3283e-10),\n",
       " tensor(1.4552e-11),\n",
       " tensor(5.8208e-11),\n",
       " tensor(0.),\n",
       " tensor(1.4552e-11),\n",
       " tensor(5.2387e-10),\n",
       " tensor(4.4565e-11),\n",
       " tensor(1.4552e-11),\n",
       " tensor(2.3283e-10),\n",
       " tensor(2.3283e-10),\n",
       " tensor(0.),\n",
       " tensor(0.),\n",
       " tensor(5.8208e-11),\n",
       " tensor(2.2737e-11),\n",
       " tensor(0.),\n",
       " tensor(3.6380e-12),\n",
       " tensor(3.6380e-12),\n",
       " tensor(0.),\n",
       " tensor(3.6380e-12),\n",
       " tensor(5.8208e-11),\n",
       " tensor(0.),\n",
       " tensor(0.),\n",
       " tensor(0.),\n",
       " tensor(5.2387e-10),\n",
       " tensor(5.8208e-11),\n",
       " tensor(3.6380e-12),\n",
       " tensor(5.8208e-11),\n",
       " tensor(0.),\n",
       " tensor(0.),\n",
       " tensor(5.8208e-11),\n",
       " tensor(1.3097e-10),\n",
       " tensor(1.4552e-11),\n",
       " tensor(5.1159e-13),\n",
       " tensor(5.8208e-11),\n",
       " tensor(5.8208e-11),\n",
       " tensor(5.8208e-11),\n",
       " tensor(1.8417e-11),\n",
       " tensor(3.2742e-11),\n",
       " tensor(0.),\n",
       " tensor(0.),\n",
       " tensor(3.6380e-12),\n",
       " tensor(0.),\n",
       " tensor(3.6380e-12),\n",
       " tensor(5.8208e-11),\n",
       " tensor(8.1855e-12),\n",
       " tensor(5.8208e-11),\n",
       " tensor(3.6380e-12),\n",
       " tensor(0.),\n",
       " tensor(2.0464e-12),\n",
       " tensor(5.8208e-11),\n",
       " tensor(1.4552e-11),\n",
       " tensor(3.2742e-11),\n",
       " tensor(2.3283e-10),\n",
       " tensor(5.8208e-11),\n",
       " tensor(1.1005e-10),\n",
       " tensor(2.3283e-10),\n",
       " tensor(0.),\n",
       " tensor(5.8208e-11),\n",
       " tensor(3.2742e-11),\n",
       " tensor(5.8208e-11),\n",
       " tensor(1.3097e-10),\n",
       " tensor(1.4552e-11),\n",
       " tensor(3.6380e-12),\n",
       " tensor(5.8208e-11),\n",
       " tensor(7.9936e-11),\n",
       " tensor(5.8208e-11),\n",
       " tensor(0.),\n",
       " tensor(9.0949e-11),\n",
       " tensor(7.3669e-11),\n",
       " tensor(5.8208e-11),\n",
       " tensor(0.),\n",
       " tensor(0.),\n",
       " tensor(0.),\n",
       " tensor(5.8208e-11),\n",
       " tensor(1.4552e-11),\n",
       " tensor(0.),\n",
       " tensor(1.4552e-11),\n",
       " tensor(1.7000e-16),\n",
       " tensor(0.),\n",
       " tensor(5.8208e-11),\n",
       " tensor(1.4552e-11),\n",
       " tensor(2.3283e-10),\n",
       " tensor(5.8208e-11),\n",
       " tensor(8.1855e-12),\n",
       " tensor(0.),\n",
       " tensor(0.),\n",
       " tensor(5.8208e-11),\n",
       " tensor(5.8208e-11),\n",
       " tensor(5.8208e-11),\n",
       " tensor(5.8208e-11),\n",
       " tensor(9.0949e-11),\n",
       " tensor(5.8208e-11),\n",
       " tensor(5.8208e-11),\n",
       " tensor(0.),\n",
       " tensor(2.3283e-10),\n",
       " tensor(1.7826e-10),\n",
       " tensor(1.4552e-11),\n",
       " tensor(1.4552e-11),\n",
       " tensor(2.3283e-10),\n",
       " tensor(1.7826e-10),\n",
       " tensor(0.),\n",
       " tensor(1.4552e-11),\n",
       " tensor(2.3283e-10),\n",
       " tensor(5.8208e-11),\n",
       " tensor(0.),\n",
       " tensor(2.3283e-10),\n",
       " tensor(1.8417e-11),\n",
       " tensor(1.3097e-10),\n",
       " tensor(5.8208e-11),\n",
       " tensor(5.8208e-11),\n",
       " tensor(5.8208e-11),\n",
       " tensor(0.),\n",
       " tensor(1.3097e-10),\n",
       " tensor(3.6380e-12),\n",
       " tensor(3.6380e-12),\n",
       " tensor(3.2742e-11),\n",
       " tensor(2.2737e-11),\n",
       " tensor(5.8208e-11),\n",
       " tensor(1.3097e-10),\n",
       " tensor(5.8208e-11),\n",
       " tensor(5.8208e-11),\n",
       " tensor(0.),\n",
       " tensor(5.8208e-11),\n",
       " tensor(5.8208e-11),\n",
       " tensor(5.8208e-11),\n",
       " tensor(9.0949e-13),\n",
       " tensor(5.8208e-11),\n",
       " tensor(1.4552e-11),\n",
       " tensor(0.),\n",
       " tensor(5.8208e-11),\n",
       " tensor(3.6380e-12),\n",
       " tensor(1.4552e-11),\n",
       " tensor(3.2742e-11),\n",
       " tensor(1.4552e-11),\n",
       " tensor(5.8208e-11),\n",
       " tensor(5.8208e-11),\n",
       " tensor(4.4565e-11),\n",
       " tensor(1.4552e-11),\n",
       " tensor(0.),\n",
       " tensor(0.),\n",
       " tensor(1.4552e-11),\n",
       " tensor(0.),\n",
       " tensor(9.0949e-11),\n",
       " tensor(5.8208e-11),\n",
       " tensor(1.4552e-11),\n",
       " tensor(5.8208e-11),\n",
       " tensor(1.7826e-10),\n",
       " tensor(2.3283e-10),\n",
       " tensor(9.0949e-13),\n",
       " tensor(5.8208e-11),\n",
       " tensor(0.),\n",
       " tensor(1.4552e-11),\n",
       " tensor(9.3132e-10),\n",
       " tensor(0.),\n",
       " tensor(1.3097e-10),\n",
       " tensor(2.3283e-10),\n",
       " tensor(5.8208e-11),\n",
       " tensor(0.),\n",
       " tensor(9.0949e-13),\n",
       " tensor(5.8208e-11),\n",
       " tensor(5.8208e-11),\n",
       " tensor(1.4552e-11),\n",
       " tensor(0.),\n",
       " tensor(9.0949e-11),\n",
       " tensor(3.1392e-11),\n",
       " tensor(1.4552e-11),\n",
       " tensor(5.8208e-11),\n",
       " tensor(9.0949e-11),\n",
       " tensor(2.0464e-10),\n",
       " tensor(1.3097e-10),\n",
       " tensor(0.),\n",
       " tensor(0.),\n",
       " tensor(0.),\n",
       " tensor(5.8208e-11),\n",
       " tensor(1.4552e-11),\n",
       " tensor(0.),\n",
       " tensor(5.8208e-11),\n",
       " tensor(1.0610e-12),\n",
       " tensor(0.),\n",
       " tensor(5.8208e-11),\n",
       " tensor(5.8208e-11),\n",
       " tensor(2.3283e-10),\n",
       " tensor(5.8208e-11),\n",
       " tensor(8.1855e-12),\n",
       " tensor(0.),\n",
       " tensor(0.),\n",
       " tensor(5.8208e-11),\n",
       " tensor(5.8208e-11),\n",
       " tensor(5.8208e-11),\n",
       " tensor(5.8208e-11),\n",
       " tensor(9.0949e-11),\n",
       " tensor(5.8208e-11),\n",
       " tensor(5.8208e-11),\n",
       " tensor(0.),\n",
       " tensor(2.3283e-10),\n",
       " tensor(1.7826e-10),\n",
       " tensor(1.4552e-11),\n",
       " tensor(1.4552e-11),\n",
       " tensor(2.3283e-10),\n",
       " tensor(1.3097e-10),\n",
       " tensor(0.),\n",
       " tensor(1.4552e-11),\n",
       " tensor(2.3283e-10),\n",
       " tensor(1.4552e-11),\n",
       " tensor(0.),\n",
       " tensor(2.3283e-10),\n",
       " tensor(1.4552e-11),\n",
       " tensor(1.7826e-10),\n",
       " tensor(5.8208e-11),\n",
       " tensor(0.),\n",
       " tensor(0.),\n",
       " tensor(0.),\n",
       " tensor(1.3097e-10),\n",
       " tensor(2.2737e-11),\n",
       " tensor(3.6380e-12),\n",
       " tensor(1.4552e-11),\n",
       " tensor(8.1855e-12),\n",
       " tensor(0.),\n",
       " tensor(1.4552e-11),\n",
       " tensor(5.8208e-11),\n",
       " tensor(5.8208e-11),\n",
       " tensor(0.),\n",
       " tensor(5.8208e-11),\n",
       " tensor(0.),\n",
       " tensor(0.),\n",
       " tensor(3.6380e-12),\n",
       " tensor(0.),\n",
       " tensor(1.4552e-11),\n",
       " tensor(0.),\n",
       " tensor(0.),\n",
       " tensor(1.4552e-11),\n",
       " tensor(1.4552e-11),\n",
       " tensor(5.1159e-13),\n",
       " tensor(0.),\n",
       " tensor(5.8208e-11),\n",
       " tensor(5.8208e-11),\n",
       " tensor(3.6380e-12),\n",
       " tensor(0.),\n",
       " tensor(0.),\n",
       " tensor(0.),\n",
       " tensor(3.6380e-12),\n",
       " tensor(0.),\n",
       " tensor(5.8208e-11),\n",
       " tensor(5.8208e-11),\n",
       " tensor(1.4552e-11),\n",
       " tensor(5.8208e-11),\n",
       " tensor(1.7826e-10),\n",
       " tensor(2.3283e-10),\n",
       " tensor(2.2737e-13),\n",
       " tensor(5.8208e-11),\n",
       " tensor(1.4552e-11),\n",
       " tensor(8.1855e-12),\n",
       " tensor(9.3132e-10),\n",
       " tensor(0.),\n",
       " tensor(1.1005e-10),\n",
       " tensor(2.3283e-10),\n",
       " tensor(5.8208e-11),\n",
       " tensor(0.),\n",
       " tensor(3.2742e-11),\n",
       " tensor(5.8208e-11),\n",
       " tensor(1.3097e-10),\n",
       " tensor(1.4552e-11),\n",
       " tensor(9.0949e-13),\n",
       " tensor(5.8208e-11),\n",
       " tensor(4.2988e-11),\n",
       " tensor(1.3097e-10),\n",
       " tensor(0.),\n",
       " tensor(2.2737e-11),\n",
       " tensor(4.4565e-11),\n",
       " tensor(5.8208e-11),\n",
       " tensor(0.),\n",
       " tensor(0.),\n",
       " tensor(5.8208e-11),\n",
       " tensor(5.8208e-11),\n",
       " tensor(0.),\n",
       " tensor(2.3283e-10),\n",
       " tensor(2.3283e-10),\n",
       " tensor(7.4462e-12),\n",
       " tensor(2.3283e-10),\n",
       " tensor(2.3283e-10),\n",
       " tensor(5.8208e-11),\n",
       " tensor(2.3283e-10),\n",
       " tensor(5.8208e-11),\n",
       " tensor(2.2737e-11),\n",
       " tensor(5.8208e-11),\n",
       " tensor(0.),\n",
       " tensor(5.8208e-11),\n",
       " tensor(5.8208e-11),\n",
       " tensor(5.8208e-11),\n",
       " tensor(5.8208e-11),\n",
       " tensor(9.0949e-11),\n",
       " tensor(5.8208e-11),\n",
       " tensor(5.8208e-11),\n",
       " tensor(0.),\n",
       " tensor(2.3283e-10),\n",
       " tensor(1.7826e-10),\n",
       " tensor(1.4552e-11),\n",
       " tensor(0.),\n",
       " tensor(5.8208e-11),\n",
       " tensor(2.9468e-10),\n",
       " tensor(2.3283e-10),\n",
       " tensor(1.4552e-11),\n",
       " tensor(5.8208e-11),\n",
       " tensor(0.),\n",
       " tensor(1.4552e-11),\n",
       " tensor(5.2387e-10),\n",
       " tensor(4.4565e-11),\n",
       " tensor(1.4552e-11),\n",
       " tensor(2.3283e-10),\n",
       " tensor(2.3283e-10),\n",
       " tensor(0.),\n",
       " tensor(0.),\n",
       " tensor(5.8208e-11),\n",
       " tensor(2.2737e-11),\n",
       " tensor(0.),\n",
       " tensor(3.6380e-12),\n",
       " tensor(3.6380e-12),\n",
       " tensor(0.),\n",
       " tensor(3.6380e-12),\n",
       " tensor(5.8208e-11),\n",
       " tensor(0.),\n",
       " tensor(0.),\n",
       " tensor(0.),\n",
       " tensor(5.2387e-10),\n",
       " tensor(5.8208e-11),\n",
       " tensor(3.6380e-12),\n",
       " tensor(5.8208e-11),\n",
       " tensor(0.),\n",
       " tensor(0.),\n",
       " tensor(5.8208e-11),\n",
       " tensor(1.3097e-10),\n",
       " tensor(1.4552e-11),\n",
       " tensor(5.1159e-13),\n",
       " tensor(5.8208e-11),\n",
       " tensor(5.8208e-11),\n",
       " tensor(5.8208e-11),\n",
       " tensor(1.8417e-11),\n",
       " tensor(3.2742e-11),\n",
       " tensor(0.),\n",
       " tensor(0.),\n",
       " tensor(3.6380e-12),\n",
       " tensor(0.),\n",
       " tensor(3.6380e-12),\n",
       " tensor(5.8208e-11),\n",
       " tensor(8.1855e-12),\n",
       " tensor(5.8208e-11),\n",
       " tensor(3.6380e-12),\n",
       " tensor(0.),\n",
       " tensor(2.0464e-12),\n",
       " tensor(5.8208e-11),\n",
       " tensor(1.4552e-11),\n",
       " tensor(3.2742e-11),\n",
       " tensor(2.3283e-10),\n",
       " tensor(5.8208e-11),\n",
       " tensor(1.1005e-10),\n",
       " tensor(2.3283e-10),\n",
       " tensor(0.),\n",
       " tensor(5.8208e-11),\n",
       " tensor(3.2742e-11),\n",
       " tensor(5.8208e-11),\n",
       " tensor(1.3097e-10),\n",
       " tensor(1.4552e-11),\n",
       " tensor(3.6380e-12),\n",
       " tensor(5.8208e-11),\n",
       " tensor(7.9936e-11),\n",
       " tensor(5.8208e-11),\n",
       " tensor(0.),\n",
       " tensor(9.0949e-11),\n",
       " tensor(7.3669e-11),\n",
       " tensor(5.8208e-11),\n",
       " tensor(0.),\n",
       " tensor(0.),\n",
       " tensor(0.),\n",
       " tensor(5.8208e-11),\n",
       " tensor(1.4552e-11),\n",
       " tensor(0.),\n",
       " tensor(1.4552e-11),\n",
       " tensor(1.7000e-16),\n",
       " tensor(0.),\n",
       " tensor(5.8208e-11),\n",
       " tensor(1.4552e-11),\n",
       " tensor(2.3283e-10),\n",
       " tensor(5.8208e-11),\n",
       " tensor(8.1855e-12),\n",
       " tensor(0.),\n",
       " tensor(0.),\n",
       " tensor(5.8208e-11),\n",
       " tensor(5.8208e-11),\n",
       " tensor(5.8208e-11),\n",
       " tensor(5.8208e-11),\n",
       " tensor(9.0949e-11),\n",
       " tensor(5.8208e-11),\n",
       " tensor(5.8208e-11),\n",
       " tensor(0.),\n",
       " tensor(2.3283e-10),\n",
       " tensor(1.7826e-10),\n",
       " tensor(1.4552e-11),\n",
       " tensor(1.4552e-11),\n",
       " tensor(2.3283e-10),\n",
       " tensor(1.7826e-10),\n",
       " tensor(0.),\n",
       " tensor(1.4552e-11),\n",
       " tensor(2.3283e-10),\n",
       " tensor(5.8208e-11),\n",
       " tensor(0.),\n",
       " tensor(2.3283e-10),\n",
       " tensor(1.8417e-11),\n",
       " tensor(1.3097e-10),\n",
       " tensor(5.8208e-11),\n",
       " tensor(5.8208e-11),\n",
       " tensor(5.8208e-11),\n",
       " tensor(0.),\n",
       " tensor(1.3097e-10),\n",
       " tensor(3.6380e-12),\n",
       " tensor(3.6380e-12),\n",
       " tensor(3.2742e-11),\n",
       " tensor(2.2737e-11),\n",
       " tensor(5.8208e-11),\n",
       " tensor(1.3097e-10),\n",
       " tensor(5.8208e-11),\n",
       " tensor(5.8208e-11),\n",
       " tensor(0.),\n",
       " tensor(5.8208e-11),\n",
       " tensor(5.8208e-11),\n",
       " tensor(5.8208e-11),\n",
       " tensor(9.0949e-13),\n",
       " tensor(5.8208e-11),\n",
       " tensor(1.4552e-11),\n",
       " tensor(0.),\n",
       " tensor(5.8208e-11),\n",
       " tensor(3.6380e-12),\n",
       " tensor(1.4552e-11),\n",
       " tensor(3.2742e-11),\n",
       " tensor(1.4552e-11),\n",
       " tensor(5.8208e-11),\n",
       " tensor(5.8208e-11),\n",
       " tensor(4.4565e-11),\n",
       " tensor(1.4552e-11),\n",
       " tensor(0.),\n",
       " tensor(0.),\n",
       " tensor(1.4552e-11),\n",
       " tensor(0.),\n",
       " tensor(9.0949e-11),\n",
       " tensor(5.8208e-11),\n",
       " tensor(1.4552e-11),\n",
       " tensor(5.8208e-11),\n",
       " tensor(1.7826e-10),\n",
       " tensor(2.3283e-10),\n",
       " tensor(9.0949e-13),\n",
       " tensor(5.8208e-11),\n",
       " tensor(0.),\n",
       " tensor(1.4552e-11),\n",
       " tensor(9.3132e-10),\n",
       " tensor(0.),\n",
       " tensor(1.3097e-10),\n",
       " tensor(2.3283e-10),\n",
       " tensor(5.8208e-11),\n",
       " tensor(0.),\n",
       " tensor(9.0949e-13),\n",
       " tensor(5.8208e-11),\n",
       " tensor(5.8208e-11),\n",
       " tensor(1.4552e-11),\n",
       " tensor(0.),\n",
       " tensor(9.0949e-11),\n",
       " tensor(3.1392e-11),\n",
       " tensor(1.4552e-11),\n",
       " tensor(5.8208e-11),\n",
       " tensor(9.0949e-11),\n",
       " tensor(2.0464e-10),\n",
       " tensor(1.3097e-10),\n",
       " tensor(0.),\n",
       " tensor(0.),\n",
       " tensor(0.),\n",
       " tensor(5.8208e-11),\n",
       " tensor(1.4552e-11),\n",
       " tensor(0.),\n",
       " tensor(5.8208e-11),\n",
       " tensor(1.0610e-12),\n",
       " tensor(0.),\n",
       " tensor(5.8208e-11),\n",
       " tensor(5.8208e-11),\n",
       " tensor(2.3283e-10),\n",
       " tensor(5.8208e-11),\n",
       " tensor(8.1855e-12),\n",
       " tensor(0.),\n",
       " tensor(0.),\n",
       " tensor(5.8208e-11),\n",
       " tensor(5.8208e-11),\n",
       " tensor(5.8208e-11),\n",
       " tensor(5.8208e-11),\n",
       " tensor(9.0949e-11),\n",
       " tensor(5.8208e-11),\n",
       " tensor(5.8208e-11),\n",
       " tensor(0.),\n",
       " tensor(2.3283e-10),\n",
       " tensor(1.7826e-10),\n",
       " tensor(1.4552e-11),\n",
       " tensor(1.4552e-11),\n",
       " tensor(2.3283e-10),\n",
       " tensor(1.3097e-10),\n",
       " tensor(0.),\n",
       " tensor(1.4552e-11),\n",
       " tensor(2.3283e-10),\n",
       " tensor(1.4552e-11),\n",
       " tensor(0.),\n",
       " tensor(2.3283e-10),\n",
       " tensor(1.4552e-11),\n",
       " tensor(1.7826e-10),\n",
       " tensor(5.8208e-11),\n",
       " tensor(0.),\n",
       " tensor(0.),\n",
       " tensor(0.),\n",
       " tensor(1.3097e-10),\n",
       " tensor(2.2737e-11),\n",
       " tensor(3.6380e-12),\n",
       " tensor(1.4552e-11),\n",
       " tensor(8.1855e-12),\n",
       " tensor(0.),\n",
       " tensor(1.4552e-11),\n",
       " tensor(5.8208e-11),\n",
       " tensor(5.8208e-11),\n",
       " tensor(0.),\n",
       " tensor(5.8208e-11),\n",
       " tensor(0.),\n",
       " tensor(0.),\n",
       " tensor(3.6380e-12),\n",
       " tensor(0.),\n",
       " tensor(1.4552e-11),\n",
       " tensor(0.),\n",
       " tensor(0.),\n",
       " tensor(1.4552e-11),\n",
       " tensor(1.4552e-11),\n",
       " tensor(5.1159e-13),\n",
       " tensor(0.),\n",
       " tensor(5.8208e-11),\n",
       " tensor(5.8208e-11),\n",
       " tensor(3.6380e-12),\n",
       " tensor(0.),\n",
       " tensor(0.),\n",
       " tensor(0.),\n",
       " tensor(3.6380e-12),\n",
       " tensor(0.),\n",
       " tensor(5.8208e-11),\n",
       " tensor(5.8208e-11),\n",
       " tensor(1.4552e-11),\n",
       " tensor(5.8208e-11),\n",
       " tensor(1.7826e-10),\n",
       " tensor(2.3283e-10),\n",
       " tensor(2.2737e-13),\n",
       " tensor(5.8208e-11),\n",
       " tensor(1.4552e-11),\n",
       " tensor(8.1855e-12),\n",
       " tensor(9.3132e-10),\n",
       " tensor(0.),\n",
       " tensor(1.1005e-10),\n",
       " tensor(2.3283e-10),\n",
       " tensor(5.8208e-11),\n",
       " tensor(0.),\n",
       " tensor(3.2742e-11),\n",
       " tensor(5.8208e-11),\n",
       " tensor(1.3097e-10),\n",
       " tensor(1.4552e-11),\n",
       " tensor(9.0949e-13),\n",
       " tensor(5.8208e-11),\n",
       " tensor(4.2988e-11),\n",
       " tensor(1.3097e-10),\n",
       " tensor(0.),\n",
       " tensor(2.2737e-11),\n",
       " tensor(4.4565e-11),\n",
       " tensor(5.8208e-11),\n",
       " tensor(0.),\n",
       " tensor(0.),\n",
       " tensor(5.8208e-11),\n",
       " tensor(5.8208e-11),\n",
       " tensor(0.),\n",
       " tensor(2.3283e-10),\n",
       " tensor(2.3283e-10),\n",
       " tensor(7.4462e-12),\n",
       " tensor(2.3283e-10),\n",
       " tensor(2.3283e-10),\n",
       " tensor(5.8208e-11),\n",
       " tensor(2.3283e-10),\n",
       " tensor(5.8208e-11),\n",
       " tensor(2.2737e-11),\n",
       " tensor(5.8208e-11),\n",
       " tensor(0.),\n",
       " tensor(5.8208e-11),\n",
       " tensor(5.8208e-11),\n",
       " tensor(5.8208e-11),\n",
       " tensor(5.8208e-11),\n",
       " tensor(9.0949e-11),\n",
       " tensor(5.8208e-11),\n",
       " tensor(5.8208e-11),\n",
       " tensor(0.),\n",
       " tensor(2.3283e-10),\n",
       " tensor(1.7826e-10),\n",
       " tensor(1.4552e-11),\n",
       " tensor(0.),\n",
       " tensor(5.8208e-11),\n",
       " tensor(2.9468e-10),\n",
       " tensor(2.3283e-10),\n",
       " tensor(1.4552e-11),\n",
       " tensor(5.8208e-11),\n",
       " tensor(0.),\n",
       " tensor(1.4552e-11),\n",
       " tensor(5.2387e-10),\n",
       " tensor(4.4565e-11),\n",
       " tensor(1.4552e-11),\n",
       " tensor(2.3283e-10),\n",
       " tensor(2.3283e-10),\n",
       " tensor(0.),\n",
       " tensor(0.),\n",
       " tensor(5.8208e-11),\n",
       " tensor(2.2737e-11),\n",
       " tensor(0.),\n",
       " tensor(3.6380e-12),\n",
       " tensor(3.6380e-12),\n",
       " tensor(0.),\n",
       " tensor(3.6380e-12),\n",
       " tensor(5.8208e-11),\n",
       " tensor(0.),\n",
       " tensor(0.),\n",
       " tensor(0.),\n",
       " tensor(5.2387e-10),\n",
       " tensor(5.8208e-11),\n",
       " tensor(3.6380e-12),\n",
       " tensor(5.8208e-11),\n",
       " tensor(0.),\n",
       " tensor(0.),\n",
       " tensor(5.8208e-11),\n",
       " tensor(1.3097e-10),\n",
       " tensor(1.4552e-11),\n",
       " tensor(5.1159e-13),\n",
       " tensor(5.8208e-11),\n",
       " tensor(5.8208e-11),\n",
       " tensor(5.8208e-11),\n",
       " tensor(1.8417e-11),\n",
       " tensor(3.2742e-11),\n",
       " tensor(0.),\n",
       " tensor(0.),\n",
       " tensor(3.6380e-12),\n",
       " tensor(0.),\n",
       " tensor(3.6380e-12),\n",
       " tensor(5.8208e-11),\n",
       " tensor(8.1855e-12),\n",
       " tensor(5.8208e-11),\n",
       " tensor(3.6380e-12),\n",
       " tensor(0.),\n",
       " tensor(2.0464e-12),\n",
       " tensor(5.8208e-11),\n",
       " tensor(1.4552e-11),\n",
       " tensor(3.2742e-11),\n",
       " tensor(2.3283e-10),\n",
       " tensor(5.8208e-11),\n",
       " tensor(1.1005e-10),\n",
       " tensor(2.3283e-10),\n",
       " tensor(0.),\n",
       " tensor(5.8208e-11),\n",
       " tensor(3.2742e-11),\n",
       " tensor(5.8208e-11),\n",
       " ...]"
      ]
     },
     "execution_count": 229,
     "metadata": {},
     "output_type": "execute_result"
    }
   ],
   "source": [
    "losses"
   ]
  },
  {
   "cell_type": "markdown",
   "metadata": {
    "id": "RTkJV-F8TVuN"
   },
   "source": [
    "2.4.4 Используя наработки из 2.4, создайте нейросеть и решите задачу регрессии.\n",
    "\n",
    "Предлагаемая архитектура: \n",
    "1. Полносвязный слой с 10 нейронами\n",
    "2. Активация ReLU\n",
    "3. Полносвязный слой с 1 нейроном"
   ]
  },
  {
   "cell_type": "code",
   "execution_count": 243,
   "metadata": {
    "ExecuteTime": {
     "end_time": "2022-10-28T21:45:45.873520Z",
     "start_time": "2022-10-28T21:45:45.865784Z"
    },
    "id": "axUjpPz-SvS1"
   },
   "outputs": [],
   "source": [
    "X = torch.linspace(-1, 1, 100).view(-1, 1)\n",
    "y = X.pow(2) + 0.2 * torch.rand(X.size()) "
   ]
  },
  {
   "cell_type": "code",
   "execution_count": 244,
   "metadata": {
    "ExecuteTime": {
     "end_time": "2022-10-28T21:45:46.213738Z",
     "start_time": "2022-10-28T21:45:46.190122Z"
    },
    "id": "LXoiNxkpTziV"
   },
   "outputs": [],
   "source": [
    "class Activation_ReLU:\n",
    "    def forward(self, inputs):\n",
    "        self.inputs = inputs\n",
    "        self.output = inputs.clip(min=0)\n",
    "        return self.output\n",
    "\n",
    "    def backward(self, dvalues):\n",
    "        self.dinputs = dvalues.clone()\n",
    "        self.dinputs[self.inputs <= 0] = 0"
   ]
  },
  {
   "cell_type": "code",
   "execution_count": 247,
   "metadata": {
    "ExecuteTime": {
     "end_time": "2022-10-28T21:46:01.191561Z",
     "start_time": "2022-10-28T21:46:00.466402Z"
    }
   },
   "outputs": [
    {
     "name": "stdout",
     "output_type": "stream",
     "text": [
      "epoch 0 mean loss 1.9460928440093994\n",
      "epoch 200 mean loss 0.005146082025021315\n",
      "epoch 400 mean loss 0.003985214047133923\n",
      "epoch 600 mean loss 0.0033625236246734858\n",
      "epoch 800 mean loss 0.00299749244004488\n",
      "epoch 1000 mean loss 0.0028571730945259333\n",
      "epoch 1200 mean loss 0.0028132169973105192\n",
      "epoch 1400 mean loss 0.0027824616990983486\n",
      "epoch 1600 mean loss 0.0027531427331268787\n",
      "epoch 1800 mean loss 0.00273717287927866\n",
      "epoch 2000 mean loss 0.002726712031289935\n"
     ]
    }
   ],
   "source": [
    "# создание компонентов сети\n",
    "# fc1 =\n",
    "# relu1 =\n",
    "# fc2 =\n",
    "fc1 = Linear(1, 10)\n",
    "relu1 = Activation_ReLU()\n",
    "fc2 = Linear(10, 1)\n",
    "\n",
    "loss = MSELoss()\n",
    "lr = 0.2\n",
    "\n",
    "ys = []\n",
    "for epoch in range(2001):\n",
    "    # <forward pass>\n",
    "    # fc1 > relu1 > fc2 > loss\n",
    "    out = fc2.forward(relu1.forward(fc1.forward(X)))\n",
    "    data_loss = loss.forward(out, y) # <прогон через функцию потерь>\n",
    "\n",
    "    if epoch % 200 == 0:\n",
    "        print(f'epoch {epoch} mean loss {data_loss}')\n",
    "        ys.append(out)\n",
    "\n",
    "    # <backprop>\n",
    "    # loss > fc2 > relu1 > fc1\n",
    "    loss.backward(out, y)\n",
    "    fc2.backward(loss.dinput)\n",
    "    relu1.backward(fc2.dinputs)\n",
    "    fc1.backward(relu1.dinputs)\n",
    "\n",
    "    # <шаг оптимизации для fc1>\n",
    "    fc1.weights -= lr * fc1.dweights\n",
    "    fc1.biases -= lr * fc1.dbiases\n",
    "    # <шаг оптимизации для fc2>\n",
    "    fc2.weights -= lr * fc2.dweights\n",
    "    fc2.biases -= lr * fc2.dbiases"
   ]
  },
  {
   "cell_type": "code",
   "execution_count": 248,
   "metadata": {
    "ExecuteTime": {
     "end_time": "2022-10-28T21:46:02.473797Z",
     "start_time": "2022-10-28T21:46:01.191561Z"
    },
    "id": "kpKi0OfoUkwk"
   },
   "outputs": [
    {
     "data": {
      "image/png": "[encoded data removed]",
      "text/plain": [
       "<Figure size 720x2880 with 11 Axes>"
      ]
     },
     "metadata": {
      "needs_background": "light"
     },
     "output_type": "display_data"
    }
   ],
   "source": [
    "import matplotlib.pyplot as plt\n",
    "\n",
    "fig, axs = plt.subplots(len(ys), 1, figsize=(10, 40))\n",
    "for ax, y_ in zip(axs, ys):\n",
    "    ax.scatter(X.numpy(), y.numpy(), color = \"orange\")\n",
    "    ax.plot(X.numpy(), y_.numpy(), 'g-', lw=3)\n",
    "    ax.set_xlim(-1.05, 1.5)\n",
    "    ax.set_ylim(-0.25, 1.25)"
   ]
  },
  {
   "cell_type": "code",
   "execution_count": null,
   "metadata": {},
   "outputs": [],
   "source": []
  }
 ],
 "metadata": {
  "colab": {
   "authorship_tag": "ABX9TyPDgJRHjuyArfKO8ZT68MsS",
   "name": "02_NN_blocks_backprop_v1.ipynb",
   "provenance": []
  },
  "kernelspec": {
   "display_name": "Python 3 (ipykernel)",
   "language": "python",
   "name": "python3"
  },
  "language_info": {
   "codemirror_mode": {
    "name": "ipython",
    "version": 3
   },
   "file_extension": ".py",
   "mimetype": "text/x-python",
   "name": "python",
   "nbconvert_exporter": "python",
   "pygments_lexer": "ipython3",
   "version": "3.7.4"
  },
  "toc": {
   "base_numbering": 1,
   "nav_menu": {},
   "number_sections": true,
   "sideBar": true,
   "skip_h1_title": false,
   "title_cell": "Table of Contents",
   "title_sidebar": "Contents",
   "toc_cell": false,
   "toc_position": {},
   "toc_section_display": true,
   "toc_window_display": false
  }
 },
 "nbformat": 4,
 "nbformat_minor": 1
}
