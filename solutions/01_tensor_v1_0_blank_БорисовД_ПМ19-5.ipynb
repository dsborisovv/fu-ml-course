{
 "cells": [
  {
   "cell_type": "markdown",
   "metadata": {
    "id": "_gE94V3G1RCx"
   },
   "source": [
    "# 01. Знакомство с `torch.Tensor`\n",
    "\n",
    "V 0.1 04.02.2021"
   ]
  },
  {
   "cell_type": "markdown",
   "metadata": {
    "id": "TlWOXn0f1RC7"
   },
   "source": [
    "---"
   ]
  },
  {
   "cell_type": "markdown",
   "metadata": {
    "id": "lZfJ1FRM1RC8"
   },
   "source": [
    "При решении данных задач не подразумевается использования циклов или генераторов Python, если в задании не сказано обратного. Решение должно опираться на использование функционала библиотеки `torch`.\n",
    "\n",
    "[PyTorch documentation](https://pytorch.org/docs/stable/#pytorch-documentation)"
   ]
  },
  {
   "cell_type": "code",
   "execution_count": 2,
   "metadata": {
    "ExecuteTime": {
     "end_time": "2022-10-19T22:55:28.796769Z",
     "start_time": "2022-10-19T22:55:27.692977Z"
    },
    "id": "b3AW8rF-1RC9"
   },
   "outputs": [],
   "source": [
    "import torch"
   ]
  },
  {
   "cell_type": "code",
   "execution_count": 3,
   "metadata": {
    "ExecuteTime": {
     "end_time": "2022-10-19T22:55:29.418213Z",
     "start_time": "2022-10-19T22:55:29.395389Z"
    }
   },
   "outputs": [
    {
     "data": {
      "text/plain": [
       "'1.8.1+cpu'"
      ]
     },
     "execution_count": 3,
     "metadata": {},
     "output_type": "execute_result"
    }
   ],
   "source": [
    "torch.__version__"
   ]
  },
  {
   "cell_type": "markdown",
   "metadata": {
    "id": "vow49PuE1RC9"
   },
   "source": [
    "## 1.1 Создание тензоров и выполнение базовых операций над ними\n",
    "\n",
    "[Документация по функциям для создания тензоров](https://pytorch.org/docs/stable/torch.html#creation-ops)\n",
    "\n",
    "[Документация по функциям для работы с индексами](https://pytorch.org/docs/stable/torch.html#indexing-slicing-joining-mutating-ops)"
   ]
  },
  {
   "cell_type": "markdown",
   "metadata": {
    "id": "wBIwO1SB1RC-"
   },
   "source": [
    "1.1.1 Создайте двумерный тензор размера (8, 8). Используя как можно меньше операций, добейтесь расстановки кодов \"шахматных фигур\".\n",
    "\n",
    "Ожидаемый результат:\n",
    "\n",
    "```\n",
    "[[-4., -3., -2., -6., -5., -2., -3., -4.],\n",
    " [-1., -1., -1., -1., -1., -1., -1., -1.],\n",
    " [0., 0., 0., 0., 0., 0., 0., 0.],\n",
    " [0., 0., 0., 0., 0., 0., 0., 0.],\n",
    " [0., 0., 0., 0., 0., 0., 0., 0.],\n",
    " [0., 0., 0., 0., 0., 0., 0., 0.],\n",
    " [1., 1., 1., 1., 1., 1., 1., 1.],\n",
    " [4., 3., 2., 6., 5., 2., 3., 4.]]\n",
    "\n",
    "```"
   ]
  },
  {
   "cell_type": "code",
   "execution_count": 4,
   "metadata": {
    "ExecuteTime": {
     "end_time": "2022-10-19T22:55:30.541118Z",
     "start_time": "2022-10-19T22:55:30.527397Z"
    }
   },
   "outputs": [],
   "source": [
    "arr = torch.zeros(8, 8)"
   ]
  },
  {
   "cell_type": "code",
   "execution_count": 5,
   "metadata": {
    "ExecuteTime": {
     "end_time": "2022-10-19T22:55:31.823727Z",
     "start_time": "2022-10-19T22:55:31.808712Z"
    }
   },
   "outputs": [],
   "source": [
    "first_line = torch.Tensor([-4., -3., -2., -6., -5., -2., -3., -4.])\n",
    "arr[0, 0:8], arr[7, 0:8] = first_line, -first_line"
   ]
  },
  {
   "cell_type": "code",
   "execution_count": 6,
   "metadata": {
    "ExecuteTime": {
     "end_time": "2022-10-19T22:55:32.015012Z",
     "start_time": "2022-10-19T22:55:32.007969Z"
    },
    "scrolled": true
   },
   "outputs": [],
   "source": [
    "arr[1, 0:8], arr[6, 0:8] = -torch.ones(1, 8), torch.ones(1, 8)"
   ]
  },
  {
   "cell_type": "code",
   "execution_count": 7,
   "metadata": {
    "ExecuteTime": {
     "end_time": "2022-10-19T22:55:32.197254Z",
     "start_time": "2022-10-19T22:55:32.184927Z"
    }
   },
   "outputs": [
    {
     "data": {
      "text/plain": [
       "tensor([[-4., -3., -2., -6., -5., -2., -3., -4.],\n",
       "        [-1., -1., -1., -1., -1., -1., -1., -1.],\n",
       "        [ 0.,  0.,  0.,  0.,  0.,  0.,  0.,  0.],\n",
       "        [ 0.,  0.,  0.,  0.,  0.,  0.,  0.,  0.],\n",
       "        [ 0.,  0.,  0.,  0.,  0.,  0.,  0.,  0.],\n",
       "        [ 0.,  0.,  0.,  0.,  0.,  0.,  0.,  0.],\n",
       "        [ 1.,  1.,  1.,  1.,  1.,  1.,  1.,  1.],\n",
       "        [ 4.,  3.,  2.,  6.,  5.,  2.,  3.,  4.]])"
      ]
     },
     "execution_count": 7,
     "metadata": {},
     "output_type": "execute_result"
    }
   ],
   "source": [
    "arr"
   ]
  },
  {
   "cell_type": "markdown",
   "metadata": {
    "id": "20x5RE1V1RC_"
   },
   "source": [
    "1.1.2 Средствами `torch` рассчитать произведения четных чисел от 2 до 20 на ближайшие к ним бОльшие нечетные числа."
   ]
  },
  {
   "cell_type": "code",
   "execution_count": 8,
   "metadata": {
    "ExecuteTime": {
     "end_time": "2022-10-19T22:55:32.988676Z",
     "start_time": "2022-10-19T22:55:32.973395Z"
    }
   },
   "outputs": [
    {
     "data": {
      "text/plain": [
       "tensor([  6.,  20.,  42.,  72., 110., 156., 210., 272., 342., 420.])"
      ]
     },
     "execution_count": 8,
     "metadata": {},
     "output_type": "execute_result"
    }
   ],
   "source": [
    "torch.Tensor([i for i in range(2, 21) if i % 2 == 0]) * torch.Tensor([i for i in range(2, 22) if i % 2 == 1])"
   ]
  },
  {
   "cell_type": "markdown",
   "metadata": {
    "id": "N_-t5GRM1RC_"
   },
   "source": [
    "1.1.3 Создать тензор размера 11x7 вида: [[1, 2, 3, ..., 7], [11, 12, 13, ..., 17], [21, 22, 23, ..., 27], ..., [101, 102, 103, ..., 107]]"
   ]
  },
  {
   "cell_type": "code",
   "execution_count": 9,
   "metadata": {
    "ExecuteTime": {
     "end_time": "2022-10-19T22:55:34.512357Z",
     "start_time": "2022-10-19T22:55:34.496925Z"
    }
   },
   "outputs": [
    {
     "data": {
      "text/plain": [
       "tensor([[  1.,   2.,   3.,   4.,   5.,   6.,   7.],\n",
       "        [ 11.,  12.,  13.,  14.,  15.,  16.,  17.],\n",
       "        [ 21.,  22.,  23.,  24.,  25.,  26.,  27.],\n",
       "        [ 31.,  32.,  33.,  34.,  35.,  36.,  37.],\n",
       "        [ 41.,  42.,  43.,  44.,  45.,  46.,  47.],\n",
       "        [ 51.,  52.,  53.,  54.,  55.,  56.,  57.],\n",
       "        [ 61.,  62.,  63.,  64.,  65.,  66.,  67.],\n",
       "        [ 71.,  72.,  73.,  74.,  75.,  76.,  77.],\n",
       "        [ 81.,  82.,  83.,  84.,  85.,  86.,  87.],\n",
       "        [ 91.,  92.,  93.,  94.,  95.,  96.,  97.],\n",
       "        [101., 102., 103., 104., 105., 106., 107.]])"
      ]
     },
     "execution_count": 9,
     "metadata": {},
     "output_type": "execute_result"
    }
   ],
   "source": [
    "torch.Tensor([[i + j * 10 for i in range(1, 8)] for j in range(11)])"
   ]
  },
  {
   "cell_type": "markdown",
   "metadata": {
    "id": "oxVeUiHR1RC_"
   },
   "source": [
    "1.1.4 Написать функцию, которая для целых значений `n` и `m` будет возвращать тензор размера `n`x`m`, заполненный текстурой размера 2x2, состоящей из следующих значений:\n",
    "\n",
    "```\n",
    "0 1\n",
    "\n",
    "2 3\n",
    "\n",
    "```\n",
    "\n",
    "Пример для n = 4 и m = 5:\n",
    "\n",
    "```\n",
    "0 1 0 1 0\n",
    "\n",
    "2 3 2 3 2\n",
    "\n",
    "0 1 0 1 0\n",
    "\n",
    "2 3 2 3 2\n",
    "```"
   ]
  },
  {
   "cell_type": "code",
   "execution_count": 10,
   "metadata": {
    "ExecuteTime": {
     "end_time": "2022-10-19T22:55:35.190693Z",
     "start_time": "2022-10-19T22:55:35.174049Z"
    }
   },
   "outputs": [],
   "source": [
    "def func(n, m):\n",
    "    return torch.Tensor([[2, 3] * n if j % 2 == 1 else [0, 1] * n for j in range(m)])[:, 0:m]"
   ]
  },
  {
   "cell_type": "code",
   "execution_count": 11,
   "metadata": {
    "ExecuteTime": {
     "end_time": "2022-10-19T22:55:35.490157Z",
     "start_time": "2022-10-19T22:55:35.466061Z"
    },
    "scrolled": true
   },
   "outputs": [
    {
     "data": {
      "text/plain": [
       "tensor([[0., 1., 0., 1., 0.],\n",
       "        [2., 3., 2., 3., 2.],\n",
       "        [0., 1., 0., 1., 0.],\n",
       "        [2., 3., 2., 3., 2.],\n",
       "        [0., 1., 0., 1., 0.]])"
      ]
     },
     "execution_count": 11,
     "metadata": {},
     "output_type": "execute_result"
    }
   ],
   "source": [
    "func(4, 5)"
   ]
  },
  {
   "cell_type": "markdown",
   "metadata": {
    "id": "WH9hxJse1RDA"
   },
   "source": [
    "1.1.5 Сгенерировать двумерный тензор `t` размерности (4, 7), состоящий из случайных действительных чисел, равномерно распределенных в дипазоне от 0 до 20. Нормализовать значения массива с помощью преобразования вида $ax+b$ так, что после нормализации максимальный элемент масива будет равен 1.0, минимальный 0.0"
   ]
  },
  {
   "cell_type": "markdown",
   "metadata": {
    "id": "vPqIeewXB-mM"
   },
   "source": [
    "[Random Sampling](https://pytorch.org/docs/stable/torch.html#random-sampling)\n",
    "\n",
    "[Distributions](https://pytorch.org/docs/stable/distributions.html)"
   ]
  },
  {
   "cell_type": "code",
   "execution_count": 12,
   "metadata": {
    "ExecuteTime": {
     "end_time": "2022-10-19T22:55:37.281025Z",
     "start_time": "2022-10-19T22:55:37.270927Z"
    }
   },
   "outputs": [],
   "source": [
    "t = torch.FloatTensor(4, 7).uniform_(0, 20)"
   ]
  },
  {
   "cell_type": "code",
   "execution_count": 13,
   "metadata": {
    "ExecuteTime": {
     "end_time": "2022-10-19T22:55:37.582162Z",
     "start_time": "2022-10-19T22:55:37.566958Z"
    }
   },
   "outputs": [
    {
     "data": {
      "text/plain": [
       "tensor([[ 4.6562,  1.5647, 11.0971,  9.3681, 16.7583, 13.1306,  1.2198],\n",
       "        [14.5332,  8.2005, 16.9029, 14.2904,  8.6099,  0.0443,  4.6798],\n",
       "        [14.6739, 11.1202,  6.8576,  4.8135, 16.4704, 17.4471, 11.3121],\n",
       "        [10.6834, 12.6290,  0.2992, 10.0702,  3.3553, 11.6600, 16.8390]])"
      ]
     },
     "execution_count": 13,
     "metadata": {},
     "output_type": "execute_result"
    }
   ],
   "source": [
    "t"
   ]
  },
  {
   "cell_type": "code",
   "execution_count": 14,
   "metadata": {
    "ExecuteTime": {
     "end_time": "2022-10-19T22:55:39.104434Z",
     "start_time": "2022-10-19T22:55:39.080424Z"
    }
   },
   "outputs": [],
   "source": [
    "t = (t- torch.min(t)) / (torch.max(t) - torch.min(t))"
   ]
  },
  {
   "cell_type": "code",
   "execution_count": 15,
   "metadata": {
    "ExecuteTime": {
     "end_time": "2022-10-19T22:55:39.335577Z",
     "start_time": "2022-10-19T22:55:39.319579Z"
    }
   },
   "outputs": [
    {
     "data": {
      "text/plain": [
       "tensor([[0.2650, 0.0874, 0.6351, 0.5358, 0.9604, 0.7520, 0.0675],\n",
       "        [0.8326, 0.4687, 0.9687, 0.8186, 0.4922, 0.0000, 0.2664],\n",
       "        [0.8406, 0.6364, 0.3915, 0.2740, 0.9439, 1.0000, 0.6475],\n",
       "        [0.6113, 0.7231, 0.0146, 0.5761, 0.1903, 0.6675, 0.9651]])"
      ]
     },
     "execution_count": 15,
     "metadata": {},
     "output_type": "execute_result"
    }
   ],
   "source": [
    "t"
   ]
  },
  {
   "cell_type": "markdown",
   "metadata": {
    "id": "K_R6cwq11RDE"
   },
   "source": [
    "1.1.6 Задать два двумерных тензора `ar1` и `ar2` размерности (4, 7), состоящих из случайных целых чисел в пределах от 0 до 10. Построить двумерный тензор размерности (4, 7), каждый элемент которого представляет собой максимум из двух значений, находящихся на аналогичной позиции в массивах `ar1`, `ar2`.\n",
    "\n",
    "[Reductions ops](https://pytorch.org/docs/stable/torch.html#reduction-ops)"
   ]
  },
  {
   "cell_type": "code",
   "execution_count": 16,
   "metadata": {
    "ExecuteTime": {
     "end_time": "2022-10-19T22:55:40.536504Z",
     "start_time": "2022-10-19T22:55:40.523843Z"
    }
   },
   "outputs": [],
   "source": [
    "ar1 = torch.randint(0, 10, (4, 7))\n",
    "ar2 = torch.randint(0, 10, (4, 7))"
   ]
  },
  {
   "cell_type": "code",
   "execution_count": 17,
   "metadata": {
    "ExecuteTime": {
     "end_time": "2022-10-19T22:55:40.900217Z",
     "start_time": "2022-10-19T22:55:40.886091Z"
    }
   },
   "outputs": [
    {
     "data": {
      "text/plain": [
       "tensor([[3, 7, 3, 3, 7, 4, 1],\n",
       "        [6, 2, 5, 7, 6, 1, 9],\n",
       "        [7, 4, 4, 4, 4, 8, 5],\n",
       "        [7, 7, 0, 8, 5, 4, 3]])"
      ]
     },
     "execution_count": 17,
     "metadata": {},
     "output_type": "execute_result"
    }
   ],
   "source": [
    "ar1"
   ]
  },
  {
   "cell_type": "code",
   "execution_count": 18,
   "metadata": {
    "ExecuteTime": {
     "end_time": "2022-10-19T22:55:41.255062Z",
     "start_time": "2022-10-19T22:55:41.236330Z"
    }
   },
   "outputs": [
    {
     "data": {
      "text/plain": [
       "tensor([[9, 3, 7, 5, 7, 4, 5],\n",
       "        [3, 4, 2, 9, 0, 5, 8],\n",
       "        [4, 0, 1, 6, 4, 3, 2],\n",
       "        [6, 0, 1, 8, 9, 2, 5]])"
      ]
     },
     "execution_count": 18,
     "metadata": {},
     "output_type": "execute_result"
    }
   ],
   "source": [
    "ar2"
   ]
  },
  {
   "cell_type": "code",
   "execution_count": 19,
   "metadata": {
    "ExecuteTime": {
     "end_time": "2022-10-19T22:55:42.466194Z",
     "start_time": "2022-10-19T22:55:42.442384Z"
    }
   },
   "outputs": [
    {
     "data": {
      "text/plain": [
       "tensor([[9, 7, 7, 5, 7, 4, 5],\n",
       "        [6, 4, 5, 9, 6, 5, 9],\n",
       "        [7, 4, 4, 6, 4, 8, 5],\n",
       "        [7, 7, 1, 8, 9, 4, 5]])"
      ]
     },
     "execution_count": 19,
     "metadata": {},
     "output_type": "execute_result"
    }
   ],
   "source": [
    "torch.where(ar1 > ar2, ar1, ar2)"
   ]
  },
  {
   "cell_type": "markdown",
   "metadata": {
    "id": "x6zmMhyKBPWQ"
   },
   "source": [
    "1.1.7 Создать тензор из 20 случайных целых чисел от 0 до 100. Получить второе сверху значение в тензоре. Определить индекс этого значения."
   ]
  },
  {
   "cell_type": "code",
   "execution_count": 20,
   "metadata": {
    "ExecuteTime": {
     "end_time": "2022-10-19T22:55:42.876780Z",
     "start_time": "2022-10-19T22:55:42.869012Z"
    }
   },
   "outputs": [],
   "source": [
    "t = torch.randint(0, 100, (1, 20))"
   ]
  },
  {
   "cell_type": "code",
   "execution_count": 21,
   "metadata": {
    "ExecuteTime": {
     "end_time": "2022-10-19T22:55:43.283393Z",
     "start_time": "2022-10-19T22:55:43.272806Z"
    }
   },
   "outputs": [
    {
     "data": {
      "text/plain": [
       "tensor([[31, 25, 31, 87, 82, 30, 47, 41, 52, 47, 74,  3, 19, 88, 51, 14, 88, 71,\n",
       "         98, 31]])"
      ]
     },
     "execution_count": 21,
     "metadata": {},
     "output_type": "execute_result"
    }
   ],
   "source": [
    "t"
   ]
  },
  {
   "cell_type": "code",
   "execution_count": 22,
   "metadata": {
    "ExecuteTime": {
     "end_time": "2022-10-19T22:55:44.494526Z",
     "start_time": "2022-10-19T22:55:44.478484Z"
    }
   },
   "outputs": [
    {
     "data": {
      "text/plain": [
       "tensor(13)"
      ]
     },
     "execution_count": 22,
     "metadata": {},
     "output_type": "execute_result"
    }
   ],
   "source": [
    "torch.argmax(t[t != torch.max(t)])"
   ]
  },
  {
   "cell_type": "markdown",
   "metadata": {
    "id": "Xshsy8fD1RDE"
   },
   "source": [
    "## 1.2 Распространение"
   ]
  },
  {
   "cell_type": "markdown",
   "metadata": {
    "id": "jlP22HAJCo28"
   },
   "source": [
    "[Numpy broadcasting](https://numpy.org/devdocs/user/theory.broadcasting.html)\n",
    "\n",
    "[Torch broadcasting](https://pytorch.org/docs/stable/notes/broadcasting.html)"
   ]
  },
  {
   "cell_type": "markdown",
   "metadata": {
    "id": "uRD6-8Gd1RDF"
   },
   "source": [
    "1.2.1 Создать тензор 11x7 вида: `[[1, 2, 3, ..., 7], [11, 12, 13, ..., 17], [21, 22, 23, ..., 27], ..., [101, 102, 103, ..., 107]]`. При решении задачи применить технику распространения."
   ]
  },
  {
   "cell_type": "code",
   "execution_count": 23,
   "metadata": {
    "ExecuteTime": {
     "end_time": "2022-10-19T22:55:45.379731Z",
     "start_time": "2022-10-19T22:55:45.357081Z"
    }
   },
   "outputs": [
    {
     "data": {
      "text/plain": [
       "tensor([[  1.,   2.,   3.,   4.,   5.,   6.,   7.],\n",
       "        [ 11.,  12.,  13.,  14.,  15.,  16.,  17.],\n",
       "        [ 21.,  22.,  23.,  24.,  25.,  26.,  27.],\n",
       "        [ 31.,  32.,  33.,  34.,  35.,  36.,  37.],\n",
       "        [ 41.,  42.,  43.,  44.,  45.,  46.,  47.],\n",
       "        [ 51.,  52.,  53.,  54.,  55.,  56.,  57.],\n",
       "        [ 61.,  62.,  63.,  64.,  65.,  66.,  67.],\n",
       "        [ 71.,  72.,  73.,  74.,  75.,  76.,  77.],\n",
       "        [ 81.,  82.,  83.,  84.,  85.,  86.,  87.],\n",
       "        [ 91.,  92.,  93.,  94.,  95.,  96.,  97.],\n",
       "        [101., 102., 103., 104., 105., 106., 107.]])"
      ]
     },
     "execution_count": 23,
     "metadata": {},
     "output_type": "execute_result"
    }
   ],
   "source": [
    "torch.Tensor([[i + j * 10 for i in range(1, 8)] for j in range(11)])"
   ]
  },
  {
   "cell_type": "markdown",
   "metadata": {
    "id": "iSY9Iday1RDF"
   },
   "source": [
    "1.2.2 Вычесть одномерный тензор `b_1d` из двухмерного тензора `a_2d`, так, чтобы каждый элемент одномерного тензора вычитался из всех элементов соответствующих строк двумерного тензора.\n",
    "\n",
    "_Пример:_\n",
    "\n",
    "Для входа:\n",
    "```python\n",
    "a_2d = np.array([[3,3,3],[4,4,4],[5,5,5]])\n",
    "b_1d = np.array([1,2,3])\n",
    "```\n",
    "\n",
    "Ожидается резульат:\n",
    "\n",
    "```python\n",
    "[[2 2 2]\n",
    " [2 2 2]\n",
    " [2 2 2]]\n",
    "```"
   ]
  },
  {
   "cell_type": "code",
   "execution_count": 24,
   "metadata": {
    "ExecuteTime": {
     "end_time": "2022-10-19T22:55:45.933045Z",
     "start_time": "2022-10-19T22:55:45.909037Z"
    }
   },
   "outputs": [],
   "source": [
    "import numpy as np\n",
    "a_2d = torch.from_numpy(np.array([[3,3,3],[4,4,4],[5,5,5]]))\n",
    "b_1d = torch.from_numpy(np.array([1,2,3]).reshape(-1, 1))"
   ]
  },
  {
   "cell_type": "code",
   "execution_count": 25,
   "metadata": {
    "ExecuteTime": {
     "end_time": "2022-10-19T22:55:47.218336Z",
     "start_time": "2022-10-19T22:55:47.203767Z"
    }
   },
   "outputs": [
    {
     "data": {
      "text/plain": [
       "tensor([[2, 2, 2],\n",
       "        [2, 2, 2],\n",
       "        [2, 2, 2]], dtype=torch.int32)"
      ]
     },
     "execution_count": 25,
     "metadata": {},
     "output_type": "execute_result"
    }
   ],
   "source": [
    "a_2d - b_1d"
   ]
  },
  {
   "cell_type": "markdown",
   "metadata": {
    "id": "dFTvPsY91RDF"
   },
   "source": [
    "## 1.3 Индексы, маскирование и прихотливое индексирование\n",
    "\n",
    "[Документация по функциям для работы с индексами](https://pytorch.org/docs/stable/torch.html#indexing-slicing-joining-mutating-ops)"
   ]
  },
  {
   "cell_type": "markdown",
   "metadata": {
    "id": "McYtDYhH1RDG"
   },
   "source": [
    "1.3.1 Получить индексы, для которых элементы тензоров `a` и `b` совпадают.\n",
    "\n",
    "_Пример:_\n",
    "\n",
    "Для входа:\n",
    "```python\n",
    "a = np.array([1,2,3,2,3,4,3,4,5,6])\n",
    "b = np.array([7,2,10,2,7,4,9,4,9,8])\n",
    "```\n",
    "\n",
    "Ожидается резульат:\n",
    "\n",
    "```python\n",
    "array([1, 3, 5, 7])\n",
    "```"
   ]
  },
  {
   "cell_type": "code",
   "execution_count": 26,
   "metadata": {
    "ExecuteTime": {
     "end_time": "2022-10-19T22:55:47.993731Z",
     "start_time": "2022-10-19T22:55:47.977489Z"
    }
   },
   "outputs": [],
   "source": [
    "a = torch.from_numpy(np.array([1,2,3,2,3,4,3,4,5,6]))\n",
    "b = torch.from_numpy(np.array([7,2,10,2,7,4,9,4,9,8]))"
   ]
  },
  {
   "cell_type": "code",
   "execution_count": 27,
   "metadata": {
    "ExecuteTime": {
     "end_time": "2022-10-19T22:55:49.408035Z",
     "start_time": "2022-10-19T22:55:49.383981Z"
    }
   },
   "outputs": [
    {
     "data": {
      "text/plain": [
       "tensor([1, 3, 5, 7])"
      ]
     },
     "execution_count": 27,
     "metadata": {},
     "output_type": "execute_result"
    }
   ],
   "source": [
    "(a == b).nonzero().squeeze()"
   ]
  },
  {
   "cell_type": "markdown",
   "metadata": {
    "id": "MnBq3nfy1RDG"
   },
   "source": [
    "1.3.2 Инвертировать порядок элементов в двумерном тензоре `torch.arange(9).view(3,3)`.\n",
    "\n",
    "Ожидаемый результат:\n",
    "\n",
    "\n",
    "```python\n",
    "array([[8, 7, 6],\n",
    "       [5, 4, 3],\n",
    "       [2, 1, 0]])\n",
    "```"
   ]
  },
  {
   "cell_type": "code",
   "execution_count": 28,
   "metadata": {
    "ExecuteTime": {
     "end_time": "2022-10-19T22:55:50.029272Z",
     "start_time": "2022-10-19T22:55:50.020862Z"
    }
   },
   "outputs": [],
   "source": [
    "t = torch.arange(9).view(3,3)"
   ]
  },
  {
   "cell_type": "code",
   "execution_count": 29,
   "metadata": {
    "ExecuteTime": {
     "end_time": "2022-10-19T22:55:50.313136Z",
     "start_time": "2022-10-19T22:55:50.303546Z"
    }
   },
   "outputs": [
    {
     "data": {
      "text/plain": [
       "tensor([[0, 1, 2],\n",
       "        [3, 4, 5],\n",
       "        [6, 7, 8]])"
      ]
     },
     "execution_count": 29,
     "metadata": {},
     "output_type": "execute_result"
    }
   ],
   "source": [
    "t"
   ]
  },
  {
   "cell_type": "code",
   "execution_count": 30,
   "metadata": {
    "ExecuteTime": {
     "end_time": "2022-10-19T22:55:50.632609Z",
     "start_time": "2022-10-19T22:55:50.616602Z"
    }
   },
   "outputs": [
    {
     "data": {
      "text/plain": [
       "tensor([[8, 7, 6],\n",
       "        [5, 4, 3],\n",
       "        [2, 1, 0]])"
      ]
     },
     "execution_count": 30,
     "metadata": {},
     "output_type": "execute_result"
    }
   ],
   "source": [
    "torch.flip(t, [0, 1])"
   ]
  },
  {
   "cell_type": "markdown",
   "metadata": {
    "id": "tANsLnOC1RDH"
   },
   "source": [
    "1.3.3 Из входного тензора a получить только элементы, находящиеся в диапазоне от 5 до 10.\n",
    "\n",
    "_Пример:_\n",
    "\n",
    "Для входа:\n",
    "```python\n",
    "a = np.array([2, 6, 1, 9, 10, 3, 27])\n",
    "```\n",
    "\n",
    "Ожидается резульат:\n",
    "\n",
    "```python\n",
    "array([6, 9, 10])\n",
    "```"
   ]
  },
  {
   "cell_type": "code",
   "execution_count": 31,
   "metadata": {
    "ExecuteTime": {
     "end_time": "2022-10-19T22:55:52.183835Z",
     "start_time": "2022-10-19T22:55:52.177290Z"
    }
   },
   "outputs": [],
   "source": [
    "a = torch.from_numpy(np.array([2, 6, 1, 9, 10, 3, 27]))"
   ]
  },
  {
   "cell_type": "code",
   "execution_count": 32,
   "metadata": {
    "ExecuteTime": {
     "end_time": "2022-10-19T22:55:52.396425Z",
     "start_time": "2022-10-19T22:55:52.383910Z"
    }
   },
   "outputs": [
    {
     "data": {
      "text/plain": [
       "tensor([ 6,  9, 10], dtype=torch.int32)"
      ]
     },
     "execution_count": 32,
     "metadata": {},
     "output_type": "execute_result"
    }
   ],
   "source": [
    "a[(a >= 5) & (a <= 10)]"
   ]
  },
  {
   "cell_type": "markdown",
   "metadata": {
    "id": "3vlK0gV21RDH"
   },
   "source": [
    "1.3.4 Поменять местами столбец 1 и 2 тензора `np.arange(9).reshape(3,3)`"
   ]
  },
  {
   "cell_type": "code",
   "execution_count": 33,
   "metadata": {
    "ExecuteTime": {
     "end_time": "2022-10-19T22:55:52.882630Z",
     "start_time": "2022-10-19T22:55:52.867668Z"
    }
   },
   "outputs": [],
   "source": [
    "t = torch.from_numpy(np.arange(9).reshape(3,3))"
   ]
  },
  {
   "cell_type": "code",
   "execution_count": 34,
   "metadata": {
    "ExecuteTime": {
     "end_time": "2022-10-19T22:55:54.163700Z",
     "start_time": "2022-10-19T22:55:54.140033Z"
    }
   },
   "outputs": [
    {
     "data": {
      "text/plain": [
       "tensor([[0, 1, 2],\n",
       "        [3, 4, 5],\n",
       "        [6, 7, 8]], dtype=torch.int32)"
      ]
     },
     "execution_count": 34,
     "metadata": {},
     "output_type": "execute_result"
    }
   ],
   "source": [
    "t"
   ]
  },
  {
   "cell_type": "code",
   "execution_count": 35,
   "metadata": {
    "ExecuteTime": {
     "end_time": "2022-10-19T22:55:54.381349Z",
     "start_time": "2022-10-19T22:55:54.366805Z"
    }
   },
   "outputs": [
    {
     "data": {
      "text/plain": [
       "tensor([[0, 2, 1],\n",
       "        [3, 5, 4],\n",
       "        [6, 8, 7]], dtype=torch.int32)"
      ]
     },
     "execution_count": 35,
     "metadata": {},
     "output_type": "execute_result"
    }
   ],
   "source": [
    "torch.index_select(t, 1, torch.LongTensor([0,2,1]))"
   ]
  },
  {
   "cell_type": "markdown",
   "metadata": {
    "id": "cheFtWhU1RDH"
   },
   "source": [
    "1.3.5 Создать тензор 8 на 10 из случайных целых чисел из диапазона от 0 до 10 и найти в ней строку (ее индекс и вывести саму строку), в которой сумма значений минимальна."
   ]
  },
  {
   "cell_type": "code",
   "execution_count": 36,
   "metadata": {
    "ExecuteTime": {
     "end_time": "2022-10-19T22:55:54.790141Z",
     "start_time": "2022-10-19T22:55:54.769300Z"
    },
    "scrolled": true
   },
   "outputs": [
    {
     "data": {
      "text/plain": [
       "tensor([[4, 7, 2, 0, 5, 6, 5, 2, 9, 1],\n",
       "        [4, 4, 8, 4, 8, 0, 9, 7, 9, 9],\n",
       "        [3, 2, 2, 1, 9, 8, 7, 2, 0, 0],\n",
       "        [5, 5, 1, 8, 0, 7, 2, 6, 7, 2],\n",
       "        [9, 7, 3, 3, 9, 2, 5, 8, 1, 5],\n",
       "        [6, 0, 2, 9, 4, 1, 2, 1, 4, 5],\n",
       "        [9, 2, 4, 7, 1, 3, 8, 1, 4, 6],\n",
       "        [1, 6, 0, 7, 0, 8, 8, 5, 2, 8]])"
      ]
     },
     "execution_count": 36,
     "metadata": {},
     "output_type": "execute_result"
    }
   ],
   "source": [
    "t = torch.randint(0, 10, (8, 10))\n",
    "t"
   ]
  },
  {
   "cell_type": "code",
   "execution_count": 37,
   "metadata": {
    "ExecuteTime": {
     "end_time": "2022-10-19T22:55:55.333867Z",
     "start_time": "2022-10-19T22:55:55.311222Z"
    }
   },
   "outputs": [
    {
     "data": {
      "text/plain": [
       "tensor(1)"
      ]
     },
     "execution_count": 37,
     "metadata": {},
     "output_type": "execute_result"
    }
   ],
   "source": [
    "torch.argmax(t.sum(axis=1))"
   ]
  },
  {
   "cell_type": "code",
   "execution_count": 38,
   "metadata": {
    "ExecuteTime": {
     "end_time": "2022-10-19T22:55:55.548176Z",
     "start_time": "2022-10-19T22:55:55.524032Z"
    }
   },
   "outputs": [
    {
     "data": {
      "text/plain": [
       "tensor([4, 4, 8, 4, 8, 0, 9, 7, 9, 9])"
      ]
     },
     "execution_count": 38,
     "metadata": {},
     "output_type": "execute_result"
    }
   ],
   "source": [
    "t[torch.argmax(t.sum(axis=1))]"
   ]
  },
  {
   "cell_type": "markdown",
   "metadata": {
    "id": "grOCNU4XFE2B"
   },
   "source": [
    "1.3.6 Cоздать тензор из 20 случайных целых чисел от 0 до 100. Обрезать значения тензора (заменить значения, выходящие за диапазон, на крайние значения) снизу по значению 30, сверху по значению 70."
   ]
  },
  {
   "cell_type": "code",
   "execution_count": 39,
   "metadata": {
    "ExecuteTime": {
     "end_time": "2022-10-19T22:55:57.675251Z",
     "start_time": "2022-10-19T22:55:57.663698Z"
    }
   },
   "outputs": [
    {
     "data": {
      "text/plain": [
       "tensor([[ 6, 39, 71, 95, 69, 55, 84, 24, 82, 68, 25, 52,  5, 70, 43,  8, 83, 23,\n",
       "         48,  5]])"
      ]
     },
     "execution_count": 39,
     "metadata": {},
     "output_type": "execute_result"
    }
   ],
   "source": [
    "t = torch.randint(0, 100, (1, 20))\n",
    "t"
   ]
  },
  {
   "cell_type": "code",
   "execution_count": 40,
   "metadata": {
    "ExecuteTime": {
     "end_time": "2022-10-19T22:55:57.691535Z",
     "start_time": "2022-10-19T22:55:57.679584Z"
    }
   },
   "outputs": [
    {
     "data": {
      "text/plain": [
       "tensor([[30, 39, 70, 70, 69, 55, 70, 30, 70, 68, 30, 52, 30, 70, 43, 30, 70, 30,\n",
       "         48, 30]])"
      ]
     },
     "execution_count": 40,
     "metadata": {},
     "output_type": "execute_result"
    }
   ],
   "source": [
    "t = torch.where(t >= 70, 70, t)\n",
    "torch.where(t <= 30, 30, t)"
   ]
  },
  {
   "cell_type": "markdown",
   "metadata": {
    "id": "HNfQjY8P1RDI"
   },
   "source": [
    "1.3.7 Создать два тензора размера 30 на 3 из случайных целых чисел из диапазона от 0 до 10 и найти все значения первого тензора, которые больше соответсвующих (по расположению) значений второго тензора. Подсчитать сумму этих значений."
   ]
  },
  {
   "cell_type": "code",
   "execution_count": 41,
   "metadata": {
    "ExecuteTime": {
     "end_time": "2022-10-19T22:55:57.700914Z",
     "start_time": "2022-10-19T22:55:57.691535Z"
    }
   },
   "outputs": [],
   "source": [
    "t1 = torch.randint(0, 10, (30, 3))\n",
    "t2 = torch.randint(0, 10, (30, 3))"
   ]
  },
  {
   "cell_type": "code",
   "execution_count": 42,
   "metadata": {
    "ExecuteTime": {
     "end_time": "2022-10-19T22:55:57.865297Z",
     "start_time": "2022-10-19T22:55:57.840596Z"
    }
   },
   "outputs": [
    {
     "data": {
      "text/plain": [
       "tensor(280)"
      ]
     },
     "execution_count": 42,
     "metadata": {},
     "output_type": "execute_result"
    }
   ],
   "source": [
    "t1[t1 > t2].sum()"
   ]
  },
  {
   "cell_type": "markdown",
   "metadata": {
    "id": "doBCxYJA1RDI"
   },
   "source": [
    "1.3.8 При помощи прихотливого индексирования для двухмерного массива размерности (20, 20), состоящего из случайных целых чисел в пределах от 0 до 10 получить массив элементов находящихся на диагонали, проходящей над основной диагональю."
   ]
  },
  {
   "cell_type": "code",
   "execution_count": 43,
   "metadata": {
    "ExecuteTime": {
     "end_time": "2022-10-19T22:55:59.554933Z",
     "start_time": "2022-10-19T22:55:59.533586Z"
    }
   },
   "outputs": [
    {
     "data": {
      "text/plain": [
       "tensor([[9, 5, 2, 6, 5, 4, 2, 5, 2, 0, 4, 1, 2, 9, 4, 9, 7, 4, 9, 7],\n",
       "        [2, 6, 5, 7, 8, 1, 0, 8, 3, 0, 5, 6, 1, 2, 4, 1, 8, 9, 2, 9],\n",
       "        [3, 5, 3, 7, 2, 7, 7, 8, 1, 3, 3, 9, 2, 2, 4, 0, 0, 9, 0, 0],\n",
       "        [4, 2, 0, 9, 7, 6, 3, 4, 1, 6, 0, 8, 4, 0, 6, 5, 4, 2, 7, 8],\n",
       "        [9, 9, 7, 7, 2, 3, 6, 0, 6, 7, 5, 5, 8, 7, 3, 2, 6, 5, 2, 4],\n",
       "        [6, 8, 6, 8, 4, 1, 5, 2, 1, 6, 0, 5, 8, 4, 3, 0, 3, 3, 4, 9],\n",
       "        [2, 2, 6, 8, 6, 7, 9, 7, 6, 3, 3, 1, 2, 1, 9, 5, 9, 6, 7, 0],\n",
       "        [7, 1, 4, 8, 0, 9, 8, 6, 2, 9, 3, 8, 2, 6, 4, 3, 8, 7, 2, 3],\n",
       "        [7, 5, 0, 1, 0, 1, 2, 5, 1, 6, 0, 9, 8, 6, 3, 0, 9, 6, 7, 5],\n",
       "        [1, 9, 4, 8, 9, 3, 3, 4, 0, 2, 3, 9, 3, 9, 1, 0, 2, 7, 9, 3],\n",
       "        [7, 9, 5, 8, 1, 6, 7, 2, 5, 7, 2, 1, 5, 7, 8, 3, 9, 2, 2, 7],\n",
       "        [7, 9, 3, 5, 9, 0, 3, 6, 8, 3, 7, 4, 5, 5, 8, 5, 8, 5, 9, 5],\n",
       "        [1, 0, 1, 3, 2, 3, 7, 2, 1, 4, 1, 2, 3, 2, 9, 0, 1, 2, 7, 4],\n",
       "        [8, 4, 6, 7, 6, 8, 4, 3, 4, 9, 8, 5, 6, 7, 6, 3, 7, 7, 8, 6],\n",
       "        [2, 9, 2, 8, 8, 7, 1, 6, 3, 9, 8, 7, 3, 5, 3, 5, 2, 3, 2, 4],\n",
       "        [3, 1, 5, 6, 0, 2, 9, 9, 6, 4, 2, 7, 4, 2, 4, 5, 3, 4, 5, 5],\n",
       "        [2, 8, 1, 3, 8, 3, 9, 7, 4, 8, 7, 9, 5, 5, 1, 7, 2, 5, 1, 3],\n",
       "        [9, 2, 2, 1, 8, 7, 0, 8, 7, 8, 4, 7, 4, 2, 7, 0, 5, 6, 8, 5],\n",
       "        [0, 7, 5, 4, 2, 7, 1, 2, 8, 7, 4, 2, 7, 9, 3, 3, 6, 0, 2, 4],\n",
       "        [1, 6, 0, 9, 6, 3, 3, 9, 0, 3, 4, 0, 4, 2, 9, 7, 5, 9, 4, 2]])"
      ]
     },
     "execution_count": 43,
     "metadata": {},
     "output_type": "execute_result"
    }
   ],
   "source": [
    "t = torch.randint(0, 10, (20, 20))\n",
    "t"
   ]
  },
  {
   "cell_type": "code",
   "execution_count": 44,
   "metadata": {
    "ExecuteTime": {
     "end_time": "2022-10-19T22:55:59.813309Z",
     "start_time": "2022-10-19T22:55:59.802337Z"
    }
   },
   "outputs": [
    {
     "data": {
      "text/plain": [
       "tensor([5., 5., 7., 7., 3., 5., 7., 2., 6., 3., 1., 5., 2., 6., 5., 3., 5., 8.,\n",
       "        4.])"
      ]
     },
     "execution_count": 44,
     "metadata": {},
     "output_type": "execute_result"
    }
   ],
   "source": [
    "arr = torch.Tensor([t[i, i+1] for i in range(19)])\n",
    "arr"
   ]
  },
  {
   "cell_type": "markdown",
   "metadata": {
    "id": "6M1lkfLp1RDJ"
   },
   "source": [
    "1.3.9 Задать два двухмерных тензора `ar1` и `ar2` размерности (5, 10), состоящих из случайных целых чисел в пределах от 0 до 10. Удвоить все значения `ar1`, которые совпадают со значениями `ar2`, расположенными на аналогичных позициях."
   ]
  },
  {
   "cell_type": "code",
   "execution_count": 45,
   "metadata": {
    "ExecuteTime": {
     "end_time": "2022-10-19T22:56:00.214661Z",
     "start_time": "2022-10-19T22:56:00.201903Z"
    },
    "scrolled": true
   },
   "outputs": [
    {
     "data": {
      "text/plain": [
       "tensor([[6, 7, 3, 8, 2, 8, 4, 2, 9, 4],\n",
       "        [8, 2, 0, 2, 7, 7, 9, 7, 8, 7],\n",
       "        [6, 6, 3, 0, 6, 0, 6, 0, 9, 0],\n",
       "        [4, 1, 9, 9, 1, 6, 5, 2, 2, 0],\n",
       "        [4, 4, 8, 3, 3, 1, 6, 5, 5, 5]])"
      ]
     },
     "execution_count": 45,
     "metadata": {},
     "output_type": "execute_result"
    }
   ],
   "source": [
    "t1 = torch.randint(0, 10, (5, 10))\n",
    "t2 = torch.randint(0, 10, (5, 10))\n",
    "t1"
   ]
  },
  {
   "cell_type": "code",
   "execution_count": 46,
   "metadata": {
    "ExecuteTime": {
     "end_time": "2022-10-19T22:56:00.435363Z",
     "start_time": "2022-10-19T22:56:00.411362Z"
    }
   },
   "outputs": [
    {
     "data": {
      "text/plain": [
       "tensor([[8, 7, 7, 8, 0, 3, 4, 9, 7, 3],\n",
       "        [3, 8, 6, 9, 2, 7, 2, 3, 8, 4],\n",
       "        [8, 0, 8, 9, 4, 1, 4, 5, 5, 4],\n",
       "        [1, 0, 4, 5, 5, 0, 4, 3, 5, 6],\n",
       "        [1, 6, 8, 1, 5, 5, 6, 6, 7, 8]])"
      ]
     },
     "execution_count": 46,
     "metadata": {},
     "output_type": "execute_result"
    }
   ],
   "source": [
    "t2"
   ]
  },
  {
   "cell_type": "code",
   "execution_count": 47,
   "metadata": {
    "ExecuteTime": {
     "end_time": "2022-10-19T22:56:01.842841Z",
     "start_time": "2022-10-19T22:56:01.818868Z"
    }
   },
   "outputs": [
    {
     "data": {
      "text/plain": [
       "tensor([[ 6, 14,  3, 16,  2,  8,  8,  2,  9,  4],\n",
       "        [ 8,  2,  0,  2,  7, 14,  9,  7, 16,  7],\n",
       "        [ 6,  6,  3,  0,  6,  0,  6,  0,  9,  0],\n",
       "        [ 4,  1,  9,  9,  1,  6,  5,  2,  2,  0],\n",
       "        [ 4,  4, 16,  3,  3,  1, 12,  5,  5,  5]])"
      ]
     },
     "execution_count": 47,
     "metadata": {},
     "output_type": "execute_result"
    }
   ],
   "source": [
    "torch.where(t1 == t2, t1 * 2, t1)"
   ]
  },
  {
   "cell_type": "markdown",
   "metadata": {
    "id": "Qe2oVr4p1RDJ"
   },
   "source": [
    "1.3.10 Заданы три двухмерных тензора `ar1`, `ar2` и `ar3` размерности (4, 7), состоящие из случайных целых чисел в пределах от 0 до 10. Обнулить все элементы `ar1`, которые больше соответствующих (находящихся в соответствующих позициях) элементов `ar2` и меньше соответствующих элементов `ar3`."
   ]
  },
  {
   "cell_type": "code",
   "execution_count": 48,
   "metadata": {
    "ExecuteTime": {
     "end_time": "2022-10-19T22:56:02.229760Z",
     "start_time": "2022-10-19T22:56:02.217460Z"
    }
   },
   "outputs": [
    {
     "data": {
      "text/plain": [
       "tensor([[1, 8, 2, 9, 0, 3, 8],\n",
       "        [8, 9, 0, 8, 7, 8, 3],\n",
       "        [6, 1, 4, 9, 6, 6, 0],\n",
       "        [0, 4, 5, 2, 1, 8, 5]])"
      ]
     },
     "execution_count": 48,
     "metadata": {},
     "output_type": "execute_result"
    }
   ],
   "source": [
    "ar1 = torch.randint(0, 10, (4, 7))\n",
    "ar2 = torch.randint(0, 10, (4, 7))\n",
    "ar3 = torch.randint(0, 10, (4, 7))\n",
    "ar1"
   ]
  },
  {
   "cell_type": "code",
   "execution_count": 49,
   "metadata": {
    "ExecuteTime": {
     "end_time": "2022-10-19T22:56:02.437731Z",
     "start_time": "2022-10-19T22:56:02.421670Z"
    }
   },
   "outputs": [
    {
     "data": {
      "text/plain": [
       "tensor([[0, 0, 0, 0, 0, 3, 0],\n",
       "        [8, 0, 0, 8, 0, 0, 0],\n",
       "        [0, 1, 0, 0, 6, 0, 0],\n",
       "        [0, 0, 5, 0, 0, 0, 5]])"
      ]
     },
     "execution_count": 49,
     "metadata": {},
     "output_type": "execute_result"
    }
   ],
   "source": [
    "ar1 = torch.where(ar1 > ar2, 0, ar1)\n",
    "ar1 = torch.where(ar1 < ar3, 0, ar1)\n",
    "ar1"
   ]
  },
  {
   "cell_type": "markdown",
   "metadata": {
    "id": "BTcRVeYh1RDK"
   },
   "source": [
    "1.3.11 Задан двумерный тензор `ar1` размерности (20, 5), состоящий из случайных целых чисел в пределах от 0 до 20. Определить, в каких столбцах не менее 5 раз встречается значение, максимальное по своей строке."
   ]
  },
  {
   "cell_type": "code",
   "execution_count": 50,
   "metadata": {
    "ExecuteTime": {
     "end_time": "2022-10-19T22:56:02.839775Z",
     "start_time": "2022-10-19T22:56:02.815166Z"
    }
   },
   "outputs": [
    {
     "data": {
      "text/plain": [
       "tensor([[14,  8,  3,  4,  2],\n",
       "        [ 4,  0, 13, 13,  7],\n",
       "        [15,  7,  5,  4, 12],\n",
       "        [13, 16, 13,  4, 14],\n",
       "        [17, 19,  0,  7,  7],\n",
       "        [11,  9, 15, 18, 16],\n",
       "        [ 3, 17, 12, 19,  7],\n",
       "        [10,  5, 13,  7,  3],\n",
       "        [ 8, 18,  1, 15,  7],\n",
       "        [ 4,  5,  3, 13, 17],\n",
       "        [ 1, 15,  1, 16, 17],\n",
       "        [ 7, 17,  0,  2, 16],\n",
       "        [19,  8, 19, 10, 19],\n",
       "        [ 7,  2,  5, 12, 19],\n",
       "        [ 1,  8,  8, 18, 17],\n",
       "        [10, 19,  9,  7,  7],\n",
       "        [14,  9, 17, 18, 16],\n",
       "        [16,  6,  6,  1, 10],\n",
       "        [ 7, 18, 14,  6, 16],\n",
       "        [13,  0, 12, 16,  2]])"
      ]
     },
     "execution_count": 50,
     "metadata": {},
     "output_type": "execute_result"
    }
   ],
   "source": [
    "ar1 = torch.randint(0, 20, (20, 5))\n",
    "ar1"
   ]
  },
  {
   "cell_type": "code",
   "execution_count": 51,
   "metadata": {
    "ExecuteTime": {
     "end_time": "2022-10-19T22:56:04.079143Z",
     "start_time": "2022-10-19T22:56:04.063143Z"
    }
   },
   "outputs": [],
   "source": [
    "_, indx = ar1.max(axis=1)"
   ]
  },
  {
   "cell_type": "code",
   "execution_count": 52,
   "metadata": {
    "ExecuteTime": {
     "end_time": "2022-10-19T22:56:04.280800Z",
     "start_time": "2022-10-19T22:56:04.256464Z"
    }
   },
   "outputs": [
    {
     "data": {
      "text/plain": [
       "tensor([0, 2, 0, 1, 1, 3, 3, 2, 1, 4, 4, 1, 0, 4, 3, 1, 3, 0, 1, 3])"
      ]
     },
     "execution_count": 52,
     "metadata": {},
     "output_type": "execute_result"
    }
   ],
   "source": [
    "indx"
   ]
  },
  {
   "cell_type": "code",
   "execution_count": 53,
   "metadata": {
    "ExecuteTime": {
     "end_time": "2022-10-19T22:56:04.433767Z",
     "start_time": "2022-10-19T22:56:04.420849Z"
    }
   },
   "outputs": [
    {
     "data": {
      "text/plain": [
       "{0: 4, 2: 2, 1: 6, 3: 5, 4: 3}"
      ]
     },
     "execution_count": 53,
     "metadata": {},
     "output_type": "execute_result"
    }
   ],
   "source": [
    "from collections import Counter\n",
    "dict(Counter(indx.numpy()))"
   ]
  },
  {
   "cell_type": "code",
   "execution_count": 54,
   "metadata": {
    "ExecuteTime": {
     "end_time": "2022-10-19T22:56:04.655123Z",
     "start_time": "2022-10-19T22:56:04.634501Z"
    }
   },
   "outputs": [],
   "source": [
    "# столбцы 3 и 0"
   ]
  },
  {
   "cell_type": "markdown",
   "metadata": {
    "id": "ZeYlNWNE1RDK"
   },
   "source": [
    "1.3.12 Задан двумерный тензор `ar1` размерности (4, 7), состоящий из случайных  чисел в пределах от 0 до 1. Обнулить все значения в массиве, расположенные строго правее и ниже максимального элемента массива. "
   ]
  },
  {
   "cell_type": "code",
   "execution_count": 55,
   "metadata": {
    "ExecuteTime": {
     "end_time": "2022-10-19T22:56:06.040844Z",
     "start_time": "2022-10-19T22:56:06.032737Z"
    }
   },
   "outputs": [
    {
     "data": {
      "text/plain": [
       "tensor([[0.7083, 0.3186, 0.1067, 0.9306, 0.2159, 0.8569, 0.0790],\n",
       "        [0.2676, 0.9803, 0.3362, 0.0688, 0.1126, 0.2664, 0.0079],\n",
       "        [0.9695, 0.6786, 0.3720, 0.2418, 0.9101, 0.8218, 0.8739],\n",
       "        [0.4112, 0.5176, 0.4250, 0.9470, 0.6393, 0.4448, 0.2458]])"
      ]
     },
     "execution_count": 55,
     "metadata": {},
     "output_type": "execute_result"
    }
   ],
   "source": [
    "ar1 = torch.rand((4, 7))\n",
    "ar1"
   ]
  },
  {
   "cell_type": "code",
   "execution_count": 56,
   "metadata": {
    "ExecuteTime": {
     "end_time": "2022-10-19T22:56:06.227277Z",
     "start_time": "2022-10-19T22:56:06.203115Z"
    }
   },
   "outputs": [
    {
     "data": {
      "text/plain": [
       "tensor(8)"
      ]
     },
     "execution_count": 56,
     "metadata": {},
     "output_type": "execute_result"
    }
   ],
   "source": [
    "ar1.argmax()"
   ]
  },
  {
   "cell_type": "code",
   "execution_count": 57,
   "metadata": {
    "ExecuteTime": {
     "end_time": "2022-10-19T22:56:06.387307Z",
     "start_time": "2022-10-19T22:56:06.371236Z"
    }
   },
   "outputs": [],
   "source": [
    "indx = (ar1==torch.max(ar1)).nonzero()"
   ]
  },
  {
   "cell_type": "markdown",
   "metadata": {
    "id": "pYxX90B11RDL"
   },
   "source": [
    "1.3.13 Построить \"one-hot encoding\" для одномерного тензора, содержащего целые числа (длина вектора заранее неизвестна, набор значений заранее неизвестен, при этом в итоговой матрице должны присутствовать столбцы для всех натуральных чисел вплоть до максимального встречающегося в исходном массиве).\n",
    "\n",
    "Пример:\n",
    "\n",
    "для тензора `torch.tensor([2, 3, 2, 2, 2, 1])`.\n",
    "\n",
    "Ожидается результат:\n",
    "\n",
    "```python\n",
    "tensor([[0., 1., 0.],\n",
    "        [0., 0., 1.],\n",
    "        [0., 1., 0.],\n",
    "        [0., 1., 0.],\n",
    "        [0., 1., 0.],\n",
    "        [1., 0., 0.]])\n",
    "```"
   ]
  },
  {
   "cell_type": "code",
   "execution_count": 58,
   "metadata": {
    "ExecuteTime": {
     "end_time": "2022-10-19T22:56:06.709015Z",
     "start_time": "2022-10-19T22:56:06.693133Z"
    }
   },
   "outputs": [],
   "source": [
    "import torch.nn.functional as F\n",
    "def one_hot(t):\n",
    "    return F.one_hot(t)"
   ]
  },
  {
   "cell_type": "code",
   "execution_count": 59,
   "metadata": {
    "ExecuteTime": {
     "end_time": "2022-10-19T22:56:06.909253Z",
     "start_time": "2022-10-19T22:56:06.885721Z"
    }
   },
   "outputs": [
    {
     "data": {
      "text/plain": [
       "tensor([[0, 0, 1, 0],\n",
       "        [0, 0, 0, 1],\n",
       "        [0, 0, 1, 0],\n",
       "        [0, 0, 1, 0],\n",
       "        [0, 0, 1, 0],\n",
       "        [0, 1, 0, 0]])"
      ]
     },
     "execution_count": 59,
     "metadata": {},
     "output_type": "execute_result"
    }
   ],
   "source": [
    "one_hot(torch.tensor([2, 3, 2, 2, 2, 1]))"
   ]
  },
  {
   "cell_type": "markdown",
   "metadata": {
    "id": "GYU8DmNTDLN8"
   },
   "source": [
    "1.3.14 Создать тензор `arr` из 20 случайных целых чисел от 0 до 100. Найти самое частое значение в тензоре. \n",
    "Найти индексы в тензоре, соответствующие самому частому значению. Проверить, как работет алгоритм при двух значениях, имеющих наибольшую встречаемость, предложить приемлемое поведение алгоритма для этого случая. "
   ]
  },
  {
   "cell_type": "code",
   "execution_count": 60,
   "metadata": {
    "ExecuteTime": {
     "end_time": "2022-10-19T22:56:08.424274Z",
     "start_time": "2022-10-19T22:56:08.410092Z"
    },
    "scrolled": true
   },
   "outputs": [
    {
     "data": {
      "text/plain": [
       "tensor([[42, 98, 11, 69, 24,  1, 40, 56, 20, 78, 40, 22, 47, 91, 93, 79, 66, 12,\n",
       "         68, 68]])"
      ]
     },
     "execution_count": 60,
     "metadata": {},
     "output_type": "execute_result"
    }
   ],
   "source": [
    "arr = torch.randint(0, 100, (1, 20))\n",
    "arr"
   ]
  },
  {
   "cell_type": "code",
   "execution_count": 61,
   "metadata": {
    "ExecuteTime": {
     "end_time": "2022-10-19T22:56:08.595361Z",
     "start_time": "2022-10-19T22:56:08.587848Z"
    }
   },
   "outputs": [],
   "source": [
    "m, _ = arr[0].mode()"
   ]
  },
  {
   "cell_type": "code",
   "execution_count": 62,
   "metadata": {
    "ExecuteTime": {
     "end_time": "2022-10-19T22:56:08.791850Z",
     "start_time": "2022-10-19T22:56:08.774305Z"
    }
   },
   "outputs": [
    {
     "data": {
      "text/plain": [
       "tensor([40, 40])"
      ]
     },
     "execution_count": 62,
     "metadata": {},
     "output_type": "execute_result"
    }
   ],
   "source": [
    "arr[arr == m]"
   ]
  },
  {
   "cell_type": "code",
   "execution_count": 63,
   "metadata": {
    "ExecuteTime": {
     "end_time": "2022-10-19T22:56:08.980176Z",
     "start_time": "2022-10-19T22:56:08.968110Z"
    }
   },
   "outputs": [
    {
     "data": {
      "text/plain": [
       "tensor([[ 0,  6],\n",
       "        [ 0, 10]])"
      ]
     },
     "execution_count": 63,
     "metadata": {},
     "output_type": "execute_result"
    }
   ],
   "source": [
    "(arr==m).nonzero()"
   ]
  },
  {
   "cell_type": "markdown",
   "metadata": {
    "id": "UenAEfEG1RDN"
   },
   "source": [
    "## 1.4 Математические задачи"
   ]
  },
  {
   "cell_type": "markdown",
   "metadata": {
    "id": "6weDrqJR1RDN"
   },
   "source": [
    "1.4.1 Приблизительно (с погрешностью порядка 1%) рассчитать на какой части интервала от 0 до 10 значение функции x * sin(x) больше 0.5."
   ]
  },
  {
   "cell_type": "code",
   "execution_count": 64,
   "metadata": {
    "ExecuteTime": {
     "end_time": "2022-10-19T22:56:10.519179Z",
     "start_time": "2022-10-19T22:56:10.503166Z"
    }
   },
   "outputs": [
    {
     "data": {
      "text/plain": [
       "tensor([ 0.0000,  0.0102,  0.0405,  0.0904,  0.1588,  0.2444,  0.3452,  0.4593,\n",
       "         0.5842,  0.7172,  0.8554,  0.9958,  1.1350,  1.2698,  1.3968,  1.5128,\n",
       "         1.6145,  1.6988,  1.7628,  1.8039,  1.8196,  1.8079,  1.7672,  1.6960,\n",
       "         1.5937,  1.4597,  1.2943,  1.0979,  0.8717,  0.6172,  0.3365,  0.0322,\n",
       "        -0.2929, -0.6352, -0.9911, -1.3564, -1.7267, -2.0972, -2.4633, -2.8199,\n",
       "        -3.1620, -3.4845, -3.7825, -4.0511, -4.2859, -4.4823, -4.6364, -4.7446,\n",
       "        -4.8037, -4.8110, -4.7646, -4.6628, -4.5048, -4.2904, -4.0201, -3.6950,\n",
       "        -3.3171, -2.8888, -2.4135, -1.8950, -1.3379, -0.7472, -0.1287,  0.5114,\n",
       "         1.1667,  1.8300,  2.4943,  3.1521,  3.7958,  4.4177,  5.0103,  5.5663,\n",
       "         6.0784,  6.5396,  6.9437,  7.2844,  7.5565,  7.7552,  7.8764,  7.9167,\n",
       "         7.8738,  7.7461,  7.5328,  7.2342,  6.8517,  6.3872,  5.8440,  5.2262,\n",
       "         4.5387,  3.7874,  2.9791,  2.1211,  1.2217,  0.2896, -0.6657, -1.6346,\n",
       "        -2.6070, -3.5723, -4.5202, -5.4402])"
      ]
     },
     "execution_count": 64,
     "metadata": {},
     "output_type": "execute_result"
    }
   ],
   "source": [
    "x = torch.linspace(0, 10, 100)\n",
    "x * torch.sin(x)"
   ]
  },
  {
   "cell_type": "markdown",
   "metadata": {
    "id": "B9xAv8TR1RDN"
   },
   "source": [
    "1.4.2 Найти все простые числа в пределах ста. (Для решения предлагается использовать Решето Эратосфена) Использовать не более 1 цикла (желательно)."
   ]
  },
  {
   "cell_type": "code",
   "execution_count": 65,
   "metadata": {
    "ExecuteTime": {
     "end_time": "2022-10-19T22:56:10.884384Z",
     "start_time": "2022-10-19T22:56:10.867461Z"
    }
   },
   "outputs": [
    {
     "data": {
      "text/plain": [
       "array([ 2,  3,  5,  7, 11, 13, 17, 19, 23, 29, 31, 37, 41, 43, 47, 53, 59,\n",
       "       61, 67, 71, 73, 79, 83, 89, 97])"
      ]
     },
     "execution_count": 65,
     "metadata": {},
     "output_type": "execute_result"
    }
   ],
   "source": [
    "primes = torch.ones(100)\n",
    "for p in range(2, 100):\n",
    "    primes[2*p::p] = 0\n",
    "primes = np.arange(100)[primes == 1.][2:]  \n",
    "primes"
   ]
  },
  {
   "cell_type": "markdown",
   "metadata": {
    "id": "AHupFoTR1RDN"
   },
   "source": [
    "1.4.3 Найти евклидово расстояние между двумя одномерными тензорами одинаковой размерности, не используя готовые решения из библиотек."
   ]
  },
  {
   "cell_type": "code",
   "execution_count": 66,
   "metadata": {
    "ExecuteTime": {
     "end_time": "2022-10-19T22:56:12.303010Z",
     "start_time": "2022-10-19T22:56:12.295000Z"
    }
   },
   "outputs": [],
   "source": [
    "def e_dist(t1, t2):\n",
    "    square = torch.square(t1 - t2)\n",
    "    sum_square = torch.sum(square)\n",
    "    return torch.sqrt(sum_square)"
   ]
  },
  {
   "cell_type": "code",
   "execution_count": 67,
   "metadata": {
    "ExecuteTime": {
     "end_time": "2022-10-19T22:56:12.506867Z",
     "start_time": "2022-10-19T22:56:12.491230Z"
    }
   },
   "outputs": [
    {
     "data": {
      "text/plain": [
       "tensor(5.3852)"
      ]
     },
     "execution_count": 67,
     "metadata": {},
     "output_type": "execute_result"
    }
   ],
   "source": [
    "e_dist(torch.tensor((1, 2, 3)), torch.tensor((5, 5, 5)))"
   ]
  },
  {
   "cell_type": "markdown",
   "metadata": {
    "id": "j-ZvjWDKDVMQ"
   },
   "source": [
    "1.4.4 Создать двумерный тензор 20 на 3, содержащий случайные целые числа от 0 до 100. \n",
    "Интерпретируя тензор как 20 векторов из 3х компонент, отсортировать его по длине векторов."
   ]
  },
  {
   "cell_type": "code",
   "execution_count": 68,
   "metadata": {
    "ExecuteTime": {
     "end_time": "2022-10-19T22:56:12.871385Z",
     "start_time": "2022-10-19T22:56:12.850831Z"
    },
    "scrolled": true
   },
   "outputs": [
    {
     "data": {
      "text/plain": [
       "tensor([[29, 60, 31],\n",
       "        [53, 99, 74],\n",
       "        [99, 26, 39],\n",
       "        [54, 12, 27],\n",
       "        [29, 39, 54],\n",
       "        [57, 33, 58],\n",
       "        [59, 24, 20],\n",
       "        [79, 30, 66],\n",
       "        [24, 24, 96],\n",
       "        [13, 31, 25],\n",
       "        [70, 72, 99],\n",
       "        [95, 67, 67],\n",
       "        [89, 34, 80],\n",
       "        [ 4, 10, 33],\n",
       "        [12, 99,  1],\n",
       "        [ 1, 14, 81],\n",
       "        [44, 98, 83],\n",
       "        [84,  6, 92],\n",
       "        [30, 78, 53],\n",
       "        [62, 18, 27]])"
      ]
     },
     "execution_count": 68,
     "metadata": {},
     "output_type": "execute_result"
    }
   ],
   "source": [
    "arr = torch.randint(0, 100, (20, 3))\n",
    "arr"
   ]
  },
  {
   "cell_type": "code",
   "execution_count": 69,
   "metadata": {
    "ExecuteTime": {
     "end_time": "2022-10-19T22:56:13.074928Z",
     "start_time": "2022-10-19T22:56:13.066115Z"
    }
   },
   "outputs": [],
   "source": [
    "sort, indices = torch.sort(torch.sqrt(torch.sum(torch.square(arr), axis=1)))"
   ]
  },
  {
   "cell_type": "code",
   "execution_count": 70,
   "metadata": {
    "ExecuteTime": {
     "end_time": "2022-10-19T22:56:14.443441Z",
     "start_time": "2022-10-19T22:56:14.429673Z"
    }
   },
   "outputs": [
    {
     "data": {
      "text/plain": [
       "tensor([[ 4, 10, 33],\n",
       "        [13, 31, 25],\n",
       "        [54, 12, 27],\n",
       "        [59, 24, 20],\n",
       "        [62, 18, 27],\n",
       "        [29, 39, 54],\n",
       "        [29, 60, 31],\n",
       "        [ 1, 14, 81],\n",
       "        [57, 33, 58],\n",
       "        [30, 78, 53],\n",
       "        [12, 99,  1],\n",
       "        [24, 24, 96],\n",
       "        [79, 30, 66],\n",
       "        [99, 26, 39],\n",
       "        [89, 34, 80],\n",
       "        [84,  6, 92],\n",
       "        [95, 67, 67],\n",
       "        [53, 99, 74],\n",
       "        [44, 98, 83],\n",
       "        [70, 72, 99]])"
      ]
     },
     "execution_count": 70,
     "metadata": {},
     "output_type": "execute_result"
    }
   ],
   "source": [
    "arr[indices]"
   ]
  },
  {
   "cell_type": "markdown",
   "metadata": {
    "id": "IkBRFTKa1RDO"
   },
   "source": [
    "1.4.5 Найти \"локальные максимумы\" в одномерном тензоре (т.е. значения, большие предыдущего и последующего) `torch.tensor([1, 3, 7, 1, 2, 6, 0, 1])` и вывести их индексы."
   ]
  },
  {
   "cell_type": "code",
   "execution_count": 71,
   "metadata": {
    "ExecuteTime": {
     "end_time": "2022-10-19T22:56:14.873186Z",
     "start_time": "2022-10-19T22:56:14.849176Z"
    }
   },
   "outputs": [],
   "source": [
    "t = torch.tensor([1, 3, 7, 1, 2, 6, 0, 1])\n",
    "def func(t):\n",
    "    s = [i for i in range(1, len(t)-1) if (t[i] > t[i+1]) and (t[i] > t[i-1])]\n",
    "    return torch.tensor(s)"
   ]
  },
  {
   "cell_type": "code",
   "execution_count": 72,
   "metadata": {
    "ExecuteTime": {
     "end_time": "2022-10-19T22:56:16.167984Z",
     "start_time": "2022-10-19T22:56:16.152533Z"
    }
   },
   "outputs": [
    {
     "data": {
      "text/plain": [
       "tensor([2, 5])"
      ]
     },
     "execution_count": 72,
     "metadata": {},
     "output_type": "execute_result"
    }
   ],
   "source": [
    "func(t)"
   ]
  },
  {
   "cell_type": "markdown",
   "metadata": {
    "id": "VXD58rlc1RDP"
   },
   "source": [
    "1.4.6 Задан произвольный массив numpy (например массив из 100 случайных числе от 0 до 1). Необходимо найти в нем число наиболее близкое к заданному."
   ]
  },
  {
   "cell_type": "code",
   "execution_count": 73,
   "metadata": {
    "ExecuteTime": {
     "end_time": "2022-10-19T22:56:16.573810Z",
     "start_time": "2022-10-19T22:56:16.553173Z"
    }
   },
   "outputs": [],
   "source": [
    "arr = np.random.rand(100)\n",
    "num = 0.5"
   ]
  },
  {
   "cell_type": "code",
   "execution_count": 74,
   "metadata": {
    "ExecuteTime": {
     "end_time": "2022-10-19T22:56:17.847174Z",
     "start_time": "2022-10-19T22:56:17.823139Z"
    }
   },
   "outputs": [
    {
     "data": {
      "text/plain": [
       "0.49749594201295033"
      ]
     },
     "execution_count": 74,
     "metadata": {},
     "output_type": "execute_result"
    }
   ],
   "source": [
    "arr[np.argmin(abs(arr - num))]"
   ]
  },
  {
   "cell_type": "markdown",
   "metadata": {
    "id": "81F_B2ij1RDP"
   },
   "source": [
    "1.4.7 Решить матричное уравнение `A*X*B=-C` - найти матрицу X. Где `A = [[-1, 2, 4], [-3, 1, 2], [-3, 0, 1]]`, `B=[[3, -1], [2, 1]]`, `C=[[7, 21], [11, 8], [8, 4]]`."
   ]
  },
  {
   "cell_type": "markdown",
   "metadata": {
    "id": "1P7O19bj1RDP"
   },
   "source": [
    "1.4.8 Проверить, является ли система векторов a1 = (3; −3; 0; 7),\n",
    "a2 = (2; 2; 4; 7), a3 = (1; 2; 3; 4), a4 = (5; −4; 1; 3) линейно зависимой?"
   ]
  },
  {
   "cell_type": "markdown",
   "metadata": {
    "id": "Jg_bzMVS1RDQ"
   },
   "source": [
    "1.4.9 Сгенирировать тензор из 200 случайных целых чисел, нормально распрделенных cо стандартным отклонением $\\sigma = 10$ и матожиданием $\\mu = 0$. Построить тензор гистограммы с 20 бинами. "
   ]
  },
  {
   "cell_type": "code",
   "execution_count": 75,
   "metadata": {
    "ExecuteTime": {
     "end_time": "2022-10-19T22:56:18.879836Z",
     "start_time": "2022-10-19T22:56:18.859262Z"
    }
   },
   "outputs": [
    {
     "data": {
      "text/plain": [
       "tensor([-14.4412, -14.9124,   7.1257,   7.9426,  -6.6014, -11.4443,  -6.6941,\n",
       "         -0.1680,   0.6251,  -5.7832,  -9.2324, -15.5185,   7.4449,   8.4562,\n",
       "          8.8011,   3.7403,   8.0087, -13.2465, -20.8794,   1.5510,  -1.0465,\n",
       "        -15.6271,   2.6002, -10.0194,   7.5720,  -2.5025,  -1.6193, -15.6373,\n",
       "         18.1745,   3.9888,  -4.7732,  12.6635,   5.3864, -13.5833,  -4.4397,\n",
       "         -4.0485,  -3.5504, -11.7508,  -9.3413,  -1.3464,  -4.1704,  -2.3986,\n",
       "          9.5323,   8.0581, -16.4661,   0.8314,   3.0939, -13.4878,   0.9122,\n",
       "         -1.3885,  23.2987,  -1.4994,  -6.7582,   5.9175,   1.0332,  -8.4983,\n",
       "          6.8683, -12.1813,   2.9414, -13.2875,  -1.5103,  17.7771,   9.8941,\n",
       "         14.4845,   9.1656,   7.8342,   5.1590,  13.7916,  -2.0775,  11.1208,\n",
       "         -4.3110,  11.3785,   2.3491,  -5.5235,   5.6061,   8.4652, -11.1116,\n",
       "         -7.6945,   4.0703, -14.9799,  25.0274, -11.2391,  -7.3617,   5.0217,\n",
       "         25.5330,   1.5424,  -5.3994,  -9.0146,   9.9015,   5.2392,   3.8851,\n",
       "         -7.9331, -11.3384,  14.5537,  12.4244,  -0.6363,   4.4995,   8.0463,\n",
       "         21.2901, -11.0056,   4.2843,  -1.1312,  -0.6516,  -4.5438,   0.4405,\n",
       "         18.6213,  -3.9141,   2.9354,   4.7045,   7.2776,  12.1362,  13.5347,\n",
       "        -21.8167,  28.3424,   4.9901,   4.5291,   1.2030,  12.2898,   8.3083,\n",
       "         16.0214,   7.9174,  10.2693,  -6.2572,  -5.9599,   1.7933,  15.3128,\n",
       "         -4.9742,  -9.4715,  12.2464,   1.5695,   2.1177,   0.9412,  -4.2810,\n",
       "          4.0523,  -9.5898,  -4.9101,  -5.5802,   5.3007,  17.6888,  -9.2196,\n",
       "          9.4000, -15.5826,  -2.0772,  -7.8309,   5.3910,  11.5217,  -4.3444,\n",
       "          1.8646,  -9.5622,  -1.1022,   4.0656,  -0.2272,   3.2271,   9.5967,\n",
       "         10.1984,  18.7095,   0.0735, -19.6138,  -2.5384,  -1.2137,   3.8525,\n",
       "         11.7984,  11.9262, -26.0800,   1.7501,   7.0377,  -2.0651, -20.1925,\n",
       "         -6.5454,  -3.4229,   6.2467,  14.3901,   3.0429,  -8.6262,   4.6109,\n",
       "         -7.1033,   2.4136,  -7.3548,  -7.5542,  13.5196,  -3.6088,   5.6475,\n",
       "          3.9153,  -7.2827, -15.5299,   5.4250,   1.7628,   1.0031,  -4.7587,\n",
       "         12.0732,   2.4582,  -6.6294,   6.6384,   6.3020, -13.9867,  -0.5842,\n",
       "          0.3933,  -0.6832,  -5.1189,   6.6395])"
      ]
     },
     "execution_count": 75,
     "metadata": {},
     "output_type": "execute_result"
    }
   ],
   "source": [
    "t = torch.empty(200).normal_(mean=0, std=10)\n",
    "t"
   ]
  },
  {
   "cell_type": "code",
   "execution_count": 76,
   "metadata": {
    "ExecuteTime": {
     "end_time": "2022-10-19T22:56:20.149700Z",
     "start_time": "2022-10-19T22:56:20.134936Z"
    }
   },
   "outputs": [],
   "source": [
    "# import seaborn as sns\n",
    "# sns.kdeplot(t.numpy().tolist())"
   ]
  },
  {
   "cell_type": "code",
   "execution_count": null,
   "metadata": {},
   "outputs": [],
   "source": []
  }
 ],
 "metadata": {
  "colab": {
   "name": "01_tensor_v1_blank.ipynb",
   "provenance": [],
   "toc_visible": true
  },
  "kernelspec": {
   "display_name": "Python 3 (ipykernel)",
   "language": "python",
   "name": "python3"
  },
  "language_info": {
   "codemirror_mode": {
    "name": "ipython",
    "version": 3
   },
   "file_extension": ".py",
   "mimetype": "text/x-python",
   "name": "python",
   "nbconvert_exporter": "python",
   "pygments_lexer": "ipython3",
   "version": "3.7.4"
  },
  "toc": {
   "base_numbering": 1,
   "nav_menu": {},
   "number_sections": true,
   "sideBar": true,
   "skip_h1_title": false,
   "title_cell": "Table of Contents",
   "title_sidebar": "Contents",
   "toc_cell": false,
   "toc_position": {},
   "toc_section_display": true,
   "toc_window_display": false
  }
 },
 "nbformat": 4,
 "nbformat_minor": 1
}
